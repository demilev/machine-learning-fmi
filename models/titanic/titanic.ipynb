{
 "cells": [
  {
   "cell_type": "code",
   "execution_count": 1,
   "metadata": {},
   "outputs": [],
   "source": [
    "import numpy as np\n",
    "import matplotlib.pyplot as plt\n",
    "import pandas as pd\n",
    "import seaborn as sns\n",
    "import mglearn\n",
    "\n",
    "from IPython.display import display\n",
    "from sklearn.model_selection import train_test_split\n",
    "from sklearn.ensemble import RandomForestClassifier\n",
    "\n",
    "%matplotlib inline"
   ]
  },
  {
   "cell_type": "code",
   "execution_count": 2,
   "metadata": {},
   "outputs": [],
   "source": [
    "train = pd.read_csv('data\\\\titanic\\\\train.csv', index_col='PassengerId')"
   ]
  },
  {
   "cell_type": "code",
   "execution_count": 3,
   "metadata": {},
   "outputs": [],
   "source": [
    "def transform_data(data):\n",
    "    data = data.drop(['Ticket','Cabin'], axis=1)\n",
    "    data['Title'] = data.Name.str.extract('([A-Za-z]+)\\.', expand=False)\n",
    "    data.loc[data.Title == 'Mlle', 'Title'] = 'Miss'\n",
    "    data.loc[data.Title == 'Mme', 'Title']  = 'Mrs'\n",
    "    data.loc[data.Title == 'Ms', 'Title']   = 'Miss'\n",
    "    rare_titles = ['Dr', 'Rev', 'Col', 'Major', 'Countess', 'Don', 'Jonkheer', 'Capt', 'Lady', 'Sir']\n",
    "    data.Title = data.Title.replace(rare_titles, 'Rare')\n",
    "    age_by_title = data.groupby('Title').Age.mean()\n",
    "    data.loc[data.Age.isnull() & (data.Title == 'Mr'), 'Age'] = age_by_title['Mr']\n",
    "    data.loc[data.Age.isnull() & (data.Title == 'Mrs'), 'Age'] = age_by_title['Mrs']\n",
    "    data.loc[data.Age.isnull() & (data.Title == 'Miss'), 'Age'] = age_by_title['Miss']\n",
    "    data.loc[data.Age.isnull() & (data.Title == 'Master'), 'Age'] = age_by_title['Master']\n",
    "    data.loc[data.Age.isnull() & (data.Title == 'Rare'), 'Age'] = age_by_title['Rare']\n",
    "    data = data.drop(['Title','Name'], axis=1)\n",
    "    data.Embarked = data.Embarked.fillna('S')\n",
    "    data['EmbarkedC'] = (data.Embarked == 'C').astype(float)\n",
    "    data['EmbarkedQ'] = (data.Embarked == 'Q').astype(float)\n",
    "    data['EmbarkedS'] = (data.Embarked == 'S').astype(float)\n",
    "    data['Pclass1'] = (data.Pclass == 1).astype(float)\n",
    "    data['Pclass2'] = (data.Pclass == 2).astype(float)\n",
    "    data['Pclass3'] = (data.Pclass == 3).astype(float)\n",
    "    data['IsFemale']    = (data.Sex == 'female').astype(float)\n",
    "    data['IsMale']    = (data.Sex == 'male').astype(float)\n",
    "    data['FamilySize'] = data['Parch'] + data['SibSp'] + 1\n",
    "    data['IsChild'] = (data.Age < 18).astype(float)\n",
    "    data['IsAdult'] = ((18 <= data.Age) & (data.Age <= 60)).astype(float)\n",
    "    data['IsPensioner'] = (data.Age >= 60).astype(float)\n",
    "    data = data.drop(['Sex','Pclass','Embarked','Parch','SibSp','Age'], axis=1)\n",
    "    return data"
   ]
  },
  {
   "cell_type": "code",
   "execution_count": 4,
   "metadata": {},
   "outputs": [],
   "source": [
    "working_train = train.copy()"
   ]
  },
  {
   "cell_type": "code",
   "execution_count": 5,
   "metadata": {},
   "outputs": [],
   "source": [
    "working_train = transform_data(working_train)"
   ]
  },
  {
   "cell_type": "code",
   "execution_count": 6,
   "metadata": {},
   "outputs": [],
   "source": [
    "X = working_train.drop('Survived', axis=1)\n",
    "y = working_train['Survived']\n",
    "\n",
    "X_train, X_test, y_train, y_test = train_test_split(X, y, random_state=0, stratify=y)"
   ]
  },
  {
   "cell_type": "code",
   "execution_count": 7,
   "metadata": {},
   "outputs": [],
   "source": [
    "rfc = RandomForestClassifier(random_state=10, n_jobs=2, n_estimators=1000, min_samples_split=15).fit(X_train, y_train)"
   ]
  },
  {
   "cell_type": "code",
   "execution_count": 8,
   "metadata": {},
   "outputs": [],
   "source": [
    "test = pd.read_csv('data\\\\titanic\\\\test.csv', index_col='PassengerId')"
   ]
  },
  {
   "cell_type": "code",
   "execution_count": 9,
   "metadata": {},
   "outputs": [],
   "source": [
    "test = transform_data(test)"
   ]
  },
  {
   "cell_type": "code",
   "execution_count": 10,
   "metadata": {},
   "outputs": [],
   "source": [
    "test.Fare = test.Fare.fillna(test.Fare.mean())"
   ]
  },
  {
   "cell_type": "code",
   "execution_count": 11,
   "metadata": {},
   "outputs": [
    {
     "data": {
      "text/html": [
       "<div>\n",
       "<style>\n",
       "    .dataframe thead tr:only-child th {\n",
       "        text-align: right;\n",
       "    }\n",
       "\n",
       "    .dataframe thead th {\n",
       "        text-align: left;\n",
       "    }\n",
       "\n",
       "    .dataframe tbody tr th {\n",
       "        vertical-align: top;\n",
       "    }\n",
       "</style>\n",
       "<table border=\"1\" class=\"dataframe\">\n",
       "  <thead>\n",
       "    <tr style=\"text-align: right;\">\n",
       "      <th></th>\n",
       "      <th>Survived</th>\n",
       "    </tr>\n",
       "    <tr>\n",
       "      <th>PassengerId</th>\n",
       "      <th></th>\n",
       "    </tr>\n",
       "  </thead>\n",
       "  <tbody>\n",
       "    <tr>\n",
       "      <th>892</th>\n",
       "      <td>0</td>\n",
       "    </tr>\n",
       "    <tr>\n",
       "      <th>893</th>\n",
       "      <td>1</td>\n",
       "    </tr>\n",
       "    <tr>\n",
       "      <th>894</th>\n",
       "      <td>0</td>\n",
       "    </tr>\n",
       "    <tr>\n",
       "      <th>895</th>\n",
       "      <td>0</td>\n",
       "    </tr>\n",
       "    <tr>\n",
       "      <th>896</th>\n",
       "      <td>0</td>\n",
       "    </tr>\n",
       "  </tbody>\n",
       "</table>\n",
       "</div>"
      ],
      "text/plain": [
       "             Survived\n",
       "PassengerId          \n",
       "892                 0\n",
       "893                 1\n",
       "894                 0\n",
       "895                 0\n",
       "896                 0"
      ]
     },
     "execution_count": 11,
     "metadata": {},
     "output_type": "execute_result"
    }
   ],
   "source": [
    "predictions = rfc.predict(test)\n",
    "frame = pd.DataFrame({\n",
    "    'PassengerId': pd.read_csv('data\\\\titanic\\\\test.csv').PassengerId,\n",
    "    'Survived': predictions\n",
    "})\n",
    "frame = frame.set_index('PassengerId')\n",
    "frame.to_csv('data\\\\titanic\\\\predictions.csv')\n",
    "frame.head()"
   ]
  },
  {
   "cell_type": "code",
   "execution_count": null,
   "metadata": {},
   "outputs": [],
   "source": []
  }
 ],
 "metadata": {
  "kernelspec": {
   "display_name": "Python 3",
   "language": "python",
   "name": "python3"
  },
  "language_info": {
   "codemirror_mode": {
    "name": "ipython",
    "version": 3
   },
   "file_extension": ".py",
   "mimetype": "text/x-python",
   "name": "python",
   "nbconvert_exporter": "python",
   "pygments_lexer": "ipython3",
   "version": "3.6.3"
  }
 },
 "nbformat": 4,
 "nbformat_minor": 2
}
