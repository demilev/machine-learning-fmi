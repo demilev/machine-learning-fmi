{
 "cells": [
  {
   "cell_type": "code",
   "execution_count": 1,
   "metadata": {},
   "outputs": [],
   "source": [
    "import numpy as np\n",
    "import matplotlib.pyplot as plt\n",
    "import pandas as pd\n",
    "import seaborn as sns\n",
    "import mglearn\n",
    "\n",
    "from IPython.display import display\n",
    "from sklearn.model_selection import train_test_split\n",
    "from sklearn.ensemble import RandomForestClassifier\n",
    "\n",
    "%matplotlib inline"
   ]
  },
  {
   "cell_type": "code",
   "execution_count": 102,
   "metadata": {},
   "outputs": [],
   "source": [
    "train = pd.read_csv('data\\\\train.csv', index_col='PassengerId')"
   ]
  },
  {
   "cell_type": "markdown",
   "metadata": {},
   "source": [
    "За да подобря резултата на Стефан ще процедирам по следния начин:\n",
    "* ще взема на готово всичко, което той е направил\n",
    "* ще променя това, което не ми харесва в неговата работа\n",
    "* ще пробвам да почовъркам нещата, които той не засегна"
   ]
  },
  {
   "cell_type": "code",
   "execution_count": 103,
   "metadata": {},
   "outputs": [],
   "source": [
    "# правим работно копие на train set-a\n",
    "train_data = train.copy()"
   ]
  },
  {
   "cell_type": "markdown",
   "metadata": {},
   "source": [
    "Вземам на готово много разумното хрумване за създаването на колонката Title и попълването на липсващите възрасти чрез нея."
   ]
  },
  {
   "cell_type": "code",
   "execution_count": 104,
   "metadata": {},
   "outputs": [],
   "source": [
    "train_data['Title'] = train_data.Name.str.extract('([A-Za-z]+)\\.', expand=False)\n",
    "train_data.loc[train_data.Title == 'Mlle', 'Title'] = 'Miss'\n",
    "train_data.loc[train_data.Title == 'Mme', 'Title']  = 'Mrs'\n",
    "train_data.loc[train_data.Title == 'Ms', 'Title']   = 'Miss'\n",
    "\n",
    "rare_titles = ['Dr', 'Rev', 'Col', 'Major', 'Countess', 'Don', 'Jonkheer', 'Capt', 'Lady', 'Sir']\n",
    "train_data.Title = train_data.Title.replace(rare_titles, 'Rare')"
   ]
  },
  {
   "cell_type": "code",
   "execution_count": 105,
   "metadata": {},
   "outputs": [],
   "source": [
    "age_by_title = train_data.groupby('Title').Age.mean()\n",
    "train_data.loc[train_data.Age.isnull() & (train_data.Title == 'Mr'), 'Age'] = age_by_title['Mr']\n",
    "train_data.loc[train_data.Age.isnull() & (train_data.Title == 'Mrs'), 'Age'] = age_by_title['Mrs']\n",
    "train_data.loc[train_data.Age.isnull() & (train_data.Title == 'Miss'), 'Age'] = age_by_title['Miss']\n",
    "train_data.loc[train_data.Age.isnull() & (train_data.Title == 'Master'), 'Age'] = age_by_title['Master']\n",
    "train_data.loc[train_data.Age.isnull() & (train_data.Title == 'Rare'), 'Age'] = age_by_title['Rare']"
   ]
  },
  {
   "cell_type": "markdown",
   "metadata": {},
   "source": [
    "Попълвам и двете липсващи Embarked."
   ]
  },
  {
   "cell_type": "code",
   "execution_count": 106,
   "metadata": {},
   "outputs": [],
   "source": [
    "train_data.Embarked = train_data.Embarked.fillna('S')"
   ]
  },
  {
   "cell_type": "markdown",
   "metadata": {},
   "source": [
    "Добавяме FamilySize"
   ]
  },
  {
   "cell_type": "code",
   "execution_count": 107,
   "metadata": {},
   "outputs": [],
   "source": [
    "train_data['FamilySize'] = train_data['Parch'] + train_data['SibSp'] + 1"
   ]
  },
  {
   "cell_type": "markdown",
   "metadata": {},
   "source": [
    "От този момент нататък започват някои разминавания м/у моя подход и подхода на Стефан.\n",
    "\n",
    "Все пак drop-вам колоните Name, Ticket, SibSp и Parch."
   ]
  },
  {
   "cell_type": "code",
   "execution_count": 108,
   "metadata": {},
   "outputs": [],
   "source": [
    "train_data = train_data.drop(['Name','Ticket', 'SibSp', 'Parch'], axis=1)"
   ]
  },
  {
   "cell_type": "markdown",
   "metadata": {},
   "source": [
    "Да видим какво имаме."
   ]
  },
  {
   "cell_type": "code",
   "execution_count": 109,
   "metadata": {},
   "outputs": [
    {
     "data": {
      "text/html": [
       "<div>\n",
       "<style>\n",
       "    .dataframe thead tr:only-child th {\n",
       "        text-align: right;\n",
       "    }\n",
       "\n",
       "    .dataframe thead th {\n",
       "        text-align: left;\n",
       "    }\n",
       "\n",
       "    .dataframe tbody tr th {\n",
       "        vertical-align: top;\n",
       "    }\n",
       "</style>\n",
       "<table border=\"1\" class=\"dataframe\">\n",
       "  <thead>\n",
       "    <tr style=\"text-align: right;\">\n",
       "      <th></th>\n",
       "      <th>Survived</th>\n",
       "      <th>Pclass</th>\n",
       "      <th>Sex</th>\n",
       "      <th>Age</th>\n",
       "      <th>Fare</th>\n",
       "      <th>Cabin</th>\n",
       "      <th>Embarked</th>\n",
       "      <th>Title</th>\n",
       "      <th>FamilySize</th>\n",
       "    </tr>\n",
       "    <tr>\n",
       "      <th>PassengerId</th>\n",
       "      <th></th>\n",
       "      <th></th>\n",
       "      <th></th>\n",
       "      <th></th>\n",
       "      <th></th>\n",
       "      <th></th>\n",
       "      <th></th>\n",
       "      <th></th>\n",
       "      <th></th>\n",
       "    </tr>\n",
       "  </thead>\n",
       "  <tbody>\n",
       "    <tr>\n",
       "      <th>1</th>\n",
       "      <td>0</td>\n",
       "      <td>3</td>\n",
       "      <td>male</td>\n",
       "      <td>22.00000</td>\n",
       "      <td>7.2500</td>\n",
       "      <td>NaN</td>\n",
       "      <td>S</td>\n",
       "      <td>Mr</td>\n",
       "      <td>2</td>\n",
       "    </tr>\n",
       "    <tr>\n",
       "      <th>2</th>\n",
       "      <td>1</td>\n",
       "      <td>1</td>\n",
       "      <td>female</td>\n",
       "      <td>38.00000</td>\n",
       "      <td>71.2833</td>\n",
       "      <td>C85</td>\n",
       "      <td>C</td>\n",
       "      <td>Mrs</td>\n",
       "      <td>2</td>\n",
       "    </tr>\n",
       "    <tr>\n",
       "      <th>3</th>\n",
       "      <td>1</td>\n",
       "      <td>3</td>\n",
       "      <td>female</td>\n",
       "      <td>26.00000</td>\n",
       "      <td>7.9250</td>\n",
       "      <td>NaN</td>\n",
       "      <td>S</td>\n",
       "      <td>Miss</td>\n",
       "      <td>1</td>\n",
       "    </tr>\n",
       "    <tr>\n",
       "      <th>4</th>\n",
       "      <td>1</td>\n",
       "      <td>1</td>\n",
       "      <td>female</td>\n",
       "      <td>35.00000</td>\n",
       "      <td>53.1000</td>\n",
       "      <td>C123</td>\n",
       "      <td>S</td>\n",
       "      <td>Mrs</td>\n",
       "      <td>2</td>\n",
       "    </tr>\n",
       "    <tr>\n",
       "      <th>5</th>\n",
       "      <td>0</td>\n",
       "      <td>3</td>\n",
       "      <td>male</td>\n",
       "      <td>35.00000</td>\n",
       "      <td>8.0500</td>\n",
       "      <td>NaN</td>\n",
       "      <td>S</td>\n",
       "      <td>Mr</td>\n",
       "      <td>1</td>\n",
       "    </tr>\n",
       "    <tr>\n",
       "      <th>6</th>\n",
       "      <td>0</td>\n",
       "      <td>3</td>\n",
       "      <td>male</td>\n",
       "      <td>32.36809</td>\n",
       "      <td>8.4583</td>\n",
       "      <td>NaN</td>\n",
       "      <td>Q</td>\n",
       "      <td>Mr</td>\n",
       "      <td>1</td>\n",
       "    </tr>\n",
       "    <tr>\n",
       "      <th>7</th>\n",
       "      <td>0</td>\n",
       "      <td>1</td>\n",
       "      <td>male</td>\n",
       "      <td>54.00000</td>\n",
       "      <td>51.8625</td>\n",
       "      <td>E46</td>\n",
       "      <td>S</td>\n",
       "      <td>Mr</td>\n",
       "      <td>1</td>\n",
       "    </tr>\n",
       "    <tr>\n",
       "      <th>8</th>\n",
       "      <td>0</td>\n",
       "      <td>3</td>\n",
       "      <td>male</td>\n",
       "      <td>2.00000</td>\n",
       "      <td>21.0750</td>\n",
       "      <td>NaN</td>\n",
       "      <td>S</td>\n",
       "      <td>Master</td>\n",
       "      <td>5</td>\n",
       "    </tr>\n",
       "    <tr>\n",
       "      <th>9</th>\n",
       "      <td>1</td>\n",
       "      <td>3</td>\n",
       "      <td>female</td>\n",
       "      <td>27.00000</td>\n",
       "      <td>11.1333</td>\n",
       "      <td>NaN</td>\n",
       "      <td>S</td>\n",
       "      <td>Mrs</td>\n",
       "      <td>3</td>\n",
       "    </tr>\n",
       "    <tr>\n",
       "      <th>10</th>\n",
       "      <td>1</td>\n",
       "      <td>2</td>\n",
       "      <td>female</td>\n",
       "      <td>14.00000</td>\n",
       "      <td>30.0708</td>\n",
       "      <td>NaN</td>\n",
       "      <td>C</td>\n",
       "      <td>Mrs</td>\n",
       "      <td>2</td>\n",
       "    </tr>\n",
       "  </tbody>\n",
       "</table>\n",
       "</div>"
      ],
      "text/plain": [
       "             Survived  Pclass     Sex       Age     Fare Cabin Embarked  \\\n",
       "PassengerId                                                               \n",
       "1                   0       3    male  22.00000   7.2500   NaN        S   \n",
       "2                   1       1  female  38.00000  71.2833   C85        C   \n",
       "3                   1       3  female  26.00000   7.9250   NaN        S   \n",
       "4                   1       1  female  35.00000  53.1000  C123        S   \n",
       "5                   0       3    male  35.00000   8.0500   NaN        S   \n",
       "6                   0       3    male  32.36809   8.4583   NaN        Q   \n",
       "7                   0       1    male  54.00000  51.8625   E46        S   \n",
       "8                   0       3    male   2.00000  21.0750   NaN        S   \n",
       "9                   1       3  female  27.00000  11.1333   NaN        S   \n",
       "10                  1       2  female  14.00000  30.0708   NaN        C   \n",
       "\n",
       "              Title  FamilySize  \n",
       "PassengerId                      \n",
       "1                Mr           2  \n",
       "2               Mrs           2  \n",
       "3              Miss           1  \n",
       "4               Mrs           2  \n",
       "5                Mr           1  \n",
       "6                Mr           1  \n",
       "7                Mr           1  \n",
       "8            Master           5  \n",
       "9               Mrs           3  \n",
       "10              Mrs           2  "
      ]
     },
     "execution_count": 109,
     "metadata": {},
     "output_type": "execute_result"
    }
   ],
   "source": [
    "train_data.head(10)"
   ]
  },
  {
   "cell_type": "markdown",
   "metadata": {},
   "source": [
    "Ще махна и колоната Title, защото смятам, че тя свърши своята работа и оттук нататък си мисля, че само би обърквала модела(би трябвало Sex и Age да са достатъчни и дори по-показателни). Остава да реша и как ще процедирам с колонката Cabin. Нея я оставих, защото според мен има значение къде си бил на кораба. Също така ще запазя колоната Fare."
   ]
  },
  {
   "cell_type": "code",
   "execution_count": 110,
   "metadata": {},
   "outputs": [],
   "source": [
    "train_data = train_data.drop('Title', axis=1)"
   ]
  },
  {
   "cell_type": "markdown",
   "metadata": {},
   "source": [
    "Нека започнем разглеждането на Cabin."
   ]
  },
  {
   "cell_type": "code",
   "execution_count": 111,
   "metadata": {},
   "outputs": [
    {
     "data": {
      "text/plain": [
       "count         204\n",
       "unique        147\n",
       "top       B96 B98\n",
       "freq            4\n",
       "Name: Cabin, dtype: object"
      ]
     },
     "execution_count": 111,
     "metadata": {},
     "output_type": "execute_result"
    }
   ],
   "source": [
    "train_data.Cabin.describe()"
   ]
  },
  {
   "cell_type": "code",
   "execution_count": 112,
   "metadata": {},
   "outputs": [
    {
     "data": {
      "text/plain": [
       "B96 B98            4\n",
       "C23 C25 C27        4\n",
       "G6                 4\n",
       "F2                 3\n",
       "F33                3\n",
       "D                  3\n",
       "C22 C26            3\n",
       "E101               3\n",
       "B57 B59 B63 B66    2\n",
       "E67                2\n",
       "B58 B60            2\n",
       "B18                2\n",
       "C83                2\n",
       "D33                2\n",
       "C124               2\n",
       "F G73              2\n",
       "E24                2\n",
       "B49                2\n",
       "F4                 2\n",
       "D26                2\n",
       "E121               2\n",
       "C52                2\n",
       "C125               2\n",
       "B22                2\n",
       "D35                2\n",
       "B28                2\n",
       "C92                2\n",
       "C2                 2\n",
       "C65                2\n",
       "D17                2\n",
       "                  ..\n",
       "F G63              1\n",
       "A31                1\n",
       "A32                1\n",
       "E36                1\n",
       "C46                1\n",
       "A20                1\n",
       "E12                1\n",
       "E17                1\n",
       "A26                1\n",
       "C148               1\n",
       "C86                1\n",
       "E49                1\n",
       "C54                1\n",
       "D19                1\n",
       "C30                1\n",
       "B37                1\n",
       "C99                1\n",
       "B39                1\n",
       "D9                 1\n",
       "C50                1\n",
       "B3                 1\n",
       "B30                1\n",
       "C47                1\n",
       "A19                1\n",
       "B86                1\n",
       "D48                1\n",
       "D49                1\n",
       "D15                1\n",
       "C111               1\n",
       "B42                1\n",
       "Name: Cabin, Length: 147, dtype: int64"
      ]
     },
     "execution_count": 112,
     "metadata": {},
     "output_type": "execute_result"
    }
   ],
   "source": [
    "train_data.Cabin.value_counts()"
   ]
  },
  {
   "cell_type": "markdown",
   "metadata": {},
   "source": [
    "Виждаме нещо общо. Форматът на всички е главна латинска буква последвана от число. След бърза справка с [интернет](http://www.titanicandco.com/inside.html) виждаме, че буквичката отговаря за това на коя палуба е каютата. Ще я extract-нем в нова колонка."
   ]
  },
  {
   "cell_type": "code",
   "execution_count": 113,
   "metadata": {},
   "outputs": [],
   "source": [
    "train_data['Deck'] = train_data.Cabin.str.extract('([A-Z])[0-9]*', expand=False)"
   ]
  },
  {
   "cell_type": "code",
   "execution_count": 16,
   "metadata": {},
   "outputs": [
    {
     "data": {
      "text/plain": [
       "C    59\n",
       "B    47\n",
       "D    33\n",
       "E    32\n",
       "A    15\n",
       "F    13\n",
       "G     4\n",
       "T     1\n",
       "Name: Deck, dtype: int64"
      ]
     },
     "execution_count": 16,
     "metadata": {},
     "output_type": "execute_result"
    }
   ],
   "source": [
    "train_data.Deck.value_counts()"
   ]
  },
  {
   "cell_type": "code",
   "execution_count": 17,
   "metadata": {},
   "outputs": [
    {
     "data": {
      "text/plain": [
       "<matplotlib.axes._subplots.AxesSubplot at 0x9aa1512048>"
      ]
     },
     "execution_count": 17,
     "metadata": {},
     "output_type": "execute_result"
    },
    {
     "data": {
      "image/png": "[encoded data removed]",
      "text/plain": [
       "<matplotlib.figure.Figure at 0x9aa153a5f8>"
      ]
     },
     "metadata": {},
     "output_type": "display_data"
    }
   ],
   "source": [
    "sns.barplot(x='Deck', y='Survived', data=train_data)"
   ]
  },
  {
   "cell_type": "code",
   "execution_count": 18,
   "metadata": {},
   "outputs": [
    {
     "data": {
      "text/plain": [
       "<matplotlib.axes._subplots.AxesSubplot at 0x9aa171be80>"
      ]
     },
     "execution_count": 18,
     "metadata": {},
     "output_type": "execute_result"
    },
    {
     "data": {
      "image/png": "[encoded data removed]",
      "text/plain": [
       "<matplotlib.figure.Figure at 0x9aa1472f28>"
      ]
     },
     "metadata": {},
     "output_type": "display_data"
    }
   ],
   "source": [
    "sns.barplot(x='Deck', y='Survived', hue='Sex', data=train_data)"
   ]
  },
  {
   "cell_type": "markdown",
   "metadata": {},
   "source": [
    "Прогназата се оказа вярна. Хората от Deck F(Upper Deck) имат най-голям шанс да оцелеят, а тези от G(Middle Deck) - най-малък. Естествено записите с попълнен Deck са само 204 и не можем да правим някакви големи заключения, но все пак можем да забележим някои неща. Има само един запис от тип T затова не го вземам под внимание."
   ]
  },
  {
   "cell_type": "markdown",
   "metadata": {},
   "source": [
    "Остава обаче да решим как ще попълним останалите."
   ]
  },
  {
   "cell_type": "code",
   "execution_count": 19,
   "metadata": {},
   "outputs": [
    {
     "data": {
      "text/plain": [
       "<matplotlib.axes._subplots.AxesSubplot at 0x9aa1507b00>"
      ]
     },
     "execution_count": 19,
     "metadata": {},
     "output_type": "execute_result"
    },
    {
     "data": {
      "image/png": "[encoded data removed]",
      "text/plain": [
       "<matplotlib.figure.Figure at 0x9aa171f908>"
      ]
     },
     "metadata": {},
     "output_type": "display_data"
    }
   ],
   "source": [
    "sns.barplot(x='Deck', y='Fare', data=train_data)"
   ]
  },
  {
   "cell_type": "code",
   "execution_count": 20,
   "metadata": {},
   "outputs": [
    {
     "data": {
      "text/plain": [
       "<matplotlib.axes._subplots.AxesSubplot at 0x9aa1999da0>"
      ]
     },
     "execution_count": 20,
     "metadata": {},
     "output_type": "execute_result"
    },
    {
     "data": {
      "image/png": "[encoded data removed]",
      "text/plain": [
       "<matplotlib.figure.Figure at 0x9aa1936128>"
      ]
     },
     "metadata": {},
     "output_type": "display_data"
    }
   ],
   "source": [
    "sns.barplot(x='Deck', y='Pclass', data=train_data)"
   ]
  },
  {
   "cell_type": "markdown",
   "metadata": {},
   "source": [
    "Оказва се, че в Deck G основно са хора с билет за 3-та класа, а и билетите за този Deck са най-евтини. Може би има някаква връзка м/у цена/класа и Deck."
   ]
  },
  {
   "cell_type": "markdown",
   "metadata": {},
   "source": [
    "Сякаш единственото, което можем да направим е да натренираме модел, който да ни попълни празните Deck записи. Това е малко рисков ход, защото имаме само 204 попълнени записа."
   ]
  },
  {
   "cell_type": "markdown",
   "metadata": {},
   "source": [
    "Да видим дали от test set-a няма да можем да намерим още."
   ]
  },
  {
   "cell_type": "markdown",
   "metadata": {},
   "source": [
    "Но преди това да encode-нем по селския начин нещата в train set-a. Само ще ги \"LabelEncode-на\", защото смятам да използвам RF."
   ]
  },
  {
   "cell_type": "code",
   "execution_count": 114,
   "metadata": {},
   "outputs": [],
   "source": [
    "train_data['Sex']    = (train_data.Sex == 'male').astype(float) # 1 за мъж, 0 за жена\n",
    "embarked = {'C': 1, 'Q': 2, 'S': 3}\n",
    "train_data.Embarked = train_data.Embarked.apply(lambda x:embarked[x])"
   ]
  },
  {
   "cell_type": "markdown",
   "metadata": {},
   "source": [
    "Махаме и Cabin."
   ]
  },
  {
   "cell_type": "code",
   "execution_count": 115,
   "metadata": {},
   "outputs": [],
   "source": [
    "train_data = train_data.drop('Cabin', axis=1)"
   ]
  },
  {
   "cell_type": "markdown",
   "metadata": {},
   "source": [
    "Да видим какво ще намерим в тест сета."
   ]
  },
  {
   "cell_type": "code",
   "execution_count": 30,
   "metadata": {},
   "outputs": [],
   "source": [
    "test = pd.read_csv('data\\\\test.csv', index_col='PassengerId')"
   ]
  },
  {
   "cell_type": "code",
   "execution_count": 31,
   "metadata": {},
   "outputs": [
    {
     "data": {
      "text/plain": [
       "count                  91\n",
       "unique                 76\n",
       "top       B57 B59 B63 B66\n",
       "freq                    3\n",
       "Name: Cabin, dtype: object"
      ]
     },
     "execution_count": 31,
     "metadata": {},
     "output_type": "execute_result"
    }
   ],
   "source": [
    "test.Cabin.describe()"
   ]
  },
  {
   "cell_type": "markdown",
   "metadata": {},
   "source": [
    "Още 91 оттам. Общо 295. Не е зле, би трябвало да се получи нещо чат пат прилично."
   ]
  },
  {
   "cell_type": "markdown",
   "metadata": {},
   "source": [
    "Нека опитаме."
   ]
  },
  {
   "cell_type": "markdown",
   "metadata": {},
   "source": [
    "Първо прекарваме test set-a през всички трансформации до момента."
   ]
  },
  {
   "cell_type": "code",
   "execution_count": 32,
   "metadata": {},
   "outputs": [],
   "source": [
    "test_data = test.copy()\n",
    "test_data['Title'] = test_data.Name.str.extract('([A-Za-z]+)\\.', expand=False)\n",
    "test_data.loc[test_data.Title == 'Mlle', 'Title'] = 'Miss'\n",
    "test_data.loc[test_data.Title == 'Mme', 'Title']  = 'Mrs'\n",
    "test_data.loc[test_data.Title == 'Ms', 'Title']   = 'Miss'\n",
    "\n",
    "rare_titles = ['Dr', 'Rev', 'Col', 'Major', 'Countess', 'Don', 'Jonkheer', 'Capt', 'Lady', 'Sir']\n",
    "test_data.Title = test_data.Title.replace(rare_titles, 'Rare')\n",
    "\n",
    "age_by_title = test_data.groupby('Title').Age.mean()\n",
    "test_data.loc[test_data.Age.isnull() & (test_data.Title == 'Mr'), 'Age'] = age_by_title['Mr']\n",
    "test_data.loc[test_data.Age.isnull() & (test_data.Title == 'Mrs'), 'Age'] = age_by_title['Mrs']\n",
    "test_data.loc[test_data.Age.isnull() & (test_data.Title == 'Miss'), 'Age'] = age_by_title['Miss']\n",
    "test_data.loc[test_data.Age.isnull() & (test_data.Title == 'Master'), 'Age'] = age_by_title['Master']\n",
    "test_data.loc[test_data.Age.isnull() & (test_data.Title == 'Rare'), 'Age'] = age_by_title['Rare']\n",
    "\n",
    "test_data.Embarked = test_data.Embarked.fillna('S')\n",
    "test_data['FamilySize'] = test_data['Parch'] + test_data['SibSp'] + 1\n",
    "test_data = test_data.drop(['Name','Ticket', 'Title', 'Parch', 'SibSp'], axis=1)\n",
    "\n",
    "test_data['Sex'] = (test_data.Sex == 'male').astype(float) \n",
    "test_data.Embarked = test_data.Embarked.apply(lambda x:embarked[x])\n",
    "\n",
    "test_data['Deck'] = test_data.Cabin.str.extract('([A-Z])[0-9]*', expand=False)\n",
    "test_data = test_data.drop('Cabin', axis=1)"
   ]
  },
  {
   "cell_type": "code",
   "execution_count": 33,
   "metadata": {},
   "outputs": [
    {
     "data": {
      "text/html": [
       "<div>\n",
       "<style>\n",
       "    .dataframe thead tr:only-child th {\n",
       "        text-align: right;\n",
       "    }\n",
       "\n",
       "    .dataframe thead th {\n",
       "        text-align: left;\n",
       "    }\n",
       "\n",
       "    .dataframe tbody tr th {\n",
       "        vertical-align: top;\n",
       "    }\n",
       "</style>\n",
       "<table border=\"1\" class=\"dataframe\">\n",
       "  <thead>\n",
       "    <tr style=\"text-align: right;\">\n",
       "      <th></th>\n",
       "      <th>Pclass</th>\n",
       "      <th>Sex</th>\n",
       "      <th>Age</th>\n",
       "      <th>Fare</th>\n",
       "      <th>Embarked</th>\n",
       "      <th>FamilySize</th>\n",
       "      <th>Deck</th>\n",
       "    </tr>\n",
       "    <tr>\n",
       "      <th>PassengerId</th>\n",
       "      <th></th>\n",
       "      <th></th>\n",
       "      <th></th>\n",
       "      <th></th>\n",
       "      <th></th>\n",
       "      <th></th>\n",
       "      <th></th>\n",
       "    </tr>\n",
       "  </thead>\n",
       "  <tbody>\n",
       "    <tr>\n",
       "      <th>892</th>\n",
       "      <td>3</td>\n",
       "      <td>1.0</td>\n",
       "      <td>34.5</td>\n",
       "      <td>7.8292</td>\n",
       "      <td>2</td>\n",
       "      <td>1</td>\n",
       "      <td>NaN</td>\n",
       "    </tr>\n",
       "    <tr>\n",
       "      <th>893</th>\n",
       "      <td>3</td>\n",
       "      <td>0.0</td>\n",
       "      <td>47.0</td>\n",
       "      <td>7.0000</td>\n",
       "      <td>3</td>\n",
       "      <td>2</td>\n",
       "      <td>NaN</td>\n",
       "    </tr>\n",
       "    <tr>\n",
       "      <th>894</th>\n",
       "      <td>2</td>\n",
       "      <td>1.0</td>\n",
       "      <td>62.0</td>\n",
       "      <td>9.6875</td>\n",
       "      <td>2</td>\n",
       "      <td>1</td>\n",
       "      <td>NaN</td>\n",
       "    </tr>\n",
       "    <tr>\n",
       "      <th>895</th>\n",
       "      <td>3</td>\n",
       "      <td>1.0</td>\n",
       "      <td>27.0</td>\n",
       "      <td>8.6625</td>\n",
       "      <td>3</td>\n",
       "      <td>1</td>\n",
       "      <td>NaN</td>\n",
       "    </tr>\n",
       "    <tr>\n",
       "      <th>896</th>\n",
       "      <td>3</td>\n",
       "      <td>0.0</td>\n",
       "      <td>22.0</td>\n",
       "      <td>12.2875</td>\n",
       "      <td>3</td>\n",
       "      <td>3</td>\n",
       "      <td>NaN</td>\n",
       "    </tr>\n",
       "    <tr>\n",
       "      <th>897</th>\n",
       "      <td>3</td>\n",
       "      <td>1.0</td>\n",
       "      <td>14.0</td>\n",
       "      <td>9.2250</td>\n",
       "      <td>3</td>\n",
       "      <td>1</td>\n",
       "      <td>NaN</td>\n",
       "    </tr>\n",
       "    <tr>\n",
       "      <th>898</th>\n",
       "      <td>3</td>\n",
       "      <td>0.0</td>\n",
       "      <td>30.0</td>\n",
       "      <td>7.6292</td>\n",
       "      <td>2</td>\n",
       "      <td>1</td>\n",
       "      <td>NaN</td>\n",
       "    </tr>\n",
       "    <tr>\n",
       "      <th>899</th>\n",
       "      <td>2</td>\n",
       "      <td>1.0</td>\n",
       "      <td>26.0</td>\n",
       "      <td>29.0000</td>\n",
       "      <td>3</td>\n",
       "      <td>3</td>\n",
       "      <td>NaN</td>\n",
       "    </tr>\n",
       "    <tr>\n",
       "      <th>900</th>\n",
       "      <td>3</td>\n",
       "      <td>0.0</td>\n",
       "      <td>18.0</td>\n",
       "      <td>7.2292</td>\n",
       "      <td>1</td>\n",
       "      <td>1</td>\n",
       "      <td>NaN</td>\n",
       "    </tr>\n",
       "    <tr>\n",
       "      <th>901</th>\n",
       "      <td>3</td>\n",
       "      <td>1.0</td>\n",
       "      <td>21.0</td>\n",
       "      <td>24.1500</td>\n",
       "      <td>3</td>\n",
       "      <td>3</td>\n",
       "      <td>NaN</td>\n",
       "    </tr>\n",
       "  </tbody>\n",
       "</table>\n",
       "</div>"
      ],
      "text/plain": [
       "             Pclass  Sex   Age     Fare  Embarked  FamilySize Deck\n",
       "PassengerId                                                       \n",
       "892               3  1.0  34.5   7.8292         2           1  NaN\n",
       "893               3  0.0  47.0   7.0000         3           2  NaN\n",
       "894               2  1.0  62.0   9.6875         2           1  NaN\n",
       "895               3  1.0  27.0   8.6625         3           1  NaN\n",
       "896               3  0.0  22.0  12.2875         3           3  NaN\n",
       "897               3  1.0  14.0   9.2250         3           1  NaN\n",
       "898               3  0.0  30.0   7.6292         2           1  NaN\n",
       "899               2  1.0  26.0  29.0000         3           3  NaN\n",
       "900               3  0.0  18.0   7.2292         1           1  NaN\n",
       "901               3  1.0  21.0  24.1500         3           3  NaN"
      ]
     },
     "execution_count": 33,
     "metadata": {},
     "output_type": "execute_result"
    }
   ],
   "source": [
    "test_data.head(10)"
   ]
  },
  {
   "cell_type": "markdown",
   "metadata": {},
   "source": [
    "И сега да съберем всичко в едно."
   ]
  },
  {
   "cell_type": "code",
   "execution_count": 36,
   "metadata": {},
   "outputs": [],
   "source": [
    "train_deck_not_null = train_data.drop('Survived', axis=1)\n",
    "train_deck_not_null = train_deck_not_null[train_deck_not_null.Deck.notnull()]\n",
    "test_deck_not_null = test_data[test_data.Deck.notnull()]"
   ]
  },
  {
   "cell_type": "code",
   "execution_count": 37,
   "metadata": {},
   "outputs": [
    {
     "name": "stdout",
     "output_type": "stream",
     "text": [
      "(204, 7)\n",
      "(91, 7)\n"
     ]
    }
   ],
   "source": [
    "print(train_deck_not_null.shape)\n",
    "print(test_deck_not_null.shape)"
   ]
  },
  {
   "cell_type": "code",
   "execution_count": 39,
   "metadata": {},
   "outputs": [],
   "source": [
    "deck_not_null = pd.concat([train_deck_not_null, test_deck_not_null])"
   ]
  },
  {
   "cell_type": "code",
   "execution_count": 40,
   "metadata": {},
   "outputs": [
    {
     "data": {
      "text/plain": [
       "(295, 7)"
      ]
     },
     "execution_count": 40,
     "metadata": {},
     "output_type": "execute_result"
    }
   ],
   "source": [
    "deck_not_null.shape"
   ]
  },
  {
   "cell_type": "code",
   "execution_count": 41,
   "metadata": {},
   "outputs": [
    {
     "data": {
      "text/html": [
       "<div>\n",
       "<style>\n",
       "    .dataframe thead tr:only-child th {\n",
       "        text-align: right;\n",
       "    }\n",
       "\n",
       "    .dataframe thead th {\n",
       "        text-align: left;\n",
       "    }\n",
       "\n",
       "    .dataframe tbody tr th {\n",
       "        vertical-align: top;\n",
       "    }\n",
       "</style>\n",
       "<table border=\"1\" class=\"dataframe\">\n",
       "  <thead>\n",
       "    <tr style=\"text-align: right;\">\n",
       "      <th></th>\n",
       "      <th>Pclass</th>\n",
       "      <th>Sex</th>\n",
       "      <th>Age</th>\n",
       "      <th>Fare</th>\n",
       "      <th>Embarked</th>\n",
       "      <th>FamilySize</th>\n",
       "      <th>Deck</th>\n",
       "    </tr>\n",
       "    <tr>\n",
       "      <th>PassengerId</th>\n",
       "      <th></th>\n",
       "      <th></th>\n",
       "      <th></th>\n",
       "      <th></th>\n",
       "      <th></th>\n",
       "      <th></th>\n",
       "      <th></th>\n",
       "    </tr>\n",
       "  </thead>\n",
       "  <tbody>\n",
       "    <tr>\n",
       "      <th>2</th>\n",
       "      <td>1</td>\n",
       "      <td>0.0</td>\n",
       "      <td>38.000000</td>\n",
       "      <td>71.2833</td>\n",
       "      <td>1</td>\n",
       "      <td>2</td>\n",
       "      <td>C</td>\n",
       "    </tr>\n",
       "    <tr>\n",
       "      <th>4</th>\n",
       "      <td>1</td>\n",
       "      <td>0.0</td>\n",
       "      <td>35.000000</td>\n",
       "      <td>53.1000</td>\n",
       "      <td>3</td>\n",
       "      <td>2</td>\n",
       "      <td>C</td>\n",
       "    </tr>\n",
       "    <tr>\n",
       "      <th>7</th>\n",
       "      <td>1</td>\n",
       "      <td>1.0</td>\n",
       "      <td>54.000000</td>\n",
       "      <td>51.8625</td>\n",
       "      <td>3</td>\n",
       "      <td>1</td>\n",
       "      <td>E</td>\n",
       "    </tr>\n",
       "    <tr>\n",
       "      <th>11</th>\n",
       "      <td>3</td>\n",
       "      <td>0.0</td>\n",
       "      <td>4.000000</td>\n",
       "      <td>16.7000</td>\n",
       "      <td>3</td>\n",
       "      <td>3</td>\n",
       "      <td>G</td>\n",
       "    </tr>\n",
       "    <tr>\n",
       "      <th>12</th>\n",
       "      <td>1</td>\n",
       "      <td>0.0</td>\n",
       "      <td>58.000000</td>\n",
       "      <td>26.5500</td>\n",
       "      <td>3</td>\n",
       "      <td>1</td>\n",
       "      <td>C</td>\n",
       "    </tr>\n",
       "    <tr>\n",
       "      <th>22</th>\n",
       "      <td>2</td>\n",
       "      <td>1.0</td>\n",
       "      <td>34.000000</td>\n",
       "      <td>13.0000</td>\n",
       "      <td>3</td>\n",
       "      <td>1</td>\n",
       "      <td>D</td>\n",
       "    </tr>\n",
       "    <tr>\n",
       "      <th>24</th>\n",
       "      <td>1</td>\n",
       "      <td>1.0</td>\n",
       "      <td>28.000000</td>\n",
       "      <td>35.5000</td>\n",
       "      <td>3</td>\n",
       "      <td>1</td>\n",
       "      <td>A</td>\n",
       "    </tr>\n",
       "    <tr>\n",
       "      <th>28</th>\n",
       "      <td>1</td>\n",
       "      <td>1.0</td>\n",
       "      <td>19.000000</td>\n",
       "      <td>263.0000</td>\n",
       "      <td>3</td>\n",
       "      <td>6</td>\n",
       "      <td>C</td>\n",
       "    </tr>\n",
       "    <tr>\n",
       "      <th>32</th>\n",
       "      <td>1</td>\n",
       "      <td>0.0</td>\n",
       "      <td>35.788991</td>\n",
       "      <td>146.5208</td>\n",
       "      <td>1</td>\n",
       "      <td>2</td>\n",
       "      <td>B</td>\n",
       "    </tr>\n",
       "    <tr>\n",
       "      <th>53</th>\n",
       "      <td>1</td>\n",
       "      <td>0.0</td>\n",
       "      <td>49.000000</td>\n",
       "      <td>76.7292</td>\n",
       "      <td>1</td>\n",
       "      <td>2</td>\n",
       "      <td>D</td>\n",
       "    </tr>\n",
       "  </tbody>\n",
       "</table>\n",
       "</div>"
      ],
      "text/plain": [
       "             Pclass  Sex        Age      Fare  Embarked  FamilySize Deck\n",
       "PassengerId                                                             \n",
       "2                 1  0.0  38.000000   71.2833         1           2    C\n",
       "4                 1  0.0  35.000000   53.1000         3           2    C\n",
       "7                 1  1.0  54.000000   51.8625         3           1    E\n",
       "11                3  0.0   4.000000   16.7000         3           3    G\n",
       "12                1  0.0  58.000000   26.5500         3           1    C\n",
       "22                2  1.0  34.000000   13.0000         3           1    D\n",
       "24                1  1.0  28.000000   35.5000         3           1    A\n",
       "28                1  1.0  19.000000  263.0000         3           6    C\n",
       "32                1  0.0  35.788991  146.5208         1           2    B\n",
       "53                1  0.0  49.000000   76.7292         1           2    D"
      ]
     },
     "execution_count": 41,
     "metadata": {},
     "output_type": "execute_result"
    }
   ],
   "source": [
    "deck_not_null.head(10)"
   ]
  },
  {
   "cell_type": "markdown",
   "metadata": {},
   "source": [
    "Да encode-нем и Deck."
   ]
  },
  {
   "cell_type": "code",
   "execution_count": 42,
   "metadata": {},
   "outputs": [],
   "source": [
    "deck_not_null['Deck'] = deck_not_null['Deck'].apply(lambda x: ord(x[0]) - ord('A'))"
   ]
  },
  {
   "cell_type": "code",
   "execution_count": 43,
   "metadata": {},
   "outputs": [
    {
     "data": {
      "text/plain": [
       "2     94\n",
       "1     65\n",
       "3     46\n",
       "4     41\n",
       "0     22\n",
       "5     21\n",
       "6      5\n",
       "19     1\n",
       "Name: Deck, dtype: int64"
      ]
     },
     "execution_count": 43,
     "metadata": {},
     "output_type": "execute_result"
    }
   ],
   "source": [
    "deck_not_null.Deck.value_counts()"
   ]
  },
  {
   "cell_type": "markdown",
   "metadata": {},
   "source": [
    "Да натренираме модел."
   ]
  },
  {
   "cell_type": "code",
   "execution_count": 44,
   "metadata": {},
   "outputs": [],
   "source": [
    "X_cabin = deck_not_null.drop('Deck', axis=1)\n",
    "y_cabin = deck_not_null.Deck"
   ]
  },
  {
   "cell_type": "code",
   "execution_count": 51,
   "metadata": {},
   "outputs": [
    {
     "name": "stderr",
     "output_type": "stream",
     "text": [
      "c:\\program files\\python\\lib\\site-packages\\sklearn\\model_selection\\_split.py:597: Warning: The least populated class in y has only 1 members, which is too few. The minimum number of members in any class cannot be less than n_splits=3.\n",
      "  % (min_groups, self.n_splits)), Warning)\n"
     ]
    },
    {
     "data": {
      "text/html": [
       "<div>\n",
       "<style>\n",
       "    .dataframe thead tr:only-child th {\n",
       "        text-align: right;\n",
       "    }\n",
       "\n",
       "    .dataframe thead th {\n",
       "        text-align: left;\n",
       "    }\n",
       "\n",
       "    .dataframe tbody tr th {\n",
       "        vertical-align: top;\n",
       "    }\n",
       "</style>\n",
       "<table border=\"1\" class=\"dataframe\">\n",
       "  <thead>\n",
       "    <tr style=\"text-align: right;\">\n",
       "      <th></th>\n",
       "      <th>rank_test_score</th>\n",
       "      <th>mean_test_score</th>\n",
       "      <th>params</th>\n",
       "    </tr>\n",
       "  </thead>\n",
       "  <tbody>\n",
       "    <tr>\n",
       "      <th>108</th>\n",
       "      <td>1</td>\n",
       "      <td>0.532203</td>\n",
       "      <td>{'max_depth': 30, 'max_features': 5, 'min_samp...</td>\n",
       "    </tr>\n",
       "    <tr>\n",
       "      <th>76</th>\n",
       "      <td>2</td>\n",
       "      <td>0.528814</td>\n",
       "      <td>{'max_depth': 15, 'max_features': 5, 'min_samp...</td>\n",
       "    </tr>\n",
       "    <tr>\n",
       "      <th>104</th>\n",
       "      <td>3</td>\n",
       "      <td>0.525424</td>\n",
       "      <td>{'max_depth': 30, 'max_features': 4, 'min_samp...</td>\n",
       "    </tr>\n",
       "    <tr>\n",
       "      <th>72</th>\n",
       "      <td>4</td>\n",
       "      <td>0.515254</td>\n",
       "      <td>{'max_depth': 15, 'max_features': 4, 'min_samp...</td>\n",
       "    </tr>\n",
       "    <tr>\n",
       "      <th>92</th>\n",
       "      <td>4</td>\n",
       "      <td>0.515254</td>\n",
       "      <td>{'max_depth': 25, 'max_features': 5, 'min_samp...</td>\n",
       "    </tr>\n",
       "    <tr>\n",
       "      <th>88</th>\n",
       "      <td>6</td>\n",
       "      <td>0.511864</td>\n",
       "      <td>{'max_depth': 25, 'max_features': 4, 'min_samp...</td>\n",
       "    </tr>\n",
       "    <tr>\n",
       "      <th>77</th>\n",
       "      <td>7</td>\n",
       "      <td>0.508475</td>\n",
       "      <td>{'max_depth': 15, 'max_features': 5, 'min_samp...</td>\n",
       "    </tr>\n",
       "    <tr>\n",
       "      <th>89</th>\n",
       "      <td>7</td>\n",
       "      <td>0.508475</td>\n",
       "      <td>{'max_depth': 25, 'max_features': 4, 'min_samp...</td>\n",
       "    </tr>\n",
       "    <tr>\n",
       "      <th>105</th>\n",
       "      <td>9</td>\n",
       "      <td>0.505085</td>\n",
       "      <td>{'max_depth': 30, 'max_features': 4, 'min_samp...</td>\n",
       "    </tr>\n",
       "    <tr>\n",
       "      <th>84</th>\n",
       "      <td>10</td>\n",
       "      <td>0.501695</td>\n",
       "      <td>{'max_depth': 25, 'max_features': 3, 'min_samp...</td>\n",
       "    </tr>\n",
       "  </tbody>\n",
       "</table>\n",
       "</div>"
      ],
      "text/plain": [
       "     rank_test_score  mean_test_score  \\\n",
       "108                1         0.532203   \n",
       "76                 2         0.528814   \n",
       "104                3         0.525424   \n",
       "72                 4         0.515254   \n",
       "92                 4         0.515254   \n",
       "88                 6         0.511864   \n",
       "77                 7         0.508475   \n",
       "89                 7         0.508475   \n",
       "105                9         0.505085   \n",
       "84                10         0.501695   \n",
       "\n",
       "                                                params  \n",
       "108  {'max_depth': 30, 'max_features': 5, 'min_samp...  \n",
       "76   {'max_depth': 15, 'max_features': 5, 'min_samp...  \n",
       "104  {'max_depth': 30, 'max_features': 4, 'min_samp...  \n",
       "72   {'max_depth': 15, 'max_features': 4, 'min_samp...  \n",
       "92   {'max_depth': 25, 'max_features': 5, 'min_samp...  \n",
       "88   {'max_depth': 25, 'max_features': 4, 'min_samp...  \n",
       "77   {'max_depth': 15, 'max_features': 5, 'min_samp...  \n",
       "89   {'max_depth': 25, 'max_features': 4, 'min_samp...  \n",
       "105  {'max_depth': 30, 'max_features': 4, 'min_samp...  \n",
       "84   {'max_depth': 25, 'max_features': 3, 'min_samp...  "
      ]
     },
     "execution_count": 51,
     "metadata": {},
     "output_type": "execute_result"
    }
   ],
   "source": [
    "from sklearn.model_selection import GridSearchCV\n",
    "rfcl = RandomForestClassifier(n_jobs=4, n_estimators=70)\n",
    "search = GridSearchCV(rfcl, {\"max_depth\" : [1, 3, 4, 6, 15, 25, 30],\n",
    "                             \"max_features\": [2, 3, 4, 5],\n",
    "                             \"min_samples_leaf\" : [1, 2, 4, 6]})\n",
    "search.fit(X_cabin, y_cabin)\n",
    "\n",
    "pd.DataFrame(search.cv_results_)[['rank_test_score', 'mean_test_score', 'params']].sort_values(by='rank_test_score').head(10)"
   ]
  },
  {
   "cell_type": "code",
   "execution_count": 55,
   "metadata": {},
   "outputs": [],
   "source": [
    "results_frame = pd.DataFrame(search.cv_results_)[['rank_test_score', 'mean_test_score', 'params']].sort_values(by='rank_test_score')\n",
    "top = results_frame.loc[[108]]"
   ]
  },
  {
   "cell_type": "code",
   "execution_count": 59,
   "metadata": {},
   "outputs": [
    {
     "data": {
      "text/plain": [
       "{'max_depth': 30, 'max_features': 5, 'min_samples_leaf': 1}"
      ]
     },
     "execution_count": 59,
     "metadata": {},
     "output_type": "execute_result"
    }
   ],
   "source": [
    "top.params.iloc[0]"
   ]
  },
  {
   "cell_type": "markdown",
   "metadata": {},
   "source": [
    "Доооста слабичко.."
   ]
  },
  {
   "cell_type": "code",
   "execution_count": 60,
   "metadata": {},
   "outputs": [
    {
     "data": {
      "text/plain": [
       "<matplotlib.axes._subplots.AxesSubplot at 0x9aa269d860>"
      ]
     },
     "execution_count": 60,
     "metadata": {},
     "output_type": "execute_result"
    },
    {
     "data": {
      "image/png": "[encoded data removed]",
      "text/plain": [
       "<matplotlib.figure.Figure at 0x9aa16f2cc0>"
      ]
     },
     "metadata": {},
     "output_type": "display_data"
    }
   ],
   "source": [
    "sns.barplot(x='Deck', y='FamilySize',data=deck_not_null)"
   ]
  },
  {
   "cell_type": "code",
   "execution_count": 61,
   "metadata": {},
   "outputs": [
    {
     "data": {
      "text/plain": [
       "<matplotlib.axes._subplots.AxesSubplot at 0x9aa2fd2a20>"
      ]
     },
     "execution_count": 61,
     "metadata": {},
     "output_type": "execute_result"
    },
    {
     "data": {
      "image/png": "[encoded data removed]",
      "text/plain": [
       "<matplotlib.figure.Figure at 0x9aa2652fd0>"
      ]
     },
     "metadata": {},
     "output_type": "display_data"
    }
   ],
   "source": [
    "sns.barplot(x='Deck', y='Embarked',data=deck_not_null)"
   ]
  },
  {
   "cell_type": "code",
   "execution_count": 62,
   "metadata": {},
   "outputs": [
    {
     "data": {
      "text/plain": [
       "<matplotlib.axes._subplots.AxesSubplot at 0x9aa27a9b38>"
      ]
     },
     "execution_count": 62,
     "metadata": {},
     "output_type": "execute_result"
    },
    {
     "data": {
      "image/png": "[encoded data removed]",
      "text/plain": [
       "<matplotlib.figure.Figure at 0x9aa3212da0>"
      ]
     },
     "metadata": {},
     "output_type": "display_data"
    }
   ],
   "source": [
    "sns.barplot(x='Deck', y='Age',data=deck_not_null)"
   ]
  },
  {
   "cell_type": "code",
   "execution_count": 63,
   "metadata": {},
   "outputs": [
    {
     "data": {
      "text/plain": [
       "<matplotlib.axes._subplots.AxesSubplot at 0x9aa229a518>"
      ]
     },
     "execution_count": 63,
     "metadata": {},
     "output_type": "execute_result"
    },
    {
     "data": {
      "image/png": "[encoded data removed]",
      "text/plain": [
       "<matplotlib.figure.Figure at 0x9aa250bb70>"
      ]
     },
     "metadata": {},
     "output_type": "display_data"
    }
   ],
   "source": [
    "sns.barplot(x='Deck', y='Sex',data=deck_not_null)"
   ]
  },
  {
   "cell_type": "markdown",
   "metadata": {},
   "source": [
    "Ще махна Embarked и FamilySize и ще пробвам пак."
   ]
  },
  {
   "cell_type": "code",
   "execution_count": 64,
   "metadata": {},
   "outputs": [],
   "source": [
    "X_cabin = deck_not_null.drop(['Deck', 'Embarked', 'FamilySize'], axis=1)\n",
    "y_cabin = deck_not_null.Deck"
   ]
  },
  {
   "cell_type": "code",
   "execution_count": 69,
   "metadata": {},
   "outputs": [
    {
     "name": "stderr",
     "output_type": "stream",
     "text": [
      "c:\\program files\\python\\lib\\site-packages\\sklearn\\model_selection\\_split.py:597: Warning: The least populated class in y has only 1 members, which is too few. The minimum number of members in any class cannot be less than n_splits=3.\n",
      "  % (min_groups, self.n_splits)), Warning)\n"
     ]
    },
    {
     "name": "stdout",
     "output_type": "stream",
     "text": [
      "[ 0.41176471  0.44897959  0.4       ]\n",
      "Mean: 0.4202480992396958\n",
      "Std:  0.020876239703944758\n"
     ]
    }
   ],
   "source": [
    "from sklearn.model_selection import cross_val_score\n",
    "rfcl = RandomForestClassifier(n_jobs=4, n_estimators=70, max_depth=30, min_samples_leaf = 1)\n",
    "scores = cross_val_score(rfcl, X_cabin, y_cabin, cv=3, n_jobs=2)\n",
    "print(scores)\n",
    "print(\"Mean: {}\".format(scores.mean()))\n",
    "print(\"Std:  {}\".format(scores.std()))"
   ]
  },
  {
   "cell_type": "markdown",
   "metadata": {},
   "source": [
    "Още по-слабо. Връщам данните както си бяха и пробвам със SVM."
   ]
  },
  {
   "cell_type": "code",
   "execution_count": 74,
   "metadata": {},
   "outputs": [
    {
     "name": "stderr",
     "output_type": "stream",
     "text": [
      "c:\\program files\\python\\lib\\site-packages\\sklearn\\model_selection\\_split.py:597: Warning: The least populated class in y has only 1 members, which is too few. The minimum number of members in any class cannot be less than n_splits=3.\n",
      "  % (min_groups, self.n_splits)), Warning)\n"
     ]
    },
    {
     "data": {
      "text/html": [
       "<div>\n",
       "<style>\n",
       "    .dataframe thead tr:only-child th {\n",
       "        text-align: right;\n",
       "    }\n",
       "\n",
       "    .dataframe thead th {\n",
       "        text-align: left;\n",
       "    }\n",
       "\n",
       "    .dataframe tbody tr th {\n",
       "        vertical-align: top;\n",
       "    }\n",
       "</style>\n",
       "<table border=\"1\" class=\"dataframe\">\n",
       "  <thead>\n",
       "    <tr style=\"text-align: right;\">\n",
       "      <th></th>\n",
       "      <th>rank_test_score</th>\n",
       "      <th>mean_test_score</th>\n",
       "      <th>params</th>\n",
       "    </tr>\n",
       "  </thead>\n",
       "  <tbody>\n",
       "    <tr>\n",
       "      <th>2</th>\n",
       "      <td>1</td>\n",
       "      <td>0.406780</td>\n",
       "      <td>{'C': 1, 'gamma': 0.1, 'kernel': 'rbf'}</td>\n",
       "    </tr>\n",
       "    <tr>\n",
       "      <th>63</th>\n",
       "      <td>2</td>\n",
       "      <td>0.403390</td>\n",
       "      <td>{'C': 1000, 'gamma': 0.0001, 'kernel': 'sigmoid'}</td>\n",
       "    </tr>\n",
       "    <tr>\n",
       "      <th>22</th>\n",
       "      <td>2</td>\n",
       "      <td>0.403390</td>\n",
       "      <td>{'C': 10, 'gamma': 0.01, 'kernel': 'rbf'}</td>\n",
       "    </tr>\n",
       "    <tr>\n",
       "      <th>43</th>\n",
       "      <td>2</td>\n",
       "      <td>0.403390</td>\n",
       "      <td>{'C': 100, 'gamma': 0.001, 'kernel': 'sigmoid'}</td>\n",
       "    </tr>\n",
       "    <tr>\n",
       "      <th>23</th>\n",
       "      <td>5</td>\n",
       "      <td>0.400000</td>\n",
       "      <td>{'C': 10, 'gamma': 0.01, 'kernel': 'sigmoid'}</td>\n",
       "    </tr>\n",
       "    <tr>\n",
       "      <th>38</th>\n",
       "      <td>6</td>\n",
       "      <td>0.389831</td>\n",
       "      <td>{'C': 100, 'gamma': 0.01, 'kernel': 'rbf'}</td>\n",
       "    </tr>\n",
       "    <tr>\n",
       "      <th>42</th>\n",
       "      <td>6</td>\n",
       "      <td>0.389831</td>\n",
       "      <td>{'C': 100, 'gamma': 0.001, 'kernel': 'rbf'}</td>\n",
       "    </tr>\n",
       "    <tr>\n",
       "      <th>62</th>\n",
       "      <td>6</td>\n",
       "      <td>0.389831</td>\n",
       "      <td>{'C': 1000, 'gamma': 0.0001, 'kernel': 'rbf'}</td>\n",
       "    </tr>\n",
       "    <tr>\n",
       "      <th>54</th>\n",
       "      <td>9</td>\n",
       "      <td>0.379661</td>\n",
       "      <td>{'C': 1000, 'gamma': 0.01, 'kernel': 'rbf'}</td>\n",
       "    </tr>\n",
       "    <tr>\n",
       "      <th>53</th>\n",
       "      <td>9</td>\n",
       "      <td>0.379661</td>\n",
       "      <td>{'C': 1000, 'gamma': 0.01, 'kernel': 'poly'}</td>\n",
       "    </tr>\n",
       "  </tbody>\n",
       "</table>\n",
       "</div>"
      ],
      "text/plain": [
       "    rank_test_score  mean_test_score  \\\n",
       "2                 1         0.406780   \n",
       "63                2         0.403390   \n",
       "22                2         0.403390   \n",
       "43                2         0.403390   \n",
       "23                5         0.400000   \n",
       "38                6         0.389831   \n",
       "42                6         0.389831   \n",
       "62                6         0.389831   \n",
       "54                9         0.379661   \n",
       "53                9         0.379661   \n",
       "\n",
       "                                               params  \n",
       "2             {'C': 1, 'gamma': 0.1, 'kernel': 'rbf'}  \n",
       "63  {'C': 1000, 'gamma': 0.0001, 'kernel': 'sigmoid'}  \n",
       "22          {'C': 10, 'gamma': 0.01, 'kernel': 'rbf'}  \n",
       "43    {'C': 100, 'gamma': 0.001, 'kernel': 'sigmoid'}  \n",
       "23      {'C': 10, 'gamma': 0.01, 'kernel': 'sigmoid'}  \n",
       "38         {'C': 100, 'gamma': 0.01, 'kernel': 'rbf'}  \n",
       "42        {'C': 100, 'gamma': 0.001, 'kernel': 'rbf'}  \n",
       "62      {'C': 1000, 'gamma': 0.0001, 'kernel': 'rbf'}  \n",
       "54        {'C': 1000, 'gamma': 0.01, 'kernel': 'rbf'}  \n",
       "53       {'C': 1000, 'gamma': 0.01, 'kernel': 'poly'}  "
      ]
     },
     "execution_count": 74,
     "metadata": {},
     "output_type": "execute_result"
    }
   ],
   "source": [
    "from sklearn.svm import SVC\n",
    "from sklearn.preprocessing import StandardScaler\n",
    "X_cabin = deck_not_null.drop('Deck', axis=1)\n",
    "y_cabin = deck_not_null.Deck\n",
    "scaler = StandardScaler().fit(X_cabin)\n",
    "X_cabin_scaled = scaler.transform(X_cabin)\n",
    "param_grid = {  \"kernel\" : ['linear', 'poly', 'rbf', 'sigmoid'],\n",
    "                \"gamma\" : [1e-1, 1e-2, 1e-3, 1e-4],\n",
    "                \"C\" : [1, 10, 100, 1000]}\n",
    "search = GridSearchCV(SVC(), param_grid=param_grid)\n",
    "search.fit(X_cabin_scaled, y_cabin)\n",
    "\n",
    "pd.DataFrame(search.cv_results_)[['rank_test_score', 'mean_test_score', 'params']].sort_values(by='rank_test_score').head(10)"
   ]
  },
  {
   "cell_type": "markdown",
   "metadata": {},
   "source": [
    "Явно RF се справя най-добре."
   ]
  },
  {
   "cell_type": "markdown",
   "metadata": {},
   "source": [
    "Не получаваме особено добри резултати, но все пак ще използваме RF модел-a, за да си предвидим празните стойности. Може и да не получим нищо хубаво, но си струва да се пробва предвид хвърлените усилия."
   ]
  },
  {
   "cell_type": "code",
   "execution_count": 156,
   "metadata": {},
   "outputs": [
    {
     "data": {
      "text/plain": [
       "RandomForestClassifier(bootstrap=True, class_weight=None, criterion='gini',\n",
       "            max_depth=30, max_features=5, max_leaf_nodes=None,\n",
       "            min_impurity_decrease=0.0, min_impurity_split=None,\n",
       "            min_samples_leaf=1, min_samples_split=2,\n",
       "            min_weight_fraction_leaf=0.0, n_estimators=70, n_jobs=4,\n",
       "            oob_score=False, random_state=None, verbose=0,\n",
       "            warm_start=False)"
      ]
     },
     "execution_count": 156,
     "metadata": {},
     "output_type": "execute_result"
    }
   ],
   "source": [
    "rfcl = RandomForestClassifier(n_jobs=4, n_estimators=70, max_depth=30, max_features=5, min_samples_leaf=1)\n",
    "rfcl.fit(X_cabin, y_cabin)"
   ]
  },
  {
   "cell_type": "markdown",
   "metadata": {},
   "source": [
    "Да видим какво ще предвиди модела.\n",
    "\n",
    "Първо правим малко трансформации на данните, за да са във вид, в който очаква модела.\n",
    "Ще вземем стойностите с null Deck и ще им премахнем колоните Survived и Deck."
   ]
  },
  {
   "cell_type": "code",
   "execution_count": 130,
   "metadata": {},
   "outputs": [],
   "source": [
    "train_deck_null = train_data[train_data.Deck.isnull()]"
   ]
  },
  {
   "cell_type": "code",
   "execution_count": 131,
   "metadata": {},
   "outputs": [],
   "source": [
    "train_deck_null = train_deck_null.drop('Deck', axis=1)"
   ]
  },
  {
   "cell_type": "code",
   "execution_count": 132,
   "metadata": {},
   "outputs": [],
   "source": [
    "train_deck_null = train_deck_null.drop('Survived', axis=1)"
   ]
  },
  {
   "cell_type": "code",
   "execution_count": 133,
   "metadata": {},
   "outputs": [
    {
     "data": {
      "text/html": [
       "<div>\n",
       "<style>\n",
       "    .dataframe thead tr:only-child th {\n",
       "        text-align: right;\n",
       "    }\n",
       "\n",
       "    .dataframe thead th {\n",
       "        text-align: left;\n",
       "    }\n",
       "\n",
       "    .dataframe tbody tr th {\n",
       "        vertical-align: top;\n",
       "    }\n",
       "</style>\n",
       "<table border=\"1\" class=\"dataframe\">\n",
       "  <thead>\n",
       "    <tr style=\"text-align: right;\">\n",
       "      <th></th>\n",
       "      <th>Pclass</th>\n",
       "      <th>Sex</th>\n",
       "      <th>Age</th>\n",
       "      <th>Fare</th>\n",
       "      <th>Embarked</th>\n",
       "      <th>FamilySize</th>\n",
       "    </tr>\n",
       "    <tr>\n",
       "      <th>PassengerId</th>\n",
       "      <th></th>\n",
       "      <th></th>\n",
       "      <th></th>\n",
       "      <th></th>\n",
       "      <th></th>\n",
       "      <th></th>\n",
       "    </tr>\n",
       "  </thead>\n",
       "  <tbody>\n",
       "    <tr>\n",
       "      <th>1</th>\n",
       "      <td>3</td>\n",
       "      <td>1.0</td>\n",
       "      <td>22.00000</td>\n",
       "      <td>7.2500</td>\n",
       "      <td>3</td>\n",
       "      <td>2</td>\n",
       "    </tr>\n",
       "    <tr>\n",
       "      <th>3</th>\n",
       "      <td>3</td>\n",
       "      <td>0.0</td>\n",
       "      <td>26.00000</td>\n",
       "      <td>7.9250</td>\n",
       "      <td>3</td>\n",
       "      <td>1</td>\n",
       "    </tr>\n",
       "    <tr>\n",
       "      <th>5</th>\n",
       "      <td>3</td>\n",
       "      <td>1.0</td>\n",
       "      <td>35.00000</td>\n",
       "      <td>8.0500</td>\n",
       "      <td>3</td>\n",
       "      <td>1</td>\n",
       "    </tr>\n",
       "    <tr>\n",
       "      <th>6</th>\n",
       "      <td>3</td>\n",
       "      <td>1.0</td>\n",
       "      <td>32.36809</td>\n",
       "      <td>8.4583</td>\n",
       "      <td>2</td>\n",
       "      <td>1</td>\n",
       "    </tr>\n",
       "    <tr>\n",
       "      <th>8</th>\n",
       "      <td>3</td>\n",
       "      <td>1.0</td>\n",
       "      <td>2.00000</td>\n",
       "      <td>21.0750</td>\n",
       "      <td>3</td>\n",
       "      <td>5</td>\n",
       "    </tr>\n",
       "    <tr>\n",
       "      <th>9</th>\n",
       "      <td>3</td>\n",
       "      <td>0.0</td>\n",
       "      <td>27.00000</td>\n",
       "      <td>11.1333</td>\n",
       "      <td>3</td>\n",
       "      <td>3</td>\n",
       "    </tr>\n",
       "    <tr>\n",
       "      <th>10</th>\n",
       "      <td>2</td>\n",
       "      <td>0.0</td>\n",
       "      <td>14.00000</td>\n",
       "      <td>30.0708</td>\n",
       "      <td>1</td>\n",
       "      <td>2</td>\n",
       "    </tr>\n",
       "    <tr>\n",
       "      <th>13</th>\n",
       "      <td>3</td>\n",
       "      <td>1.0</td>\n",
       "      <td>20.00000</td>\n",
       "      <td>8.0500</td>\n",
       "      <td>3</td>\n",
       "      <td>1</td>\n",
       "    </tr>\n",
       "    <tr>\n",
       "      <th>14</th>\n",
       "      <td>3</td>\n",
       "      <td>1.0</td>\n",
       "      <td>39.00000</td>\n",
       "      <td>31.2750</td>\n",
       "      <td>3</td>\n",
       "      <td>7</td>\n",
       "    </tr>\n",
       "    <tr>\n",
       "      <th>15</th>\n",
       "      <td>3</td>\n",
       "      <td>0.0</td>\n",
       "      <td>14.00000</td>\n",
       "      <td>7.8542</td>\n",
       "      <td>3</td>\n",
       "      <td>1</td>\n",
       "    </tr>\n",
       "  </tbody>\n",
       "</table>\n",
       "</div>"
      ],
      "text/plain": [
       "             Pclass  Sex       Age     Fare  Embarked  FamilySize\n",
       "PassengerId                                                      \n",
       "1                 3  1.0  22.00000   7.2500         3           2\n",
       "3                 3  0.0  26.00000   7.9250         3           1\n",
       "5                 3  1.0  35.00000   8.0500         3           1\n",
       "6                 3  1.0  32.36809   8.4583         2           1\n",
       "8                 3  1.0   2.00000  21.0750         3           5\n",
       "9                 3  0.0  27.00000  11.1333         3           3\n",
       "10                2  0.0  14.00000  30.0708         1           2\n",
       "13                3  1.0  20.00000   8.0500         3           1\n",
       "14                3  1.0  39.00000  31.2750         3           7\n",
       "15                3  0.0  14.00000   7.8542         3           1"
      ]
     },
     "execution_count": 133,
     "metadata": {},
     "output_type": "execute_result"
    }
   ],
   "source": [
    "train_deck_null.head(10)"
   ]
  },
  {
   "cell_type": "markdown",
   "metadata": {},
   "source": [
    "Оставяме моделът да предвиди."
   ]
  },
  {
   "cell_type": "code",
   "execution_count": 134,
   "metadata": {},
   "outputs": [],
   "source": [
    "train_deck_predicted = pd.DataFrame({\n",
    "    'PassengerId': train_deck_null.index,\n",
    "    'Deck': rfcl.predict(train_deck_null)\n",
    "})"
   ]
  },
  {
   "cell_type": "code",
   "execution_count": 135,
   "metadata": {},
   "outputs": [],
   "source": [
    "train_deck_predicted = train_deck_predicted.set_index('PassengerId')"
   ]
  },
  {
   "cell_type": "markdown",
   "metadata": {},
   "source": [
    "Нека да видим какво е предвидил."
   ]
  },
  {
   "cell_type": "code",
   "execution_count": 136,
   "metadata": {},
   "outputs": [
    {
     "data": {
      "text/plain": [
       "5    484\n",
       "4     73\n",
       "3     57\n",
       "6     36\n",
       "2     21\n",
       "1      9\n",
       "0      7\n",
       "Name: Deck, dtype: int64"
      ]
     },
     "execution_count": 136,
     "metadata": {},
     "output_type": "execute_result"
    }
   ],
   "source": [
    "train_deck_predicted.Deck.value_counts()"
   ]
  },
  {
   "cell_type": "markdown",
   "metadata": {},
   "source": [
    "Като цяло може да се каже, че се провалих доста в това начинание и това можеше да се очаква, но все пак ще използвам тези предвиждания и ще видим какво ще стане. Ако е резултатите са слаби, просто ще махнем тази колона."
   ]
  },
  {
   "cell_type": "markdown",
   "metadata": {},
   "source": [
    "Сега малко игра с pandas, за да попълним тези предвидени стойности в train set-а."
   ]
  },
  {
   "cell_type": "code",
   "execution_count": 138,
   "metadata": {},
   "outputs": [
    {
     "data": {
      "text/html": [
       "<div>\n",
       "<style>\n",
       "    .dataframe thead tr:only-child th {\n",
       "        text-align: right;\n",
       "    }\n",
       "\n",
       "    .dataframe thead th {\n",
       "        text-align: left;\n",
       "    }\n",
       "\n",
       "    .dataframe tbody tr th {\n",
       "        vertical-align: top;\n",
       "    }\n",
       "</style>\n",
       "<table border=\"1\" class=\"dataframe\">\n",
       "  <thead>\n",
       "    <tr style=\"text-align: right;\">\n",
       "      <th></th>\n",
       "      <th>Survived</th>\n",
       "      <th>Pclass</th>\n",
       "      <th>Sex</th>\n",
       "      <th>Age</th>\n",
       "      <th>Fare</th>\n",
       "      <th>Embarked</th>\n",
       "      <th>FamilySize</th>\n",
       "      <th>Deck</th>\n",
       "    </tr>\n",
       "    <tr>\n",
       "      <th>PassengerId</th>\n",
       "      <th></th>\n",
       "      <th></th>\n",
       "      <th></th>\n",
       "      <th></th>\n",
       "      <th></th>\n",
       "      <th></th>\n",
       "      <th></th>\n",
       "      <th></th>\n",
       "    </tr>\n",
       "  </thead>\n",
       "  <tbody>\n",
       "    <tr>\n",
       "      <th>1</th>\n",
       "      <td>0</td>\n",
       "      <td>3</td>\n",
       "      <td>1.0</td>\n",
       "      <td>22.00000</td>\n",
       "      <td>7.2500</td>\n",
       "      <td>3</td>\n",
       "      <td>2</td>\n",
       "      <td>NaN</td>\n",
       "    </tr>\n",
       "    <tr>\n",
       "      <th>2</th>\n",
       "      <td>1</td>\n",
       "      <td>1</td>\n",
       "      <td>0.0</td>\n",
       "      <td>38.00000</td>\n",
       "      <td>71.2833</td>\n",
       "      <td>1</td>\n",
       "      <td>2</td>\n",
       "      <td>C</td>\n",
       "    </tr>\n",
       "    <tr>\n",
       "      <th>3</th>\n",
       "      <td>1</td>\n",
       "      <td>3</td>\n",
       "      <td>0.0</td>\n",
       "      <td>26.00000</td>\n",
       "      <td>7.9250</td>\n",
       "      <td>3</td>\n",
       "      <td>1</td>\n",
       "      <td>NaN</td>\n",
       "    </tr>\n",
       "    <tr>\n",
       "      <th>4</th>\n",
       "      <td>1</td>\n",
       "      <td>1</td>\n",
       "      <td>0.0</td>\n",
       "      <td>35.00000</td>\n",
       "      <td>53.1000</td>\n",
       "      <td>3</td>\n",
       "      <td>2</td>\n",
       "      <td>C</td>\n",
       "    </tr>\n",
       "    <tr>\n",
       "      <th>5</th>\n",
       "      <td>0</td>\n",
       "      <td>3</td>\n",
       "      <td>1.0</td>\n",
       "      <td>35.00000</td>\n",
       "      <td>8.0500</td>\n",
       "      <td>3</td>\n",
       "      <td>1</td>\n",
       "      <td>NaN</td>\n",
       "    </tr>\n",
       "    <tr>\n",
       "      <th>6</th>\n",
       "      <td>0</td>\n",
       "      <td>3</td>\n",
       "      <td>1.0</td>\n",
       "      <td>32.36809</td>\n",
       "      <td>8.4583</td>\n",
       "      <td>2</td>\n",
       "      <td>1</td>\n",
       "      <td>NaN</td>\n",
       "    </tr>\n",
       "    <tr>\n",
       "      <th>7</th>\n",
       "      <td>0</td>\n",
       "      <td>1</td>\n",
       "      <td>1.0</td>\n",
       "      <td>54.00000</td>\n",
       "      <td>51.8625</td>\n",
       "      <td>3</td>\n",
       "      <td>1</td>\n",
       "      <td>E</td>\n",
       "    </tr>\n",
       "    <tr>\n",
       "      <th>8</th>\n",
       "      <td>0</td>\n",
       "      <td>3</td>\n",
       "      <td>1.0</td>\n",
       "      <td>2.00000</td>\n",
       "      <td>21.0750</td>\n",
       "      <td>3</td>\n",
       "      <td>5</td>\n",
       "      <td>NaN</td>\n",
       "    </tr>\n",
       "    <tr>\n",
       "      <th>9</th>\n",
       "      <td>1</td>\n",
       "      <td>3</td>\n",
       "      <td>0.0</td>\n",
       "      <td>27.00000</td>\n",
       "      <td>11.1333</td>\n",
       "      <td>3</td>\n",
       "      <td>3</td>\n",
       "      <td>NaN</td>\n",
       "    </tr>\n",
       "    <tr>\n",
       "      <th>10</th>\n",
       "      <td>1</td>\n",
       "      <td>2</td>\n",
       "      <td>0.0</td>\n",
       "      <td>14.00000</td>\n",
       "      <td>30.0708</td>\n",
       "      <td>1</td>\n",
       "      <td>2</td>\n",
       "      <td>NaN</td>\n",
       "    </tr>\n",
       "  </tbody>\n",
       "</table>\n",
       "</div>"
      ],
      "text/plain": [
       "             Survived  Pclass  Sex       Age     Fare  Embarked  FamilySize  \\\n",
       "PassengerId                                                                   \n",
       "1                   0       3  1.0  22.00000   7.2500         3           2   \n",
       "2                   1       1  0.0  38.00000  71.2833         1           2   \n",
       "3                   1       3  0.0  26.00000   7.9250         3           1   \n",
       "4                   1       1  0.0  35.00000  53.1000         3           2   \n",
       "5                   0       3  1.0  35.00000   8.0500         3           1   \n",
       "6                   0       3  1.0  32.36809   8.4583         2           1   \n",
       "7                   0       1  1.0  54.00000  51.8625         3           1   \n",
       "8                   0       3  1.0   2.00000  21.0750         3           5   \n",
       "9                   1       3  0.0  27.00000  11.1333         3           3   \n",
       "10                  1       2  0.0  14.00000  30.0708         1           2   \n",
       "\n",
       "            Deck  \n",
       "PassengerId       \n",
       "1            NaN  \n",
       "2              C  \n",
       "3            NaN  \n",
       "4              C  \n",
       "5            NaN  \n",
       "6            NaN  \n",
       "7              E  \n",
       "8            NaN  \n",
       "9            NaN  \n",
       "10           NaN  "
      ]
     },
     "execution_count": 138,
     "metadata": {},
     "output_type": "execute_result"
    }
   ],
   "source": [
    "train_data.head(10)"
   ]
  },
  {
   "cell_type": "code",
   "execution_count": 140,
   "metadata": {},
   "outputs": [],
   "source": [
    "train_data.Deck = train_data.Deck[train_data.Deck.notnull()].apply(lambda x: ord(x[0]) - ord('A'))"
   ]
  },
  {
   "cell_type": "code",
   "execution_count": 145,
   "metadata": {},
   "outputs": [],
   "source": [
    "train_data = train_data.combine_first(train_deck_predicted)"
   ]
  },
  {
   "cell_type": "code",
   "execution_count": 146,
   "metadata": {},
   "outputs": [
    {
     "data": {
      "text/html": [
       "<div>\n",
       "<style>\n",
       "    .dataframe thead tr:only-child th {\n",
       "        text-align: right;\n",
       "    }\n",
       "\n",
       "    .dataframe thead th {\n",
       "        text-align: left;\n",
       "    }\n",
       "\n",
       "    .dataframe tbody tr th {\n",
       "        vertical-align: top;\n",
       "    }\n",
       "</style>\n",
       "<table border=\"1\" class=\"dataframe\">\n",
       "  <thead>\n",
       "    <tr style=\"text-align: right;\">\n",
       "      <th></th>\n",
       "      <th>Age</th>\n",
       "      <th>Deck</th>\n",
       "      <th>Embarked</th>\n",
       "      <th>FamilySize</th>\n",
       "      <th>Fare</th>\n",
       "      <th>Pclass</th>\n",
       "      <th>Sex</th>\n",
       "      <th>Survived</th>\n",
       "    </tr>\n",
       "    <tr>\n",
       "      <th>PassengerId</th>\n",
       "      <th></th>\n",
       "      <th></th>\n",
       "      <th></th>\n",
       "      <th></th>\n",
       "      <th></th>\n",
       "      <th></th>\n",
       "      <th></th>\n",
       "      <th></th>\n",
       "    </tr>\n",
       "  </thead>\n",
       "  <tbody>\n",
       "    <tr>\n",
       "      <th>1</th>\n",
       "      <td>22.00000</td>\n",
       "      <td>5.0</td>\n",
       "      <td>3</td>\n",
       "      <td>2</td>\n",
       "      <td>7.2500</td>\n",
       "      <td>3</td>\n",
       "      <td>1.0</td>\n",
       "      <td>0</td>\n",
       "    </tr>\n",
       "    <tr>\n",
       "      <th>2</th>\n",
       "      <td>38.00000</td>\n",
       "      <td>2.0</td>\n",
       "      <td>1</td>\n",
       "      <td>2</td>\n",
       "      <td>71.2833</td>\n",
       "      <td>1</td>\n",
       "      <td>0.0</td>\n",
       "      <td>1</td>\n",
       "    </tr>\n",
       "    <tr>\n",
       "      <th>3</th>\n",
       "      <td>26.00000</td>\n",
       "      <td>5.0</td>\n",
       "      <td>3</td>\n",
       "      <td>1</td>\n",
       "      <td>7.9250</td>\n",
       "      <td>3</td>\n",
       "      <td>0.0</td>\n",
       "      <td>1</td>\n",
       "    </tr>\n",
       "    <tr>\n",
       "      <th>4</th>\n",
       "      <td>35.00000</td>\n",
       "      <td>2.0</td>\n",
       "      <td>3</td>\n",
       "      <td>2</td>\n",
       "      <td>53.1000</td>\n",
       "      <td>1</td>\n",
       "      <td>0.0</td>\n",
       "      <td>1</td>\n",
       "    </tr>\n",
       "    <tr>\n",
       "      <th>5</th>\n",
       "      <td>35.00000</td>\n",
       "      <td>5.0</td>\n",
       "      <td>3</td>\n",
       "      <td>1</td>\n",
       "      <td>8.0500</td>\n",
       "      <td>3</td>\n",
       "      <td>1.0</td>\n",
       "      <td>0</td>\n",
       "    </tr>\n",
       "    <tr>\n",
       "      <th>6</th>\n",
       "      <td>32.36809</td>\n",
       "      <td>5.0</td>\n",
       "      <td>2</td>\n",
       "      <td>1</td>\n",
       "      <td>8.4583</td>\n",
       "      <td>3</td>\n",
       "      <td>1.0</td>\n",
       "      <td>0</td>\n",
       "    </tr>\n",
       "    <tr>\n",
       "      <th>7</th>\n",
       "      <td>54.00000</td>\n",
       "      <td>4.0</td>\n",
       "      <td>3</td>\n",
       "      <td>1</td>\n",
       "      <td>51.8625</td>\n",
       "      <td>1</td>\n",
       "      <td>1.0</td>\n",
       "      <td>0</td>\n",
       "    </tr>\n",
       "    <tr>\n",
       "      <th>8</th>\n",
       "      <td>2.00000</td>\n",
       "      <td>5.0</td>\n",
       "      <td>3</td>\n",
       "      <td>5</td>\n",
       "      <td>21.0750</td>\n",
       "      <td>3</td>\n",
       "      <td>1.0</td>\n",
       "      <td>0</td>\n",
       "    </tr>\n",
       "    <tr>\n",
       "      <th>9</th>\n",
       "      <td>27.00000</td>\n",
       "      <td>6.0</td>\n",
       "      <td>3</td>\n",
       "      <td>3</td>\n",
       "      <td>11.1333</td>\n",
       "      <td>3</td>\n",
       "      <td>0.0</td>\n",
       "      <td>1</td>\n",
       "    </tr>\n",
       "    <tr>\n",
       "      <th>10</th>\n",
       "      <td>14.00000</td>\n",
       "      <td>5.0</td>\n",
       "      <td>1</td>\n",
       "      <td>2</td>\n",
       "      <td>30.0708</td>\n",
       "      <td>2</td>\n",
       "      <td>0.0</td>\n",
       "      <td>1</td>\n",
       "    </tr>\n",
       "  </tbody>\n",
       "</table>\n",
       "</div>"
      ],
      "text/plain": [
       "                  Age  Deck  Embarked  FamilySize     Fare  Pclass  Sex  \\\n",
       "PassengerId                                                               \n",
       "1            22.00000   5.0         3           2   7.2500       3  1.0   \n",
       "2            38.00000   2.0         1           2  71.2833       1  0.0   \n",
       "3            26.00000   5.0         3           1   7.9250       3  0.0   \n",
       "4            35.00000   2.0         3           2  53.1000       1  0.0   \n",
       "5            35.00000   5.0         3           1   8.0500       3  1.0   \n",
       "6            32.36809   5.0         2           1   8.4583       3  1.0   \n",
       "7            54.00000   4.0         3           1  51.8625       1  1.0   \n",
       "8             2.00000   5.0         3           5  21.0750       3  1.0   \n",
       "9            27.00000   6.0         3           3  11.1333       3  0.0   \n",
       "10           14.00000   5.0         1           2  30.0708       2  0.0   \n",
       "\n",
       "             Survived  \n",
       "PassengerId            \n",
       "1                   0  \n",
       "2                   1  \n",
       "3                   1  \n",
       "4                   1  \n",
       "5                   0  \n",
       "6                   0  \n",
       "7                   0  \n",
       "8                   0  \n",
       "9                   1  \n",
       "10                  1  "
      ]
     },
     "execution_count": 146,
     "metadata": {},
     "output_type": "execute_result"
    }
   ],
   "source": [
    "train_data.head(10)"
   ]
  },
  {
   "cell_type": "markdown",
   "metadata": {},
   "source": [
    "Нека тренираме модел и да се надяваме, че ще имаме успех."
   ]
  },
  {
   "cell_type": "code",
   "execution_count": 180,
   "metadata": {},
   "outputs": [
    {
     "data": {
      "text/html": [
       "<div>\n",
       "<style>\n",
       "    .dataframe thead tr:only-child th {\n",
       "        text-align: right;\n",
       "    }\n",
       "\n",
       "    .dataframe thead th {\n",
       "        text-align: left;\n",
       "    }\n",
       "\n",
       "    .dataframe tbody tr th {\n",
       "        vertical-align: top;\n",
       "    }\n",
       "</style>\n",
       "<table border=\"1\" class=\"dataframe\">\n",
       "  <thead>\n",
       "    <tr style=\"text-align: right;\">\n",
       "      <th></th>\n",
       "      <th>rank_test_score</th>\n",
       "      <th>mean_test_score</th>\n",
       "      <th>params</th>\n",
       "    </tr>\n",
       "  </thead>\n",
       "  <tbody>\n",
       "    <tr>\n",
       "      <th>44</th>\n",
       "      <td>1</td>\n",
       "      <td>0.831650</td>\n",
       "      <td>{'max_depth': 6, 'max_features': 6, 'min_sampl...</td>\n",
       "    </tr>\n",
       "    <tr>\n",
       "      <th>74</th>\n",
       "      <td>2</td>\n",
       "      <td>0.830527</td>\n",
       "      <td>{'max_depth': 30, 'max_features': 4, 'min_samp...</td>\n",
       "    </tr>\n",
       "    <tr>\n",
       "      <th>58</th>\n",
       "      <td>2</td>\n",
       "      <td>0.830527</td>\n",
       "      <td>{'max_depth': 15, 'max_features': 6, 'min_samp...</td>\n",
       "    </tr>\n",
       "    <tr>\n",
       "      <th>36</th>\n",
       "      <td>4</td>\n",
       "      <td>0.829405</td>\n",
       "      <td>{'max_depth': 6, 'max_features': 4, 'min_sampl...</td>\n",
       "    </tr>\n",
       "    <tr>\n",
       "      <th>70</th>\n",
       "      <td>4</td>\n",
       "      <td>0.829405</td>\n",
       "      <td>{'max_depth': 25, 'max_features': 6, 'min_samp...</td>\n",
       "    </tr>\n",
       "    <tr>\n",
       "      <th>69</th>\n",
       "      <td>4</td>\n",
       "      <td>0.829405</td>\n",
       "      <td>{'max_depth': 25, 'max_features': 6, 'min_samp...</td>\n",
       "    </tr>\n",
       "    <tr>\n",
       "      <th>50</th>\n",
       "      <td>7</td>\n",
       "      <td>0.828283</td>\n",
       "      <td>{'max_depth': 15, 'max_features': 4, 'min_samp...</td>\n",
       "    </tr>\n",
       "    <tr>\n",
       "      <th>51</th>\n",
       "      <td>7</td>\n",
       "      <td>0.828283</td>\n",
       "      <td>{'max_depth': 15, 'max_features': 4, 'min_samp...</td>\n",
       "    </tr>\n",
       "    <tr>\n",
       "      <th>61</th>\n",
       "      <td>9</td>\n",
       "      <td>0.827160</td>\n",
       "      <td>{'max_depth': 25, 'max_features': 4, 'min_samp...</td>\n",
       "    </tr>\n",
       "    <tr>\n",
       "      <th>54</th>\n",
       "      <td>9</td>\n",
       "      <td>0.827160</td>\n",
       "      <td>{'max_depth': 15, 'max_features': 5, 'min_samp...</td>\n",
       "    </tr>\n",
       "  </tbody>\n",
       "</table>\n",
       "</div>"
      ],
      "text/plain": [
       "    rank_test_score  mean_test_score  \\\n",
       "44                1         0.831650   \n",
       "74                2         0.830527   \n",
       "58                2         0.830527   \n",
       "36                4         0.829405   \n",
       "70                4         0.829405   \n",
       "69                4         0.829405   \n",
       "50                7         0.828283   \n",
       "51                7         0.828283   \n",
       "61                9         0.827160   \n",
       "54                9         0.827160   \n",
       "\n",
       "                                               params  \n",
       "44  {'max_depth': 6, 'max_features': 6, 'min_sampl...  \n",
       "74  {'max_depth': 30, 'max_features': 4, 'min_samp...  \n",
       "58  {'max_depth': 15, 'max_features': 6, 'min_samp...  \n",
       "36  {'max_depth': 6, 'max_features': 4, 'min_sampl...  \n",
       "70  {'max_depth': 25, 'max_features': 6, 'min_samp...  \n",
       "69  {'max_depth': 25, 'max_features': 6, 'min_samp...  \n",
       "50  {'max_depth': 15, 'max_features': 4, 'min_samp...  \n",
       "51  {'max_depth': 15, 'max_features': 4, 'min_samp...  \n",
       "61  {'max_depth': 25, 'max_features': 4, 'min_samp...  \n",
       "54  {'max_depth': 15, 'max_features': 5, 'min_samp...  "
      ]
     },
     "execution_count": 180,
     "metadata": {},
     "output_type": "execute_result"
    }
   ],
   "source": [
    "X, y = train_data.drop('Survived', axis=1), train_data.Survived\n",
    "model = RandomForestClassifier(n_jobs=2, n_estimators=70)\n",
    "search = GridSearchCV(model, {\"max_depth\" : [1, 3, 4, 6, 15, 25, 30],\n",
    "                             \"max_features\": [4, 5, 6],\n",
    "                             \"min_samples_leaf\" : [1, 2, 4, 6]})\n",
    "search.fit(X, y)\n",
    "\n",
    "pd.DataFrame(search.cv_results_)[['rank_test_score', 'mean_test_score', 'params']].sort_values(by='rank_test_score').head(10)"
   ]
  },
  {
   "cell_type": "code",
   "execution_count": 182,
   "metadata": {},
   "outputs": [
    {
     "data": {
      "text/plain": [
       "{'max_depth': 6, 'max_features': 6, 'min_samples_leaf': 1}"
      ]
     },
     "execution_count": 182,
     "metadata": {},
     "output_type": "execute_result"
    }
   ],
   "source": [
    "results_frame = pd.DataFrame(search.cv_results_)[['rank_test_score', 'mean_test_score', 'params']].sort_values(by='rank_test_score')\n",
    "top = results_frame.loc[[44]]\n",
    "top.params.iloc[0]"
   ]
  },
  {
   "cell_type": "code",
   "execution_count": 183,
   "metadata": {},
   "outputs": [
    {
     "data": {
      "text/plain": [
       "RandomForestClassifier(bootstrap=True, class_weight=None, criterion='gini',\n",
       "            max_depth=6, max_features=6, max_leaf_nodes=None,\n",
       "            min_impurity_decrease=0.0, min_impurity_split=None,\n",
       "            min_samples_leaf=1, min_samples_split=2,\n",
       "            min_weight_fraction_leaf=0.0, n_estimators=70, n_jobs=2,\n",
       "            oob_score=False, random_state=None, verbose=0,\n",
       "            warm_start=False)"
      ]
     },
     "execution_count": 183,
     "metadata": {},
     "output_type": "execute_result"
    }
   ],
   "source": [
    "X_train, X_test, y_train, y_test = train_test_split(X, y, random_state=0, stratify=y)\n",
    "\n",
    "model = RandomForestClassifier(n_jobs=2, n_estimators=70, min_samples_leaf=1, max_depth=6, max_features=6)\n",
    "model.fit(X_train, y_train)"
   ]
  },
  {
   "cell_type": "code",
   "execution_count": 184,
   "metadata": {},
   "outputs": [
    {
     "name": "stdout",
     "output_type": "stream",
     "text": [
      "0.905688622754\n",
      "0.834080717489\n"
     ]
    }
   ],
   "source": [
    "print(model.score(X_train, y_train))\n",
    "print(model.score(X_test, y_test))"
   ]
  },
  {
   "cell_type": "markdown",
   "metadata": {},
   "source": [
    "Остава да трансформирам тест сет-а и да събмитна."
   ]
  },
  {
   "cell_type": "code",
   "execution_count": 159,
   "metadata": {},
   "outputs": [],
   "source": [
    "test_data.Fare = test_data.Fare.fillna(test_data.Fare.notnull().mean())\n",
    "test_deck_null = test_data[test_data.Deck.isnull()]\n",
    "test_deck_null = test_deck_null.drop('Deck', axis=1)\n",
    "test_deck_predicted = pd.DataFrame({\n",
    "    'PassengerId': test_deck_null.index,\n",
    "    'Deck': rfcl.predict(test_deck_null)\n",
    "})\n",
    "test_deck_predicted = test_deck_predicted.set_index('PassengerId')\n",
    "test_data.Deck = test_data.Deck[test_data.Deck.notnull()].apply(lambda x: ord(x[0]) - ord('A'))\n",
    "test_data = test_data.combine_first(test_deck_predicted)"
   ]
  },
  {
   "cell_type": "code",
   "execution_count": 160,
   "metadata": {},
   "outputs": [
    {
     "data": {
      "text/html": [
       "<div>\n",
       "<style>\n",
       "    .dataframe thead tr:only-child th {\n",
       "        text-align: right;\n",
       "    }\n",
       "\n",
       "    .dataframe thead th {\n",
       "        text-align: left;\n",
       "    }\n",
       "\n",
       "    .dataframe tbody tr th {\n",
       "        vertical-align: top;\n",
       "    }\n",
       "</style>\n",
       "<table border=\"1\" class=\"dataframe\">\n",
       "  <thead>\n",
       "    <tr style=\"text-align: right;\">\n",
       "      <th></th>\n",
       "      <th>Age</th>\n",
       "      <th>Deck</th>\n",
       "      <th>Embarked</th>\n",
       "      <th>FamilySize</th>\n",
       "      <th>Fare</th>\n",
       "      <th>Pclass</th>\n",
       "      <th>Sex</th>\n",
       "    </tr>\n",
       "    <tr>\n",
       "      <th>PassengerId</th>\n",
       "      <th></th>\n",
       "      <th></th>\n",
       "      <th></th>\n",
       "      <th></th>\n",
       "      <th></th>\n",
       "      <th></th>\n",
       "      <th></th>\n",
       "    </tr>\n",
       "  </thead>\n",
       "  <tbody>\n",
       "    <tr>\n",
       "      <th>892</th>\n",
       "      <td>34.5</td>\n",
       "      <td>5.0</td>\n",
       "      <td>2</td>\n",
       "      <td>1</td>\n",
       "      <td>7.8292</td>\n",
       "      <td>3</td>\n",
       "      <td>1.0</td>\n",
       "    </tr>\n",
       "    <tr>\n",
       "      <th>893</th>\n",
       "      <td>47.0</td>\n",
       "      <td>5.0</td>\n",
       "      <td>3</td>\n",
       "      <td>2</td>\n",
       "      <td>7.0000</td>\n",
       "      <td>3</td>\n",
       "      <td>0.0</td>\n",
       "    </tr>\n",
       "    <tr>\n",
       "      <th>894</th>\n",
       "      <td>62.0</td>\n",
       "      <td>4.0</td>\n",
       "      <td>2</td>\n",
       "      <td>1</td>\n",
       "      <td>9.6875</td>\n",
       "      <td>2</td>\n",
       "      <td>1.0</td>\n",
       "    </tr>\n",
       "    <tr>\n",
       "      <th>895</th>\n",
       "      <td>27.0</td>\n",
       "      <td>4.0</td>\n",
       "      <td>3</td>\n",
       "      <td>1</td>\n",
       "      <td>8.6625</td>\n",
       "      <td>3</td>\n",
       "      <td>1.0</td>\n",
       "    </tr>\n",
       "    <tr>\n",
       "      <th>896</th>\n",
       "      <td>22.0</td>\n",
       "      <td>6.0</td>\n",
       "      <td>3</td>\n",
       "      <td>3</td>\n",
       "      <td>12.2875</td>\n",
       "      <td>3</td>\n",
       "      <td>0.0</td>\n",
       "    </tr>\n",
       "    <tr>\n",
       "      <th>897</th>\n",
       "      <td>14.0</td>\n",
       "      <td>5.0</td>\n",
       "      <td>3</td>\n",
       "      <td>1</td>\n",
       "      <td>9.2250</td>\n",
       "      <td>3</td>\n",
       "      <td>1.0</td>\n",
       "    </tr>\n",
       "    <tr>\n",
       "      <th>898</th>\n",
       "      <td>30.0</td>\n",
       "      <td>5.0</td>\n",
       "      <td>2</td>\n",
       "      <td>1</td>\n",
       "      <td>7.6292</td>\n",
       "      <td>3</td>\n",
       "      <td>0.0</td>\n",
       "    </tr>\n",
       "    <tr>\n",
       "      <th>899</th>\n",
       "      <td>26.0</td>\n",
       "      <td>5.0</td>\n",
       "      <td>3</td>\n",
       "      <td>3</td>\n",
       "      <td>29.0000</td>\n",
       "      <td>2</td>\n",
       "      <td>1.0</td>\n",
       "    </tr>\n",
       "    <tr>\n",
       "      <th>900</th>\n",
       "      <td>18.0</td>\n",
       "      <td>5.0</td>\n",
       "      <td>1</td>\n",
       "      <td>1</td>\n",
       "      <td>7.2292</td>\n",
       "      <td>3</td>\n",
       "      <td>0.0</td>\n",
       "    </tr>\n",
       "    <tr>\n",
       "      <th>901</th>\n",
       "      <td>21.0</td>\n",
       "      <td>5.0</td>\n",
       "      <td>3</td>\n",
       "      <td>3</td>\n",
       "      <td>24.1500</td>\n",
       "      <td>3</td>\n",
       "      <td>1.0</td>\n",
       "    </tr>\n",
       "  </tbody>\n",
       "</table>\n",
       "</div>"
      ],
      "text/plain": [
       "              Age  Deck  Embarked  FamilySize     Fare  Pclass  Sex\n",
       "PassengerId                                                        \n",
       "892          34.5   5.0         2           1   7.8292       3  1.0\n",
       "893          47.0   5.0         3           2   7.0000       3  0.0\n",
       "894          62.0   4.0         2           1   9.6875       2  1.0\n",
       "895          27.0   4.0         3           1   8.6625       3  1.0\n",
       "896          22.0   6.0         3           3  12.2875       3  0.0\n",
       "897          14.0   5.0         3           1   9.2250       3  1.0\n",
       "898          30.0   5.0         2           1   7.6292       3  0.0\n",
       "899          26.0   5.0         3           3  29.0000       2  1.0\n",
       "900          18.0   5.0         1           1   7.2292       3  0.0\n",
       "901          21.0   5.0         3           3  24.1500       3  1.0"
      ]
     },
     "execution_count": 160,
     "metadata": {},
     "output_type": "execute_result"
    }
   ],
   "source": [
    "test_data.head(10)"
   ]
  },
  {
   "cell_type": "code",
   "execution_count": 185,
   "metadata": {},
   "outputs": [
    {
     "data": {
      "text/html": [
       "<div>\n",
       "<style>\n",
       "    .dataframe thead tr:only-child th {\n",
       "        text-align: right;\n",
       "    }\n",
       "\n",
       "    .dataframe thead th {\n",
       "        text-align: left;\n",
       "    }\n",
       "\n",
       "    .dataframe tbody tr th {\n",
       "        vertical-align: top;\n",
       "    }\n",
       "</style>\n",
       "<table border=\"1\" class=\"dataframe\">\n",
       "  <thead>\n",
       "    <tr style=\"text-align: right;\">\n",
       "      <th></th>\n",
       "      <th>Survived</th>\n",
       "    </tr>\n",
       "    <tr>\n",
       "      <th>PassengerId</th>\n",
       "      <th></th>\n",
       "    </tr>\n",
       "  </thead>\n",
       "  <tbody>\n",
       "    <tr>\n",
       "      <th>892</th>\n",
       "      <td>0</td>\n",
       "    </tr>\n",
       "    <tr>\n",
       "      <th>893</th>\n",
       "      <td>1</td>\n",
       "    </tr>\n",
       "    <tr>\n",
       "      <th>894</th>\n",
       "      <td>0</td>\n",
       "    </tr>\n",
       "    <tr>\n",
       "      <th>895</th>\n",
       "      <td>0</td>\n",
       "    </tr>\n",
       "    <tr>\n",
       "      <th>896</th>\n",
       "      <td>0</td>\n",
       "    </tr>\n",
       "  </tbody>\n",
       "</table>\n",
       "</div>"
      ],
      "text/plain": [
       "             Survived\n",
       "PassengerId          \n",
       "892                 0\n",
       "893                 1\n",
       "894                 0\n",
       "895                 0\n",
       "896                 0"
      ]
     },
     "execution_count": 185,
     "metadata": {},
     "output_type": "execute_result"
    }
   ],
   "source": [
    "predictions = model.predict(test_data)\n",
    "frame = pd.DataFrame({\n",
    "    'PassengerId': pd.read_csv('data\\\\test.csv').PassengerId,\n",
    "    'Survived': predictions\n",
    "})\n",
    "frame = frame.set_index('PassengerId')\n",
    "frame.to_csv('data\\\\predictions.csv')\n",
    "frame.head()"
   ]
  },
  {
   "cell_type": "code",
   "execution_count": 2,
   "metadata": {},
   "outputs": [
    {
     "data": {
      "image/jpeg": "[encoded data removed]",
      "text/plain": [
       "<IPython.core.display.Image object>"
      ]
     },
     "execution_count": 2,
     "metadata": {},
     "output_type": "execute_result"
    }
   ],
   "source": [
    "from IPython.display import Image\n",
    "Image(\"me_vs_scanf.jpg\")"
   ]
  },
  {
   "cell_type": "markdown",
   "metadata": {},
   "source": [
    "Феноменално."
   ]
  },
  {
   "cell_type": "markdown",
   "metadata": {},
   "source": [
    "# Заключение\n",
    "\n",
    "За да подобря резултата, трябваше да използвам feature-ите, които не бяха използвани до този момент. Точно това и направих. Моделът, който направих за предвиждането на null стойностите, не беше особено успешен, но и не навреди(даже може би е помогнал), а и беше наистина добро упражнение. Както се вижда, подобрението на резултата е минимално и го постигнах с опитване на различни модели, опитване на неща като категоризиране на feature-ите age и fare, но това което донесе успехът е написаното тук в notebook-а. Най-вероятно има какво още да се изтиска от данните, но аз съм доволен от представянето.\n",
    "\n",
    "P.S.\n",
    "Не съм рестартирал notebook, защото забравих да сложа random state на GridSearch-овете, а исках да запазя output-a такъв, какъвто беше при мен при първото изпълнение на кода, но това не е от значение. Казвам това, за да обясня защо input и output са в такъв разбъркан ред.\n"
   ]
  }
 ],
 "metadata": {
  "kernelspec": {
   "display_name": "Python 3",
   "language": "python",
   "name": "python3"
  },
  "language_info": {
   "codemirror_mode": {
    "name": "ipython",
    "version": 3
   },
   "file_extension": ".py",
   "mimetype": "text/x-python",
   "name": "python",
   "nbconvert_exporter": "python",
   "pygments_lexer": "ipython3",
   "version": "3.6.3"
  }
 },
 "nbformat": 4,
 "nbformat_minor": 2
}
