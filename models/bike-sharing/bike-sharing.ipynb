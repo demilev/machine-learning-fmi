{
 "cells": [
  {
   "cell_type": "markdown",
   "metadata": {},
   "source": [
    "# Bike Sharing Demand"
   ]
  },
  {
   "cell_type": "code",
   "execution_count": 1,
   "metadata": {},
   "outputs": [],
   "source": [
    "import sys\n",
    "\n",
    "import sklearn\n",
    "import numpy as np\n",
    "import pandas as pd\n",
    "import matplotlib as mpl\n",
    "import matplotlib.pyplot as plt\n",
    "import seaborn as sns\n",
    "\n",
    "%matplotlib inline"
   ]
  },
  {
   "cell_type": "markdown",
   "metadata": {},
   "source": [
    "### Разглеждан data set: [bike-sharing](https://www.kaggle.com/c/bike-sharing-demand)"
   ]
  },
  {
   "cell_type": "code",
   "execution_count": 2,
   "metadata": {},
   "outputs": [],
   "source": [
    "train = pd.read_csv(\"data\\\\train.csv\", index_col = False)\n",
    "test = pd.read_csv(\"data\\\\test.csv\", index_col = False)"
   ]
  },
  {
   "cell_type": "markdown",
   "metadata": {},
   "source": [
    "Нека видим с какво се захващаме."
   ]
  },
  {
   "cell_type": "code",
   "execution_count": 3,
   "metadata": {},
   "outputs": [
    {
     "data": {
      "text/html": [
       "<div>\n",
       "<style>\n",
       "    .dataframe thead tr:only-child th {\n",
       "        text-align: right;\n",
       "    }\n",
       "\n",
       "    .dataframe thead th {\n",
       "        text-align: left;\n",
       "    }\n",
       "\n",
       "    .dataframe tbody tr th {\n",
       "        vertical-align: top;\n",
       "    }\n",
       "</style>\n",
       "<table border=\"1\" class=\"dataframe\">\n",
       "  <thead>\n",
       "    <tr style=\"text-align: right;\">\n",
       "      <th></th>\n",
       "      <th>datetime</th>\n",
       "      <th>season</th>\n",
       "      <th>holiday</th>\n",
       "      <th>workingday</th>\n",
       "      <th>weather</th>\n",
       "      <th>temp</th>\n",
       "      <th>atemp</th>\n",
       "      <th>humidity</th>\n",
       "      <th>windspeed</th>\n",
       "      <th>casual</th>\n",
       "      <th>registered</th>\n",
       "      <th>count</th>\n",
       "    </tr>\n",
       "  </thead>\n",
       "  <tbody>\n",
       "    <tr>\n",
       "      <th>0</th>\n",
       "      <td>2011-01-01 00:00:00</td>\n",
       "      <td>1</td>\n",
       "      <td>0</td>\n",
       "      <td>0</td>\n",
       "      <td>1</td>\n",
       "      <td>9.84</td>\n",
       "      <td>14.395</td>\n",
       "      <td>81</td>\n",
       "      <td>0.0000</td>\n",
       "      <td>3</td>\n",
       "      <td>13</td>\n",
       "      <td>16</td>\n",
       "    </tr>\n",
       "    <tr>\n",
       "      <th>1</th>\n",
       "      <td>2011-01-01 01:00:00</td>\n",
       "      <td>1</td>\n",
       "      <td>0</td>\n",
       "      <td>0</td>\n",
       "      <td>1</td>\n",
       "      <td>9.02</td>\n",
       "      <td>13.635</td>\n",
       "      <td>80</td>\n",
       "      <td>0.0000</td>\n",
       "      <td>8</td>\n",
       "      <td>32</td>\n",
       "      <td>40</td>\n",
       "    </tr>\n",
       "    <tr>\n",
       "      <th>2</th>\n",
       "      <td>2011-01-01 02:00:00</td>\n",
       "      <td>1</td>\n",
       "      <td>0</td>\n",
       "      <td>0</td>\n",
       "      <td>1</td>\n",
       "      <td>9.02</td>\n",
       "      <td>13.635</td>\n",
       "      <td>80</td>\n",
       "      <td>0.0000</td>\n",
       "      <td>5</td>\n",
       "      <td>27</td>\n",
       "      <td>32</td>\n",
       "    </tr>\n",
       "    <tr>\n",
       "      <th>3</th>\n",
       "      <td>2011-01-01 03:00:00</td>\n",
       "      <td>1</td>\n",
       "      <td>0</td>\n",
       "      <td>0</td>\n",
       "      <td>1</td>\n",
       "      <td>9.84</td>\n",
       "      <td>14.395</td>\n",
       "      <td>75</td>\n",
       "      <td>0.0000</td>\n",
       "      <td>3</td>\n",
       "      <td>10</td>\n",
       "      <td>13</td>\n",
       "    </tr>\n",
       "    <tr>\n",
       "      <th>4</th>\n",
       "      <td>2011-01-01 04:00:00</td>\n",
       "      <td>1</td>\n",
       "      <td>0</td>\n",
       "      <td>0</td>\n",
       "      <td>1</td>\n",
       "      <td>9.84</td>\n",
       "      <td>14.395</td>\n",
       "      <td>75</td>\n",
       "      <td>0.0000</td>\n",
       "      <td>0</td>\n",
       "      <td>1</td>\n",
       "      <td>1</td>\n",
       "    </tr>\n",
       "    <tr>\n",
       "      <th>5</th>\n",
       "      <td>2011-01-01 05:00:00</td>\n",
       "      <td>1</td>\n",
       "      <td>0</td>\n",
       "      <td>0</td>\n",
       "      <td>2</td>\n",
       "      <td>9.84</td>\n",
       "      <td>12.880</td>\n",
       "      <td>75</td>\n",
       "      <td>6.0032</td>\n",
       "      <td>0</td>\n",
       "      <td>1</td>\n",
       "      <td>1</td>\n",
       "    </tr>\n",
       "    <tr>\n",
       "      <th>6</th>\n",
       "      <td>2011-01-01 06:00:00</td>\n",
       "      <td>1</td>\n",
       "      <td>0</td>\n",
       "      <td>0</td>\n",
       "      <td>1</td>\n",
       "      <td>9.02</td>\n",
       "      <td>13.635</td>\n",
       "      <td>80</td>\n",
       "      <td>0.0000</td>\n",
       "      <td>2</td>\n",
       "      <td>0</td>\n",
       "      <td>2</td>\n",
       "    </tr>\n",
       "    <tr>\n",
       "      <th>7</th>\n",
       "      <td>2011-01-01 07:00:00</td>\n",
       "      <td>1</td>\n",
       "      <td>0</td>\n",
       "      <td>0</td>\n",
       "      <td>1</td>\n",
       "      <td>8.20</td>\n",
       "      <td>12.880</td>\n",
       "      <td>86</td>\n",
       "      <td>0.0000</td>\n",
       "      <td>1</td>\n",
       "      <td>2</td>\n",
       "      <td>3</td>\n",
       "    </tr>\n",
       "    <tr>\n",
       "      <th>8</th>\n",
       "      <td>2011-01-01 08:00:00</td>\n",
       "      <td>1</td>\n",
       "      <td>0</td>\n",
       "      <td>0</td>\n",
       "      <td>1</td>\n",
       "      <td>9.84</td>\n",
       "      <td>14.395</td>\n",
       "      <td>75</td>\n",
       "      <td>0.0000</td>\n",
       "      <td>1</td>\n",
       "      <td>7</td>\n",
       "      <td>8</td>\n",
       "    </tr>\n",
       "    <tr>\n",
       "      <th>9</th>\n",
       "      <td>2011-01-01 09:00:00</td>\n",
       "      <td>1</td>\n",
       "      <td>0</td>\n",
       "      <td>0</td>\n",
       "      <td>1</td>\n",
       "      <td>13.12</td>\n",
       "      <td>17.425</td>\n",
       "      <td>76</td>\n",
       "      <td>0.0000</td>\n",
       "      <td>8</td>\n",
       "      <td>6</td>\n",
       "      <td>14</td>\n",
       "    </tr>\n",
       "  </tbody>\n",
       "</table>\n",
       "</div>"
      ],
      "text/plain": [
       "              datetime  season  holiday  workingday  weather   temp   atemp  \\\n",
       "0  2011-01-01 00:00:00       1        0           0        1   9.84  14.395   \n",
       "1  2011-01-01 01:00:00       1        0           0        1   9.02  13.635   \n",
       "2  2011-01-01 02:00:00       1        0           0        1   9.02  13.635   \n",
       "3  2011-01-01 03:00:00       1        0           0        1   9.84  14.395   \n",
       "4  2011-01-01 04:00:00       1        0           0        1   9.84  14.395   \n",
       "5  2011-01-01 05:00:00       1        0           0        2   9.84  12.880   \n",
       "6  2011-01-01 06:00:00       1        0           0        1   9.02  13.635   \n",
       "7  2011-01-01 07:00:00       1        0           0        1   8.20  12.880   \n",
       "8  2011-01-01 08:00:00       1        0           0        1   9.84  14.395   \n",
       "9  2011-01-01 09:00:00       1        0           0        1  13.12  17.425   \n",
       "\n",
       "   humidity  windspeed  casual  registered  count  \n",
       "0        81     0.0000       3          13     16  \n",
       "1        80     0.0000       8          32     40  \n",
       "2        80     0.0000       5          27     32  \n",
       "3        75     0.0000       3          10     13  \n",
       "4        75     0.0000       0           1      1  \n",
       "5        75     6.0032       0           1      1  \n",
       "6        80     0.0000       2           0      2  \n",
       "7        86     0.0000       1           2      3  \n",
       "8        75     0.0000       1           7      8  \n",
       "9        76     0.0000       8           6     14  "
      ]
     },
     "execution_count": 3,
     "metadata": {},
     "output_type": "execute_result"
    }
   ],
   "source": [
    "train.head(10)"
   ]
  },
  {
   "cell_type": "code",
   "execution_count": 4,
   "metadata": {},
   "outputs": [
    {
     "data": {
      "text/html": [
       "<div>\n",
       "<style>\n",
       "    .dataframe thead tr:only-child th {\n",
       "        text-align: right;\n",
       "    }\n",
       "\n",
       "    .dataframe thead th {\n",
       "        text-align: left;\n",
       "    }\n",
       "\n",
       "    .dataframe tbody tr th {\n",
       "        vertical-align: top;\n",
       "    }\n",
       "</style>\n",
       "<table border=\"1\" class=\"dataframe\">\n",
       "  <thead>\n",
       "    <tr style=\"text-align: right;\">\n",
       "      <th></th>\n",
       "      <th>datetime</th>\n",
       "      <th>season</th>\n",
       "      <th>holiday</th>\n",
       "      <th>workingday</th>\n",
       "      <th>weather</th>\n",
       "      <th>temp</th>\n",
       "      <th>atemp</th>\n",
       "      <th>humidity</th>\n",
       "      <th>windspeed</th>\n",
       "    </tr>\n",
       "  </thead>\n",
       "  <tbody>\n",
       "    <tr>\n",
       "      <th>0</th>\n",
       "      <td>2011-01-20 00:00:00</td>\n",
       "      <td>1</td>\n",
       "      <td>0</td>\n",
       "      <td>1</td>\n",
       "      <td>1</td>\n",
       "      <td>10.66</td>\n",
       "      <td>11.365</td>\n",
       "      <td>56</td>\n",
       "      <td>26.0027</td>\n",
       "    </tr>\n",
       "    <tr>\n",
       "      <th>1</th>\n",
       "      <td>2011-01-20 01:00:00</td>\n",
       "      <td>1</td>\n",
       "      <td>0</td>\n",
       "      <td>1</td>\n",
       "      <td>1</td>\n",
       "      <td>10.66</td>\n",
       "      <td>13.635</td>\n",
       "      <td>56</td>\n",
       "      <td>0.0000</td>\n",
       "    </tr>\n",
       "    <tr>\n",
       "      <th>2</th>\n",
       "      <td>2011-01-20 02:00:00</td>\n",
       "      <td>1</td>\n",
       "      <td>0</td>\n",
       "      <td>1</td>\n",
       "      <td>1</td>\n",
       "      <td>10.66</td>\n",
       "      <td>13.635</td>\n",
       "      <td>56</td>\n",
       "      <td>0.0000</td>\n",
       "    </tr>\n",
       "    <tr>\n",
       "      <th>3</th>\n",
       "      <td>2011-01-20 03:00:00</td>\n",
       "      <td>1</td>\n",
       "      <td>0</td>\n",
       "      <td>1</td>\n",
       "      <td>1</td>\n",
       "      <td>10.66</td>\n",
       "      <td>12.880</td>\n",
       "      <td>56</td>\n",
       "      <td>11.0014</td>\n",
       "    </tr>\n",
       "    <tr>\n",
       "      <th>4</th>\n",
       "      <td>2011-01-20 04:00:00</td>\n",
       "      <td>1</td>\n",
       "      <td>0</td>\n",
       "      <td>1</td>\n",
       "      <td>1</td>\n",
       "      <td>10.66</td>\n",
       "      <td>12.880</td>\n",
       "      <td>56</td>\n",
       "      <td>11.0014</td>\n",
       "    </tr>\n",
       "    <tr>\n",
       "      <th>5</th>\n",
       "      <td>2011-01-20 05:00:00</td>\n",
       "      <td>1</td>\n",
       "      <td>0</td>\n",
       "      <td>1</td>\n",
       "      <td>1</td>\n",
       "      <td>9.84</td>\n",
       "      <td>11.365</td>\n",
       "      <td>60</td>\n",
       "      <td>15.0013</td>\n",
       "    </tr>\n",
       "    <tr>\n",
       "      <th>6</th>\n",
       "      <td>2011-01-20 06:00:00</td>\n",
       "      <td>1</td>\n",
       "      <td>0</td>\n",
       "      <td>1</td>\n",
       "      <td>1</td>\n",
       "      <td>9.02</td>\n",
       "      <td>10.605</td>\n",
       "      <td>60</td>\n",
       "      <td>15.0013</td>\n",
       "    </tr>\n",
       "    <tr>\n",
       "      <th>7</th>\n",
       "      <td>2011-01-20 07:00:00</td>\n",
       "      <td>1</td>\n",
       "      <td>0</td>\n",
       "      <td>1</td>\n",
       "      <td>1</td>\n",
       "      <td>9.02</td>\n",
       "      <td>10.605</td>\n",
       "      <td>55</td>\n",
       "      <td>15.0013</td>\n",
       "    </tr>\n",
       "    <tr>\n",
       "      <th>8</th>\n",
       "      <td>2011-01-20 08:00:00</td>\n",
       "      <td>1</td>\n",
       "      <td>0</td>\n",
       "      <td>1</td>\n",
       "      <td>1</td>\n",
       "      <td>9.02</td>\n",
       "      <td>10.605</td>\n",
       "      <td>55</td>\n",
       "      <td>19.0012</td>\n",
       "    </tr>\n",
       "    <tr>\n",
       "      <th>9</th>\n",
       "      <td>2011-01-20 09:00:00</td>\n",
       "      <td>1</td>\n",
       "      <td>0</td>\n",
       "      <td>1</td>\n",
       "      <td>2</td>\n",
       "      <td>9.84</td>\n",
       "      <td>11.365</td>\n",
       "      <td>52</td>\n",
       "      <td>15.0013</td>\n",
       "    </tr>\n",
       "  </tbody>\n",
       "</table>\n",
       "</div>"
      ],
      "text/plain": [
       "              datetime  season  holiday  workingday  weather   temp   atemp  \\\n",
       "0  2011-01-20 00:00:00       1        0           1        1  10.66  11.365   \n",
       "1  2011-01-20 01:00:00       1        0           1        1  10.66  13.635   \n",
       "2  2011-01-20 02:00:00       1        0           1        1  10.66  13.635   \n",
       "3  2011-01-20 03:00:00       1        0           1        1  10.66  12.880   \n",
       "4  2011-01-20 04:00:00       1        0           1        1  10.66  12.880   \n",
       "5  2011-01-20 05:00:00       1        0           1        1   9.84  11.365   \n",
       "6  2011-01-20 06:00:00       1        0           1        1   9.02  10.605   \n",
       "7  2011-01-20 07:00:00       1        0           1        1   9.02  10.605   \n",
       "8  2011-01-20 08:00:00       1        0           1        1   9.02  10.605   \n",
       "9  2011-01-20 09:00:00       1        0           1        2   9.84  11.365   \n",
       "\n",
       "   humidity  windspeed  \n",
       "0        56    26.0027  \n",
       "1        56     0.0000  \n",
       "2        56     0.0000  \n",
       "3        56    11.0014  \n",
       "4        56    11.0014  \n",
       "5        60    15.0013  \n",
       "6        60    15.0013  \n",
       "7        55    15.0013  \n",
       "8        55    19.0012  \n",
       "9        52    15.0013  "
      ]
     },
     "execution_count": 4,
     "metadata": {},
     "output_type": "execute_result"
    }
   ],
   "source": [
    "test.head(10)"
   ]
  },
  {
   "cell_type": "code",
   "execution_count": 5,
   "metadata": {},
   "outputs": [
    {
     "data": {
      "text/plain": [
       "Index(['datetime', 'season', 'holiday', 'workingday', 'weather', 'temp',\n",
       "       'atemp', 'humidity', 'windspeed', 'casual', 'registered', 'count'],\n",
       "      dtype='object')"
      ]
     },
     "execution_count": 5,
     "metadata": {},
     "output_type": "execute_result"
    }
   ],
   "source": [
    "train.columns"
   ]
  },
  {
   "cell_type": "code",
   "execution_count": 6,
   "metadata": {},
   "outputs": [
    {
     "data": {
      "text/plain": [
       "Index(['datetime', 'season', 'holiday', 'workingday', 'weather', 'temp',\n",
       "       'atemp', 'humidity', 'windspeed'],\n",
       "      dtype='object')"
      ]
     },
     "execution_count": 6,
     "metadata": {},
     "output_type": "execute_result"
    }
   ],
   "source": [
    "test.columns"
   ]
  },
  {
   "cell_type": "code",
   "execution_count": 7,
   "metadata": {},
   "outputs": [
    {
     "data": {
      "text/plain": [
       "{'casual', 'count', 'registered'}"
      ]
     },
     "execution_count": 7,
     "metadata": {},
     "output_type": "execute_result"
    }
   ],
   "source": [
    "set(train.columns) - set(test.columns)"
   ]
  },
  {
   "cell_type": "markdown",
   "metadata": {},
   "source": [
    "Условието на състезанието и малко повече инофрмация за data set-a можем да видим [тук](https://www.kaggle.com/c/bike-sharing-demand/data)\n",
    "\n",
    "Виждаме, че train set-a съдържа информация за броя наети колелета на всеки час през първите 19 дни от всеки месец в рамките на две години.\n",
    "Нашата задача е да предскажем броя наети колелета на всеки час за останалите дни от всеки месец в рамките на същите две години."
   ]
  },
  {
   "cell_type": "markdown",
   "metadata": {},
   "source": [
    "Feature-ите са следните :\n",
    "\n",
    "* datetime - година-месец-ден час:минута:секунда\n",
    "* season -  1 = пролет, 2 = лято, 3 = есен, 4 = зима \n",
    "* holiday - дали денят е празник\n",
    "* workingday - дали денят е работен\n",
    "* weather -  1 = Ясно, Малка облачност, Частична облачност, 2 = Мъгла + Облаци, 3 = Лек сняг, лека облачност, слаб дъжд + гръмотевична буря + разкъсана облачност, слаб дъжд + разпръснати облаци, 4 = Силен дъжд + градушка + гръмотевична буря + мъгла, сняг + мъгла\n",
    "* temp - температура\n",
    "* atemp - \"усеща се като\"\n",
    "* humidity - влажност\n",
    "* windspeed - скорост на вятъра\n",
    "* casual - брой наети колелета от нерегистрирани user-и\n",
    "* registered - брой наети колелета от регистрирани user-и\n",
    "* count - общ брой наети колелета"
   ]
  },
  {
   "cell_type": "markdown",
   "metadata": {},
   "source": [
    "Да видим дали имаме нечислови и null стойности."
   ]
  },
  {
   "cell_type": "code",
   "execution_count": 8,
   "metadata": {},
   "outputs": [
    {
     "data": {
      "text/plain": [
       "datetime      0\n",
       "season        0\n",
       "holiday       0\n",
       "workingday    0\n",
       "weather       0\n",
       "temp          0\n",
       "atemp         0\n",
       "humidity      0\n",
       "windspeed     0\n",
       "casual        0\n",
       "registered    0\n",
       "count         0\n",
       "dtype: int64"
      ]
     },
     "execution_count": 8,
     "metadata": {},
     "output_type": "execute_result"
    }
   ],
   "source": [
    "train.isnull().sum()"
   ]
  },
  {
   "cell_type": "code",
   "execution_count": 9,
   "metadata": {},
   "outputs": [
    {
     "data": {
      "text/plain": [
       "datetime       object\n",
       "season          int64\n",
       "holiday         int64\n",
       "workingday      int64\n",
       "weather         int64\n",
       "temp          float64\n",
       "atemp         float64\n",
       "humidity        int64\n",
       "windspeed     float64\n",
       "casual          int64\n",
       "registered      int64\n",
       "count           int64\n",
       "dtype: object"
      ]
     },
     "execution_count": 9,
     "metadata": {},
     "output_type": "execute_result"
    }
   ],
   "source": [
    "train.dtypes"
   ]
  },
  {
   "cell_type": "markdown",
   "metadata": {},
   "source": [
    "С радост откриваме, че нямаме null стойности и само стойностите на feature-а datetime са нечислови.\n",
    "Нека поправим това."
   ]
  },
  {
   "cell_type": "code",
   "execution_count": 10,
   "metadata": {},
   "outputs": [],
   "source": [
    "import datetime\n",
    "# създаваме работно копие на train set-а\n",
    "transformed_train = train.copy()\n",
    "transformed_train['datetime'] = transformed_train['datetime'].apply(lambda x:datetime.datetime.strptime(x, '%Y-%m-%d %H:%M:%S'))\n",
    "transformed_train['year'] = transformed_train['datetime'].apply(lambda x:x.year)\n",
    "transformed_train['month'] = transformed_train['datetime'].apply(lambda x:x.month)\n",
    "transformed_train['day'] = transformed_train['datetime'].apply(lambda x:x.day)\n",
    "transformed_train['hour'] = transformed_train['datetime'].apply(lambda x:x.hour)\n",
    "transformed_train = transformed_train.drop(['datetime'], axis=1)"
   ]
  },
  {
   "cell_type": "code",
   "execution_count": 11,
   "metadata": {},
   "outputs": [
    {
     "data": {
      "text/plain": [
       "season          int64\n",
       "holiday         int64\n",
       "workingday      int64\n",
       "weather         int64\n",
       "temp          float64\n",
       "atemp         float64\n",
       "humidity        int64\n",
       "windspeed     float64\n",
       "casual          int64\n",
       "registered      int64\n",
       "count           int64\n",
       "year            int64\n",
       "month           int64\n",
       "day             int64\n",
       "hour            int64\n",
       "dtype: object"
      ]
     },
     "execution_count": 11,
     "metadata": {},
     "output_type": "execute_result"
    }
   ],
   "source": [
    "transformed_train.dtypes"
   ]
  },
  {
   "cell_type": "markdown",
   "metadata": {},
   "source": [
    "Вече имаме само числови стойности. Време е за **baseline** модел."
   ]
  },
  {
   "cell_type": "code",
   "execution_count": 12,
   "metadata": {},
   "outputs": [],
   "source": [
    "from sklearn.model_selection import train_test_split\n",
    "train_no_count = transformed_train.drop(labels=['count','registered','casual'], axis=1)\n",
    "train_count = transformed_train['count']\n",
    "X_train, X_test, y_train, y_test = train_test_split(train_no_count, \n",
    "                                                    train_count, \n",
    "                                                    test_size=0.3, \n",
    "                                                    random_state=4200)"
   ]
  },
  {
   "cell_type": "code",
   "execution_count": 13,
   "metadata": {},
   "outputs": [
    {
     "data": {
      "text/plain": [
       "LinearRegression(copy_X=True, fit_intercept=True, n_jobs=1, normalize=False)"
      ]
     },
     "execution_count": 13,
     "metadata": {},
     "output_type": "execute_result"
    }
   ],
   "source": [
    "from sklearn.linear_model import LinearRegression\n",
    "\n",
    "lrgr = LinearRegression()\n",
    "lrgr.fit(X_train, y_train)"
   ]
  },
  {
   "cell_type": "code",
   "execution_count": 14,
   "metadata": {},
   "outputs": [
    {
     "name": "stdout",
     "output_type": "stream",
     "text": [
      "train score:  0.397157331347\n",
      "test score:  0.369078905174\n"
     ]
    }
   ],
   "source": [
    "print(\"train score: \", lrgr.score(X_train, y_train))\n",
    "print(\"test score: \", lrgr.score(X_test, y_test))"
   ]
  },
  {
   "cell_type": "markdown",
   "metadata": {},
   "source": [
    "Трагичен резултат, но това не ни плаши особено. Нека пробваме с Random Forest."
   ]
  },
  {
   "cell_type": "code",
   "execution_count": 15,
   "metadata": {},
   "outputs": [
    {
     "data": {
      "text/plain": [
       "RandomForestRegressor(bootstrap=True, criterion='mse', max_depth=None,\n",
       "           max_features='auto', max_leaf_nodes=None,\n",
       "           min_impurity_decrease=0.0, min_impurity_split=None,\n",
       "           min_samples_leaf=1, min_samples_split=2,\n",
       "           min_weight_fraction_leaf=0.0, n_estimators=100, n_jobs=2,\n",
       "           oob_score=False, random_state=None, verbose=0, warm_start=False)"
      ]
     },
     "execution_count": 15,
     "metadata": {},
     "output_type": "execute_result"
    }
   ],
   "source": [
    "from sklearn.ensemble import RandomForestRegressor\n",
    "rfrgr = RandomForestRegressor(n_estimators=100, n_jobs=2)\n",
    "rfrgr.fit(X_train, y_train)"
   ]
  },
  {
   "cell_type": "code",
   "execution_count": 16,
   "metadata": {},
   "outputs": [
    {
     "name": "stdout",
     "output_type": "stream",
     "text": [
      "train score:  0.991830003697\n",
      "test score:  0.941787934644\n"
     ]
    }
   ],
   "source": [
    "print(\"train score: \", rfrgr.score(X_train, y_train))\n",
    "print(\"test score: \", rfrgr.score(X_test, y_test))"
   ]
  },
  {
   "cell_type": "markdown",
   "metadata": {},
   "source": [
    "# WOW\n",
    "\n",
    "Очакваше се да има подобрение, защото Random Forest се справя с данни, които не са one hot encode-нати, каквито са и нашите, но увеличението на резултата е драстично. Нека пробваме да си поиграем с хипер-параметрите и да направим cross validation."
   ]
  },
  {
   "cell_type": "code",
   "execution_count": 17,
   "metadata": {},
   "outputs": [
    {
     "data": {
      "text/html": [
       "<div>\n",
       "<style>\n",
       "    .dataframe thead tr:only-child th {\n",
       "        text-align: right;\n",
       "    }\n",
       "\n",
       "    .dataframe thead th {\n",
       "        text-align: left;\n",
       "    }\n",
       "\n",
       "    .dataframe tbody tr th {\n",
       "        vertical-align: top;\n",
       "    }\n",
       "</style>\n",
       "<table border=\"1\" class=\"dataframe\">\n",
       "  <thead>\n",
       "    <tr style=\"text-align: right;\">\n",
       "      <th></th>\n",
       "      <th>rank_test_score</th>\n",
       "      <th>mean_test_score</th>\n",
       "      <th>params</th>\n",
       "    </tr>\n",
       "  </thead>\n",
       "  <tbody>\n",
       "    <tr>\n",
       "      <th>30</th>\n",
       "      <td>1</td>\n",
       "      <td>0.931056</td>\n",
       "      <td>{'max_depth': 15, 'min_samples_split': 2}</td>\n",
       "    </tr>\n",
       "    <tr>\n",
       "      <th>31</th>\n",
       "      <td>2</td>\n",
       "      <td>0.930512</td>\n",
       "      <td>{'max_depth': 15, 'min_samples_split': 5}</td>\n",
       "    </tr>\n",
       "    <tr>\n",
       "      <th>32</th>\n",
       "      <td>3</td>\n",
       "      <td>0.927949</td>\n",
       "      <td>{'max_depth': 15, 'min_samples_split': 10}</td>\n",
       "    </tr>\n",
       "    <tr>\n",
       "      <th>25</th>\n",
       "      <td>4</td>\n",
       "      <td>0.927658</td>\n",
       "      <td>{'max_depth': 12, 'min_samples_split': 2}</td>\n",
       "    </tr>\n",
       "    <tr>\n",
       "      <th>26</th>\n",
       "      <td>5</td>\n",
       "      <td>0.927360</td>\n",
       "      <td>{'max_depth': 12, 'min_samples_split': 5}</td>\n",
       "    </tr>\n",
       "    <tr>\n",
       "      <th>33</th>\n",
       "      <td>6</td>\n",
       "      <td>0.924960</td>\n",
       "      <td>{'max_depth': 15, 'min_samples_split': 12}</td>\n",
       "    </tr>\n",
       "    <tr>\n",
       "      <th>27</th>\n",
       "      <td>7</td>\n",
       "      <td>0.923506</td>\n",
       "      <td>{'max_depth': 12, 'min_samples_split': 10}</td>\n",
       "    </tr>\n",
       "    <tr>\n",
       "      <th>28</th>\n",
       "      <td>8</td>\n",
       "      <td>0.923300</td>\n",
       "      <td>{'max_depth': 12, 'min_samples_split': 12}</td>\n",
       "    </tr>\n",
       "    <tr>\n",
       "      <th>34</th>\n",
       "      <td>9</td>\n",
       "      <td>0.922039</td>\n",
       "      <td>{'max_depth': 15, 'min_samples_split': 15}</td>\n",
       "    </tr>\n",
       "    <tr>\n",
       "      <th>29</th>\n",
       "      <td>10</td>\n",
       "      <td>0.921278</td>\n",
       "      <td>{'max_depth': 12, 'min_samples_split': 15}</td>\n",
       "    </tr>\n",
       "  </tbody>\n",
       "</table>\n",
       "</div>"
      ],
      "text/plain": [
       "    rank_test_score  mean_test_score  \\\n",
       "30                1         0.931056   \n",
       "31                2         0.930512   \n",
       "32                3         0.927949   \n",
       "25                4         0.927658   \n",
       "26                5         0.927360   \n",
       "33                6         0.924960   \n",
       "27                7         0.923506   \n",
       "28                8         0.923300   \n",
       "34                9         0.922039   \n",
       "29               10         0.921278   \n",
       "\n",
       "                                        params  \n",
       "30   {'max_depth': 15, 'min_samples_split': 2}  \n",
       "31   {'max_depth': 15, 'min_samples_split': 5}  \n",
       "32  {'max_depth': 15, 'min_samples_split': 10}  \n",
       "25   {'max_depth': 12, 'min_samples_split': 2}  \n",
       "26   {'max_depth': 12, 'min_samples_split': 5}  \n",
       "33  {'max_depth': 15, 'min_samples_split': 12}  \n",
       "27  {'max_depth': 12, 'min_samples_split': 10}  \n",
       "28  {'max_depth': 12, 'min_samples_split': 12}  \n",
       "34  {'max_depth': 15, 'min_samples_split': 15}  \n",
       "29  {'max_depth': 12, 'min_samples_split': 15}  "
      ]
     },
     "execution_count": 17,
     "metadata": {},
     "output_type": "execute_result"
    }
   ],
   "source": [
    "from sklearn.model_selection import GridSearchCV\n",
    "\n",
    "search = GridSearchCV(rfrgr, {'min_samples_split': [2, 5, 10, 12, 15],\n",
    "                              'max_depth': [2, 4, 6, 8, 10, 12, 15]})\n",
    "search.fit(X_train, y_train)\n",
    "\n",
    "pd.DataFrame(search.cv_results_)[['rank_test_score', 'mean_test_score', 'params']].sort_values(by='rank_test_score').head(10)"
   ]
  },
  {
   "cell_type": "markdown",
   "metadata": {},
   "source": [
    "Много висок начален резултат, но естествено няма да спра до тук. "
   ]
  },
  {
   "cell_type": "markdown",
   "metadata": {},
   "source": [
    "Вече е време да се запозная малко по-подробно с данните и да направя малко feature engineering."
   ]
  },
  {
   "cell_type": "markdown",
   "metadata": {},
   "source": [
    "Да погледнем какво разпределение имат даннните."
   ]
  },
  {
   "cell_type": "code",
   "execution_count": 18,
   "metadata": {},
   "outputs": [
    {
     "data": {
      "image/png": "[encoded data removed]",
      "text/plain": [
       "<matplotlib.figure.Figure at 0xbaf1065e80>"
      ]
     },
     "metadata": {},
     "output_type": "display_data"
    }
   ],
   "source": [
    "sns.distplot(transformed_train['count']);"
   ]
  },
  {
   "cell_type": "markdown",
   "metadata": {},
   "source": [
    "Нека да прекараме това през логаритъм."
   ]
  },
  {
   "cell_type": "code",
   "execution_count": 19,
   "metadata": {},
   "outputs": [
    {
     "data": {
      "text/plain": [
       "<matplotlib.axes._subplots.AxesSubplot at 0xbaf0ecff60>"
      ]
     },
     "execution_count": 19,
     "metadata": {},
     "output_type": "execute_result"
    },
    {
     "data": {
      "image/png": "[encoded data removed]",
      "text/plain": [
       "<matplotlib.figure.Figure at 0xbaf0de09b0>"
      ]
     },
     "metadata": {},
     "output_type": "display_data"
    }
   ],
   "source": [
    "sns.distplot(np.log(transformed_train['count']))"
   ]
  },
  {
   "cell_type": "code",
   "execution_count": 20,
   "metadata": {},
   "outputs": [
    {
     "data": {
      "text/plain": [
       "Index(['season', 'holiday', 'workingday', 'weather', 'temp', 'atemp',\n",
       "       'humidity', 'windspeed', 'casual', 'registered', 'count', 'year',\n",
       "       'month', 'day', 'hour'],\n",
       "      dtype='object')"
      ]
     },
     "execution_count": 20,
     "metadata": {},
     "output_type": "execute_result"
    }
   ],
   "source": [
    "transformed_train.columns"
   ]
  },
  {
   "cell_type": "code",
   "execution_count": 21,
   "metadata": {},
   "outputs": [
    {
     "data": {
      "text/plain": [
       "<matplotlib.axes._subplots.AxesSubplot at 0xbaf269fb00>"
      ]
     },
     "execution_count": 21,
     "metadata": {},
     "output_type": "execute_result"
    },
    {
     "data": {
      "image/png": "[encoded data removed]",
      "text/plain": [
       "<matplotlib.figure.Figure at 0xbaf0e089b0>"
      ]
     },
     "metadata": {},
     "output_type": "display_data"
    }
   ],
   "source": [
    "transformed_train['month'].value_counts().plot(kind='bar')"
   ]
  },
  {
   "cell_type": "code",
   "execution_count": 22,
   "metadata": {},
   "outputs": [
    {
     "data": {
      "text/plain": [
       "<matplotlib.axes._subplots.AxesSubplot at 0xbaf26f2a90>"
      ]
     },
     "execution_count": 22,
     "metadata": {},
     "output_type": "execute_result"
    },
    {
     "data": {
      "image/png": "[encoded data removed]",
      "text/plain": [
       "<matplotlib.figure.Figure at 0xbaf0def518>"
      ]
     },
     "metadata": {},
     "output_type": "display_data"
    }
   ],
   "source": [
    "transformed_train['year'].value_counts().plot(kind='bar')"
   ]
  },
  {
   "cell_type": "code",
   "execution_count": 23,
   "metadata": {},
   "outputs": [
    {
     "data": {
      "text/plain": [
       "<matplotlib.axes._subplots.AxesSubplot at 0xbaf2753ef0>"
      ]
     },
     "execution_count": 23,
     "metadata": {},
     "output_type": "execute_result"
    },
    {
     "data": {
      "image/png": "[encoded data removed]",
      "text/plain": [
       "<matplotlib.figure.Figure at 0xbaf0def978>"
      ]
     },
     "metadata": {},
     "output_type": "display_data"
    }
   ],
   "source": [
    "transformed_train['day'].value_counts().plot(kind='bar')"
   ]
  },
  {
   "cell_type": "code",
   "execution_count": 24,
   "metadata": {},
   "outputs": [
    {
     "data": {
      "text/plain": [
       "<matplotlib.axes._subplots.AxesSubplot at 0xbaf27cc7f0>"
      ]
     },
     "execution_count": 24,
     "metadata": {},
     "output_type": "execute_result"
    },
    {
     "data": {
      "image/png": "[encoded data removed]",
      "text/plain": [
       "<matplotlib.figure.Figure at 0xbaf27e1588>"
      ]
     },
     "metadata": {},
     "output_type": "display_data"
    }
   ],
   "source": [
    "transformed_train['season'].value_counts().plot(kind='bar')"
   ]
  },
  {
   "cell_type": "markdown",
   "metadata": {},
   "source": [
    "Времево данните са напълно равномерно разпределени. Това можеше да се очаква."
   ]
  },
  {
   "cell_type": "markdown",
   "metadata": {},
   "source": [
    "Нека видим какво ще ни покаже describe() метода"
   ]
  },
  {
   "cell_type": "code",
   "execution_count": 25,
   "metadata": {},
   "outputs": [
    {
     "data": {
      "text/html": [
       "<div>\n",
       "<style>\n",
       "    .dataframe thead tr:only-child th {\n",
       "        text-align: right;\n",
       "    }\n",
       "\n",
       "    .dataframe thead th {\n",
       "        text-align: left;\n",
       "    }\n",
       "\n",
       "    .dataframe tbody tr th {\n",
       "        vertical-align: top;\n",
       "    }\n",
       "</style>\n",
       "<table border=\"1\" class=\"dataframe\">\n",
       "  <thead>\n",
       "    <tr style=\"text-align: right;\">\n",
       "      <th></th>\n",
       "      <th>season</th>\n",
       "      <th>holiday</th>\n",
       "      <th>workingday</th>\n",
       "      <th>weather</th>\n",
       "      <th>temp</th>\n",
       "      <th>atemp</th>\n",
       "      <th>humidity</th>\n",
       "      <th>windspeed</th>\n",
       "      <th>casual</th>\n",
       "      <th>registered</th>\n",
       "      <th>count</th>\n",
       "      <th>year</th>\n",
       "      <th>month</th>\n",
       "      <th>day</th>\n",
       "      <th>hour</th>\n",
       "    </tr>\n",
       "  </thead>\n",
       "  <tbody>\n",
       "    <tr>\n",
       "      <th>count</th>\n",
       "      <td>10886.000000</td>\n",
       "      <td>10886.000000</td>\n",
       "      <td>10886.000000</td>\n",
       "      <td>10886.000000</td>\n",
       "      <td>10886.00000</td>\n",
       "      <td>10886.000000</td>\n",
       "      <td>10886.000000</td>\n",
       "      <td>10886.000000</td>\n",
       "      <td>10886.000000</td>\n",
       "      <td>10886.000000</td>\n",
       "      <td>10886.000000</td>\n",
       "      <td>10886.000000</td>\n",
       "      <td>10886.000000</td>\n",
       "      <td>10886.000000</td>\n",
       "      <td>10886.000000</td>\n",
       "    </tr>\n",
       "    <tr>\n",
       "      <th>mean</th>\n",
       "      <td>2.506614</td>\n",
       "      <td>0.028569</td>\n",
       "      <td>0.680875</td>\n",
       "      <td>1.418427</td>\n",
       "      <td>20.23086</td>\n",
       "      <td>23.655084</td>\n",
       "      <td>61.886460</td>\n",
       "      <td>12.799395</td>\n",
       "      <td>36.021955</td>\n",
       "      <td>155.552177</td>\n",
       "      <td>191.574132</td>\n",
       "      <td>2011.501929</td>\n",
       "      <td>6.521495</td>\n",
       "      <td>9.992559</td>\n",
       "      <td>11.541613</td>\n",
       "    </tr>\n",
       "    <tr>\n",
       "      <th>std</th>\n",
       "      <td>1.116174</td>\n",
       "      <td>0.166599</td>\n",
       "      <td>0.466159</td>\n",
       "      <td>0.633839</td>\n",
       "      <td>7.79159</td>\n",
       "      <td>8.474601</td>\n",
       "      <td>19.245033</td>\n",
       "      <td>8.164537</td>\n",
       "      <td>49.960477</td>\n",
       "      <td>151.039033</td>\n",
       "      <td>181.144454</td>\n",
       "      <td>0.500019</td>\n",
       "      <td>3.444373</td>\n",
       "      <td>5.476608</td>\n",
       "      <td>6.915838</td>\n",
       "    </tr>\n",
       "    <tr>\n",
       "      <th>min</th>\n",
       "      <td>1.000000</td>\n",
       "      <td>0.000000</td>\n",
       "      <td>0.000000</td>\n",
       "      <td>1.000000</td>\n",
       "      <td>0.82000</td>\n",
       "      <td>0.760000</td>\n",
       "      <td>0.000000</td>\n",
       "      <td>0.000000</td>\n",
       "      <td>0.000000</td>\n",
       "      <td>0.000000</td>\n",
       "      <td>1.000000</td>\n",
       "      <td>2011.000000</td>\n",
       "      <td>1.000000</td>\n",
       "      <td>1.000000</td>\n",
       "      <td>0.000000</td>\n",
       "    </tr>\n",
       "    <tr>\n",
       "      <th>25%</th>\n",
       "      <td>2.000000</td>\n",
       "      <td>0.000000</td>\n",
       "      <td>0.000000</td>\n",
       "      <td>1.000000</td>\n",
       "      <td>13.94000</td>\n",
       "      <td>16.665000</td>\n",
       "      <td>47.000000</td>\n",
       "      <td>7.001500</td>\n",
       "      <td>4.000000</td>\n",
       "      <td>36.000000</td>\n",
       "      <td>42.000000</td>\n",
       "      <td>2011.000000</td>\n",
       "      <td>4.000000</td>\n",
       "      <td>5.000000</td>\n",
       "      <td>6.000000</td>\n",
       "    </tr>\n",
       "    <tr>\n",
       "      <th>50%</th>\n",
       "      <td>3.000000</td>\n",
       "      <td>0.000000</td>\n",
       "      <td>1.000000</td>\n",
       "      <td>1.000000</td>\n",
       "      <td>20.50000</td>\n",
       "      <td>24.240000</td>\n",
       "      <td>62.000000</td>\n",
       "      <td>12.998000</td>\n",
       "      <td>17.000000</td>\n",
       "      <td>118.000000</td>\n",
       "      <td>145.000000</td>\n",
       "      <td>2012.000000</td>\n",
       "      <td>7.000000</td>\n",
       "      <td>10.000000</td>\n",
       "      <td>12.000000</td>\n",
       "    </tr>\n",
       "    <tr>\n",
       "      <th>75%</th>\n",
       "      <td>4.000000</td>\n",
       "      <td>0.000000</td>\n",
       "      <td>1.000000</td>\n",
       "      <td>2.000000</td>\n",
       "      <td>26.24000</td>\n",
       "      <td>31.060000</td>\n",
       "      <td>77.000000</td>\n",
       "      <td>16.997900</td>\n",
       "      <td>49.000000</td>\n",
       "      <td>222.000000</td>\n",
       "      <td>284.000000</td>\n",
       "      <td>2012.000000</td>\n",
       "      <td>10.000000</td>\n",
       "      <td>15.000000</td>\n",
       "      <td>18.000000</td>\n",
       "    </tr>\n",
       "    <tr>\n",
       "      <th>max</th>\n",
       "      <td>4.000000</td>\n",
       "      <td>1.000000</td>\n",
       "      <td>1.000000</td>\n",
       "      <td>4.000000</td>\n",
       "      <td>41.00000</td>\n",
       "      <td>45.455000</td>\n",
       "      <td>100.000000</td>\n",
       "      <td>56.996900</td>\n",
       "      <td>367.000000</td>\n",
       "      <td>886.000000</td>\n",
       "      <td>977.000000</td>\n",
       "      <td>2012.000000</td>\n",
       "      <td>12.000000</td>\n",
       "      <td>19.000000</td>\n",
       "      <td>23.000000</td>\n",
       "    </tr>\n",
       "  </tbody>\n",
       "</table>\n",
       "</div>"
      ],
      "text/plain": [
       "             season       holiday    workingday       weather         temp  \\\n",
       "count  10886.000000  10886.000000  10886.000000  10886.000000  10886.00000   \n",
       "mean       2.506614      0.028569      0.680875      1.418427     20.23086   \n",
       "std        1.116174      0.166599      0.466159      0.633839      7.79159   \n",
       "min        1.000000      0.000000      0.000000      1.000000      0.82000   \n",
       "25%        2.000000      0.000000      0.000000      1.000000     13.94000   \n",
       "50%        3.000000      0.000000      1.000000      1.000000     20.50000   \n",
       "75%        4.000000      0.000000      1.000000      2.000000     26.24000   \n",
       "max        4.000000      1.000000      1.000000      4.000000     41.00000   \n",
       "\n",
       "              atemp      humidity     windspeed        casual    registered  \\\n",
       "count  10886.000000  10886.000000  10886.000000  10886.000000  10886.000000   \n",
       "mean      23.655084     61.886460     12.799395     36.021955    155.552177   \n",
       "std        8.474601     19.245033      8.164537     49.960477    151.039033   \n",
       "min        0.760000      0.000000      0.000000      0.000000      0.000000   \n",
       "25%       16.665000     47.000000      7.001500      4.000000     36.000000   \n",
       "50%       24.240000     62.000000     12.998000     17.000000    118.000000   \n",
       "75%       31.060000     77.000000     16.997900     49.000000    222.000000   \n",
       "max       45.455000    100.000000     56.996900    367.000000    886.000000   \n",
       "\n",
       "              count          year         month           day          hour  \n",
       "count  10886.000000  10886.000000  10886.000000  10886.000000  10886.000000  \n",
       "mean     191.574132   2011.501929      6.521495      9.992559     11.541613  \n",
       "std      181.144454      0.500019      3.444373      5.476608      6.915838  \n",
       "min        1.000000   2011.000000      1.000000      1.000000      0.000000  \n",
       "25%       42.000000   2011.000000      4.000000      5.000000      6.000000  \n",
       "50%      145.000000   2012.000000      7.000000     10.000000     12.000000  \n",
       "75%      284.000000   2012.000000     10.000000     15.000000     18.000000  \n",
       "max      977.000000   2012.000000     12.000000     19.000000     23.000000  "
      ]
     },
     "execution_count": 25,
     "metadata": {},
     "output_type": "execute_result"
    }
   ],
   "source": [
    "transformed_train.describe()"
   ]
  },
  {
   "cell_type": "markdown",
   "metadata": {},
   "source": [
    "Махаме колоните registered и casual, защото registered + casual = count, а колоната day я махаме, защото train данните са за първите 19 дни от всеки месец и не искаме да объркваме модела с това. Той трябва да може да предсказва за всички дни."
   ]
  },
  {
   "cell_type": "code",
   "execution_count": 26,
   "metadata": {},
   "outputs": [],
   "source": [
    "transformed_train = transformed_train.drop(labels=['registered','casual','day'], axis=1)"
   ]
  },
  {
   "cell_type": "markdown",
   "metadata": {},
   "source": [
    "Нека сега направим heatmap (нещо, което видях от [тук](https://www.kaggle.com/pmarcelino/comprehensive-data-exploration-with-python/notebook)), защото според мен това е най-бързият начин да видим дали има връзка м/у отделни feature-и."
   ]
  },
  {
   "cell_type": "code",
   "execution_count": 27,
   "metadata": {},
   "outputs": [
    {
     "data": {
      "image/png": "[encoded data removed]",
      "text/plain": [
       "<matplotlib.figure.Figure at 0xbaf2880240>"
      ]
     },
     "metadata": {},
     "output_type": "display_data"
    }
   ],
   "source": [
    "corrmat = transformed_train.corr()\n",
    "f, ax = plt.subplots(figsize=(12, 9))\n",
    "sns.heatmap(corrmat, vmax=1., square=True);"
   ]
  },
  {
   "cell_type": "markdown",
   "metadata": {},
   "source": [
    "Виждаме очаквано много силна връзка м/у месец и сезон, м/у temp(колко градуса е) и actual temp(като колко се усеща), м/у weather и humidity. По-интересното обаче е, че има добра корелация м/у count и temp/atemp и м/у count и hour. Нека видим тези корелации по-ясно."
   ]
  },
  {
   "cell_type": "code",
   "execution_count": 34,
   "metadata": {},
   "outputs": [
    {
     "data": {
      "text/plain": [
       "[Text(0,0.5,'Avearage Count'),\n",
       " Text(0.5,0,'Month'),\n",
       " Text(0.5,1,'Average Count By Month')]"
      ]
     },
     "execution_count": 34,
     "metadata": {},
     "output_type": "execute_result"
    },
    {
     "data": {
      "image/png": "[encoded data removed]",
      "text/plain": [
       "<matplotlib.figure.Figure at 0xbafad7b518>"
      ]
     },
     "metadata": {},
     "output_type": "display_data"
    }
   ],
   "source": [
    "fig,(ax1,ax2,ax3)= plt.subplots(nrows=3)\n",
    "fig.set_size_inches(9,15)\n",
    "\n",
    "hourAggregated = pd.DataFrame(transformed_train.groupby([\"hour\"],sort=True)[\"count\"].mean()).reset_index()\n",
    "sns.pointplot(x='hour', y='count', data=hourAggregated, join=True,ax=ax1)\n",
    "ax1.set(xlabel='Hour Of The Day', ylabel='Users Count',title=\"Average Users Count By Hour Of The Day\",label='big')\n",
    "\n",
    "hourAggregated = pd.DataFrame(transformed_train.groupby([\"hour\",\"workingday\"],sort=True)[\"count\"].mean()).reset_index()\n",
    "sns.pointplot(x='hour', y='count',hue='workingday', data=hourAggregated, join=True,ax=ax2)\n",
    "ax2.set(xlabel='Hour Of The Day', ylabel='Users Count',title=\"Average Users Count By Hour Of The Day Across Working Days\",label='big')\n",
    "\n",
    "monthAggregated = pd.DataFrame(transformed_train.groupby(\"month\")[\"count\"].mean()).reset_index()\n",
    "monthSorted = monthAggregated.sort_values(by=\"count\",ascending=False)\n",
    "sns.barplot(data=monthSorted,x='month',y='count',ax=ax3)\n",
    "ax3.set(xlabel='Month', ylabel='Avearage Count',title=\"Average Count By Month\")"
   ]
  },
  {
   "cell_type": "markdown",
   "metadata": {},
   "source": [
    "Виждаме неща, които не трябва да ни изненадват особено и са напълно очаквани. През по-топлите месеци има повече използвани колелета, през работните дни пиковете са около 08:00 и 18:00, когато най-вероятно хората ги ползват, за транспорт м/у работата и дома, а през почивните дни следобедните часове са по-предпочитани. "
   ]
  },
  {
   "cell_type": "markdown",
   "metadata": {},
   "source": [
    "Ще илюстрирам и някои други връзки."
   ]
  },
  {
   "cell_type": "code",
   "execution_count": 29,
   "metadata": {},
   "outputs": [
    {
     "data": {
      "text/plain": [
       "<matplotlib.axes._subplots.AxesSubplot at 0xbaf2b6beb8>"
      ]
     },
     "execution_count": 29,
     "metadata": {},
     "output_type": "execute_result"
    },
    {
     "data": {
      "image/png": "[encoded data removed]",
      "text/plain": [
       "<matplotlib.figure.Figure at 0xbaf28235c0>"
      ]
     },
     "metadata": {},
     "output_type": "display_data"
    }
   ],
   "source": [
    "sns.barplot(x='year', y='count', data=transformed_train)"
   ]
  },
  {
   "cell_type": "markdown",
   "metadata": {},
   "source": [
    "Може да направим очевидния извод, че през 2012 ползването на колелетата се е увеличило."
   ]
  },
  {
   "cell_type": "code",
   "execution_count": 30,
   "metadata": {},
   "outputs": [
    {
     "data": {
      "text/plain": [
       "<matplotlib.axes._subplots.AxesSubplot at 0xbafb0b1ef0>"
      ]
     },
     "execution_count": 30,
     "metadata": {},
     "output_type": "execute_result"
    },
    {
     "data": {
      "image/png": "[encoded data removed]",
      "text/plain": [
       "<matplotlib.figure.Figure at 0xbaf2abb390>"
      ]
     },
     "metadata": {},
     "output_type": "display_data"
    }
   ],
   "source": [
    "sns.barplot(x='weather', y='count', data=transformed_train)"
   ]
  },
  {
   "cell_type": "code",
   "execution_count": 31,
   "metadata": {},
   "outputs": [
    {
     "data": {
      "text/plain": [
       "<matplotlib.axes._subplots.AxesSubplot at 0xbafb0d4208>"
      ]
     },
     "execution_count": 31,
     "metadata": {},
     "output_type": "execute_result"
    },
    {
     "data": {
      "image/png": "[encoded data removed]",
      "text/plain": [
       "<matplotlib.figure.Figure at 0xbaf2915ba8>"
      ]
     },
     "metadata": {},
     "output_type": "display_data"
    }
   ],
   "source": [
    "sns.barplot(x='season', y='count', data=transformed_train)"
   ]
  },
  {
   "cell_type": "markdown",
   "metadata": {},
   "source": [
    "Отново неща, които не изненадват: лято и есен са най-предпочитаните сезони и по-доброто време е предпоставка за повече колоездачи."
   ]
  },
  {
   "cell_type": "code",
   "execution_count": 28,
   "metadata": {},
   "outputs": [
    {
     "name": "stdout",
     "output_type": "stream",
     "text": [
      "4    2734\n",
      "3    2733\n",
      "2    2733\n",
      "1    2686\n",
      "Name: season, dtype: int64\n",
      "0    10575\n",
      "1      311\n",
      "Name: holiday, dtype: int64\n",
      "1    7412\n",
      "0    3474\n",
      "Name: workingday, dtype: int64\n",
      "1    7192\n",
      "2    2834\n",
      "3     859\n",
      "4       1\n",
      "Name: weather, dtype: int64\n",
      "14.76    467\n",
      "26.24    453\n",
      "28.70    427\n",
      "13.94    413\n",
      "18.86    406\n",
      "22.14    403\n",
      "25.42    403\n",
      "16.40    400\n",
      "22.96    395\n",
      "27.06    394\n",
      "24.60    390\n",
      "12.30    385\n",
      "21.32    362\n",
      "13.12    356\n",
      "17.22    356\n",
      "29.52    353\n",
      "10.66    332\n",
      "18.04    328\n",
      "20.50    327\n",
      "30.34    299\n",
      "9.84     294\n",
      "15.58    255\n",
      "9.02     248\n",
      "31.16    242\n",
      "8.20     229\n",
      "27.88    224\n",
      "23.78    203\n",
      "32.80    202\n",
      "11.48    181\n",
      "19.68    170\n",
      "6.56     146\n",
      "33.62    130\n",
      "5.74     107\n",
      "7.38     106\n",
      "31.98     98\n",
      "34.44     80\n",
      "35.26     76\n",
      "4.92      60\n",
      "36.90     46\n",
      "4.10      44\n",
      "37.72     34\n",
      "36.08     23\n",
      "3.28      11\n",
      "38.54      7\n",
      "0.82       7\n",
      "39.36      6\n",
      "2.46       5\n",
      "1.64       2\n",
      "41.00      1\n",
      "Name: temp, dtype: int64\n",
      "31.060    671\n",
      "25.760    423\n",
      "22.725    406\n",
      "20.455    400\n",
      "26.515    395\n",
      "16.665    381\n",
      "25.000    365\n",
      "33.335    364\n",
      "21.210    356\n",
      "30.305    350\n",
      "15.150    338\n",
      "21.970    328\n",
      "24.240    327\n",
      "17.425    314\n",
      "31.820    299\n",
      "34.850    283\n",
      "27.275    282\n",
      "32.575    272\n",
      "11.365    271\n",
      "14.395    269\n",
      "29.545    257\n",
      "19.695    255\n",
      "15.910    254\n",
      "12.880    247\n",
      "13.635    237\n",
      "34.090    224\n",
      "12.120    195\n",
      "28.790    175\n",
      "23.485    170\n",
      "10.605    166\n",
      "35.605    159\n",
      "9.850     127\n",
      "18.180    123\n",
      "36.365    123\n",
      "37.120    118\n",
      "9.090     107\n",
      "37.880     97\n",
      "28.030     80\n",
      "7.575      75\n",
      "38.635     74\n",
      "6.060      73\n",
      "39.395     67\n",
      "6.820      63\n",
      "8.335      63\n",
      "18.940     45\n",
      "40.150     45\n",
      "40.910     39\n",
      "5.305      25\n",
      "42.425     24\n",
      "41.665     23\n",
      "3.790      16\n",
      "4.545      11\n",
      "43.940      7\n",
      "43.180      7\n",
      "2.275       7\n",
      "3.030       7\n",
      "44.695      3\n",
      "0.760       2\n",
      "1.515       1\n",
      "45.455      1\n",
      "Name: atemp, dtype: int64\n",
      "88    368\n",
      "94    324\n",
      "83    316\n",
      "87    289\n",
      "70    259\n",
      "65    253\n",
      "46    247\n",
      "66    246\n",
      "77    244\n",
      "49    234\n",
      "55    224\n",
      "52    218\n",
      "56    208\n",
      "69    207\n",
      "93    205\n",
      "61    205\n",
      "62    202\n",
      "82    200\n",
      "74    197\n",
      "73    195\n",
      "43    193\n",
      "78    192\n",
      "50    190\n",
      "53    186\n",
      "41    184\n",
      "59    178\n",
      "81    174\n",
      "58    168\n",
      "40    167\n",
      "54    164\n",
      "     ... \n",
      "32     64\n",
      "28     61\n",
      "80     60\n",
      "30     60\n",
      "27     49\n",
      "86     40\n",
      "26     39\n",
      "23     37\n",
      "24     37\n",
      "25     32\n",
      "0      22\n",
      "22     18\n",
      "21     16\n",
      "19     15\n",
      "20     10\n",
      "16      8\n",
      "18      7\n",
      "17      6\n",
      "90      4\n",
      "15      4\n",
      "85      4\n",
      "92      2\n",
      "14      2\n",
      "8       1\n",
      "97      1\n",
      "13      1\n",
      "10      1\n",
      "12      1\n",
      "96      1\n",
      "91      1\n",
      "Name: humidity, Length: 89, dtype: int64\n",
      "0.0000     1313\n",
      "8.9981     1120\n",
      "11.0014    1057\n",
      "12.9980    1042\n",
      "7.0015     1034\n",
      "15.0013     961\n",
      "6.0032      872\n",
      "16.9979     824\n",
      "19.0012     676\n",
      "19.9995     492\n",
      "22.0028     372\n",
      "23.9994     274\n",
      "26.0027     235\n",
      "27.9993     187\n",
      "30.0026     111\n",
      "31.0009      89\n",
      "32.9975      80\n",
      "35.0008      58\n",
      "39.0007      27\n",
      "36.9974      22\n",
      "43.0006      12\n",
      "40.9973      11\n",
      "43.9989       8\n",
      "46.0022       3\n",
      "56.9969       2\n",
      "47.9988       2\n",
      "50.0021       1\n",
      "51.9987       1\n",
      "Name: windspeed, dtype: int64\n",
      "5      169\n",
      "4      149\n",
      "3      144\n",
      "6      135\n",
      "2      132\n",
      "7      118\n",
      "1      105\n",
      "8       99\n",
      "10      95\n",
      "11      95\n",
      "9       83\n",
      "12      76\n",
      "16      73\n",
      "14      66\n",
      "13      65\n",
      "20      61\n",
      "17      58\n",
      "15      57\n",
      "21      54\n",
      "28      54\n",
      "23      53\n",
      "26      48\n",
      "24      44\n",
      "64      43\n",
      "31      43\n",
      "18      42\n",
      "25      42\n",
      "33      41\n",
      "32      39\n",
      "30      39\n",
      "      ... \n",
      "625      1\n",
      "818      1\n",
      "842      1\n",
      "850      1\n",
      "827      1\n",
      "700      1\n",
      "660      1\n",
      "652      1\n",
      "636      1\n",
      "612      1\n",
      "588      1\n",
      "532      1\n",
      "891      1\n",
      "867      1\n",
      "851      1\n",
      "887      1\n",
      "819      1\n",
      "890      1\n",
      "779      1\n",
      "771      1\n",
      "755      1\n",
      "747      1\n",
      "739      1\n",
      "691      1\n",
      "683      1\n",
      "667      1\n",
      "603      1\n",
      "587      1\n",
      "970      1\n",
      "843      1\n",
      "Name: count, Length: 822, dtype: int64\n",
      "2012    5464\n",
      "2011    5422\n",
      "Name: year, dtype: int64\n",
      "7     912\n",
      "6     912\n",
      "5     912\n",
      "12    912\n",
      "8     912\n",
      "11    911\n",
      "10    911\n",
      "4     909\n",
      "9     909\n",
      "3     901\n",
      "2     901\n",
      "1     884\n",
      "Name: month, dtype: int64\n",
      "23    456\n",
      "20    456\n",
      "16    456\n",
      "17    456\n",
      "18    456\n",
      "15    456\n",
      "12    456\n",
      "19    456\n",
      "13    456\n",
      "21    456\n",
      "14    456\n",
      "22    456\n",
      "6     455\n",
      "11    455\n",
      "10    455\n",
      "9     455\n",
      "7     455\n",
      "8     455\n",
      "0     455\n",
      "1     454\n",
      "5     452\n",
      "2     448\n",
      "4     442\n",
      "3     433\n",
      "Name: hour, dtype: int64\n"
     ]
    }
   ],
   "source": [
    "for column in transformed_train.columns:\n",
    "    print(transformed_train[column].value_counts())"
   ]
  },
  {
   "cell_type": "markdown",
   "metadata": {},
   "source": [
    "Ще махнем колонката temp, защото atemp е достатъчна. Виждаме обаче, че имаме над 1300 записа с нулево humidity. Можем да ги предскажем или да махнем колоната, или да ги попълним със средната стойност. Засега избираме третото."
   ]
  },
  {
   "cell_type": "code",
   "execution_count": 42,
   "metadata": {},
   "outputs": [],
   "source": [
    "transformed_train = transformed_train.drop(['temp'], axis=1)\n",
    "non_zero_windspeed = transformed_train.windspeed.loc[(transformed_train.windspeed != 0)]\n",
    "transformed_train['windspeed'] = transformed_train['windspeed'].replace(to_replace=0,value=non_zero_windspeed.mean())"
   ]
  },
  {
   "cell_type": "code",
   "execution_count": 30,
   "metadata": {},
   "outputs": [
    {
     "data": {
      "text/plain": [
       "14.554917    1313\n",
       "8.998100     1120\n",
       "11.001400    1057\n",
       "12.998000    1042\n",
       "7.001500     1034\n",
       "15.001300     961\n",
       "6.003200      872\n",
       "16.997900     824\n",
       "19.001200     676\n",
       "19.999500     492\n",
       "22.002800     372\n",
       "23.999400     274\n",
       "26.002700     235\n",
       "27.999300     187\n",
       "30.002600     111\n",
       "31.000900      89\n",
       "32.997500      80\n",
       "35.000800      58\n",
       "39.000700      27\n",
       "36.997400      22\n",
       "43.000600      12\n",
       "40.997300      11\n",
       "43.998900       8\n",
       "46.002200       3\n",
       "56.996900       2\n",
       "47.998800       2\n",
       "50.002100       1\n",
       "51.998700       1\n",
       "Name: windspeed, dtype: int64"
      ]
     },
     "execution_count": 30,
     "metadata": {},
     "output_type": "execute_result"
    }
   ],
   "source": [
    "transformed_train.windspeed.value_counts()"
   ]
  },
  {
   "cell_type": "code",
   "execution_count": 31,
   "metadata": {},
   "outputs": [
    {
     "data": {
      "text/html": [
       "<div>\n",
       "<style>\n",
       "    .dataframe thead tr:only-child th {\n",
       "        text-align: right;\n",
       "    }\n",
       "\n",
       "    .dataframe thead th {\n",
       "        text-align: left;\n",
       "    }\n",
       "\n",
       "    .dataframe tbody tr th {\n",
       "        vertical-align: top;\n",
       "    }\n",
       "</style>\n",
       "<table border=\"1\" class=\"dataframe\">\n",
       "  <thead>\n",
       "    <tr style=\"text-align: right;\">\n",
       "      <th></th>\n",
       "      <th>season</th>\n",
       "      <th>holiday</th>\n",
       "      <th>workingday</th>\n",
       "      <th>weather</th>\n",
       "      <th>atemp</th>\n",
       "      <th>humidity</th>\n",
       "      <th>windspeed</th>\n",
       "      <th>count</th>\n",
       "      <th>year</th>\n",
       "      <th>month</th>\n",
       "      <th>hour</th>\n",
       "    </tr>\n",
       "  </thead>\n",
       "  <tbody>\n",
       "    <tr>\n",
       "      <th>0</th>\n",
       "      <td>1</td>\n",
       "      <td>0</td>\n",
       "      <td>0</td>\n",
       "      <td>1</td>\n",
       "      <td>14.395</td>\n",
       "      <td>81</td>\n",
       "      <td>14.554917</td>\n",
       "      <td>16</td>\n",
       "      <td>2011</td>\n",
       "      <td>1</td>\n",
       "      <td>0</td>\n",
       "    </tr>\n",
       "    <tr>\n",
       "      <th>1</th>\n",
       "      <td>1</td>\n",
       "      <td>0</td>\n",
       "      <td>0</td>\n",
       "      <td>1</td>\n",
       "      <td>13.635</td>\n",
       "      <td>80</td>\n",
       "      <td>14.554917</td>\n",
       "      <td>40</td>\n",
       "      <td>2011</td>\n",
       "      <td>1</td>\n",
       "      <td>1</td>\n",
       "    </tr>\n",
       "    <tr>\n",
       "      <th>2</th>\n",
       "      <td>1</td>\n",
       "      <td>0</td>\n",
       "      <td>0</td>\n",
       "      <td>1</td>\n",
       "      <td>13.635</td>\n",
       "      <td>80</td>\n",
       "      <td>14.554917</td>\n",
       "      <td>32</td>\n",
       "      <td>2011</td>\n",
       "      <td>1</td>\n",
       "      <td>2</td>\n",
       "    </tr>\n",
       "    <tr>\n",
       "      <th>3</th>\n",
       "      <td>1</td>\n",
       "      <td>0</td>\n",
       "      <td>0</td>\n",
       "      <td>1</td>\n",
       "      <td>14.395</td>\n",
       "      <td>75</td>\n",
       "      <td>14.554917</td>\n",
       "      <td>13</td>\n",
       "      <td>2011</td>\n",
       "      <td>1</td>\n",
       "      <td>3</td>\n",
       "    </tr>\n",
       "    <tr>\n",
       "      <th>4</th>\n",
       "      <td>1</td>\n",
       "      <td>0</td>\n",
       "      <td>0</td>\n",
       "      <td>1</td>\n",
       "      <td>14.395</td>\n",
       "      <td>75</td>\n",
       "      <td>14.554917</td>\n",
       "      <td>1</td>\n",
       "      <td>2011</td>\n",
       "      <td>1</td>\n",
       "      <td>4</td>\n",
       "    </tr>\n",
       "    <tr>\n",
       "      <th>5</th>\n",
       "      <td>1</td>\n",
       "      <td>0</td>\n",
       "      <td>0</td>\n",
       "      <td>2</td>\n",
       "      <td>12.880</td>\n",
       "      <td>75</td>\n",
       "      <td>6.003200</td>\n",
       "      <td>1</td>\n",
       "      <td>2011</td>\n",
       "      <td>1</td>\n",
       "      <td>5</td>\n",
       "    </tr>\n",
       "    <tr>\n",
       "      <th>6</th>\n",
       "      <td>1</td>\n",
       "      <td>0</td>\n",
       "      <td>0</td>\n",
       "      <td>1</td>\n",
       "      <td>13.635</td>\n",
       "      <td>80</td>\n",
       "      <td>14.554917</td>\n",
       "      <td>2</td>\n",
       "      <td>2011</td>\n",
       "      <td>1</td>\n",
       "      <td>6</td>\n",
       "    </tr>\n",
       "    <tr>\n",
       "      <th>7</th>\n",
       "      <td>1</td>\n",
       "      <td>0</td>\n",
       "      <td>0</td>\n",
       "      <td>1</td>\n",
       "      <td>12.880</td>\n",
       "      <td>86</td>\n",
       "      <td>14.554917</td>\n",
       "      <td>3</td>\n",
       "      <td>2011</td>\n",
       "      <td>1</td>\n",
       "      <td>7</td>\n",
       "    </tr>\n",
       "    <tr>\n",
       "      <th>8</th>\n",
       "      <td>1</td>\n",
       "      <td>0</td>\n",
       "      <td>0</td>\n",
       "      <td>1</td>\n",
       "      <td>14.395</td>\n",
       "      <td>75</td>\n",
       "      <td>14.554917</td>\n",
       "      <td>8</td>\n",
       "      <td>2011</td>\n",
       "      <td>1</td>\n",
       "      <td>8</td>\n",
       "    </tr>\n",
       "    <tr>\n",
       "      <th>9</th>\n",
       "      <td>1</td>\n",
       "      <td>0</td>\n",
       "      <td>0</td>\n",
       "      <td>1</td>\n",
       "      <td>17.425</td>\n",
       "      <td>76</td>\n",
       "      <td>14.554917</td>\n",
       "      <td>14</td>\n",
       "      <td>2011</td>\n",
       "      <td>1</td>\n",
       "      <td>9</td>\n",
       "    </tr>\n",
       "  </tbody>\n",
       "</table>\n",
       "</div>"
      ],
      "text/plain": [
       "   season  holiday  workingday  weather   atemp  humidity  windspeed  count  \\\n",
       "0       1        0           0        1  14.395        81  14.554917     16   \n",
       "1       1        0           0        1  13.635        80  14.554917     40   \n",
       "2       1        0           0        1  13.635        80  14.554917     32   \n",
       "3       1        0           0        1  14.395        75  14.554917     13   \n",
       "4       1        0           0        1  14.395        75  14.554917      1   \n",
       "5       1        0           0        2  12.880        75   6.003200      1   \n",
       "6       1        0           0        1  13.635        80  14.554917      2   \n",
       "7       1        0           0        1  12.880        86  14.554917      3   \n",
       "8       1        0           0        1  14.395        75  14.554917      8   \n",
       "9       1        0           0        1  17.425        76  14.554917     14   \n",
       "\n",
       "   year  month  hour  \n",
       "0  2011      1     0  \n",
       "1  2011      1     1  \n",
       "2  2011      1     2  \n",
       "3  2011      1     3  \n",
       "4  2011      1     4  \n",
       "5  2011      1     5  \n",
       "6  2011      1     6  \n",
       "7  2011      1     7  \n",
       "8  2011      1     8  \n",
       "9  2011      1     9  "
      ]
     },
     "execution_count": 31,
     "metadata": {},
     "output_type": "execute_result"
    }
   ],
   "source": [
    "transformed_train.head(10)"
   ]
  },
  {
   "cell_type": "markdown",
   "metadata": {},
   "source": [
    "Нека one hot encode-нем и да видим какво ще се получи."
   ]
  },
  {
   "cell_type": "code",
   "execution_count": 48,
   "metadata": {},
   "outputs": [],
   "source": [
    "encoded_train = transformed_train.copy()"
   ]
  },
  {
   "cell_type": "code",
   "execution_count": 49,
   "metadata": {},
   "outputs": [],
   "source": [
    "categorical_features = ['season', 'year', 'month', 'hour', 'holiday', 'workingday', 'weather']\n",
    "for category in categorical_features:\n",
    "    encoded_train[category] = encoded_train[category].astype(\"category\")\n",
    "encoded_train = pd.get_dummies(encoded_train)"
   ]
  },
  {
   "cell_type": "code",
   "execution_count": 50,
   "metadata": {},
   "outputs": [
    {
     "data": {
      "text/html": [
       "<div>\n",
       "<style>\n",
       "    .dataframe thead tr:only-child th {\n",
       "        text-align: right;\n",
       "    }\n",
       "\n",
       "    .dataframe thead th {\n",
       "        text-align: left;\n",
       "    }\n",
       "\n",
       "    .dataframe tbody tr th {\n",
       "        vertical-align: top;\n",
       "    }\n",
       "</style>\n",
       "<table border=\"1\" class=\"dataframe\">\n",
       "  <thead>\n",
       "    <tr style=\"text-align: right;\">\n",
       "      <th></th>\n",
       "      <th>atemp</th>\n",
       "      <th>humidity</th>\n",
       "      <th>windspeed</th>\n",
       "      <th>count</th>\n",
       "      <th>season_1</th>\n",
       "      <th>season_2</th>\n",
       "      <th>season_3</th>\n",
       "      <th>season_4</th>\n",
       "      <th>holiday_0</th>\n",
       "      <th>holiday_1</th>\n",
       "      <th>...</th>\n",
       "      <th>hour_14</th>\n",
       "      <th>hour_15</th>\n",
       "      <th>hour_16</th>\n",
       "      <th>hour_17</th>\n",
       "      <th>hour_18</th>\n",
       "      <th>hour_19</th>\n",
       "      <th>hour_20</th>\n",
       "      <th>hour_21</th>\n",
       "      <th>hour_22</th>\n",
       "      <th>hour_23</th>\n",
       "    </tr>\n",
       "  </thead>\n",
       "  <tbody>\n",
       "    <tr>\n",
       "      <th>0</th>\n",
       "      <td>14.395</td>\n",
       "      <td>81</td>\n",
       "      <td>14.554917</td>\n",
       "      <td>16</td>\n",
       "      <td>1</td>\n",
       "      <td>0</td>\n",
       "      <td>0</td>\n",
       "      <td>0</td>\n",
       "      <td>1</td>\n",
       "      <td>0</td>\n",
       "      <td>...</td>\n",
       "      <td>0</td>\n",
       "      <td>0</td>\n",
       "      <td>0</td>\n",
       "      <td>0</td>\n",
       "      <td>0</td>\n",
       "      <td>0</td>\n",
       "      <td>0</td>\n",
       "      <td>0</td>\n",
       "      <td>0</td>\n",
       "      <td>0</td>\n",
       "    </tr>\n",
       "    <tr>\n",
       "      <th>1</th>\n",
       "      <td>13.635</td>\n",
       "      <td>80</td>\n",
       "      <td>14.554917</td>\n",
       "      <td>40</td>\n",
       "      <td>1</td>\n",
       "      <td>0</td>\n",
       "      <td>0</td>\n",
       "      <td>0</td>\n",
       "      <td>1</td>\n",
       "      <td>0</td>\n",
       "      <td>...</td>\n",
       "      <td>0</td>\n",
       "      <td>0</td>\n",
       "      <td>0</td>\n",
       "      <td>0</td>\n",
       "      <td>0</td>\n",
       "      <td>0</td>\n",
       "      <td>0</td>\n",
       "      <td>0</td>\n",
       "      <td>0</td>\n",
       "      <td>0</td>\n",
       "    </tr>\n",
       "    <tr>\n",
       "      <th>2</th>\n",
       "      <td>13.635</td>\n",
       "      <td>80</td>\n",
       "      <td>14.554917</td>\n",
       "      <td>32</td>\n",
       "      <td>1</td>\n",
       "      <td>0</td>\n",
       "      <td>0</td>\n",
       "      <td>0</td>\n",
       "      <td>1</td>\n",
       "      <td>0</td>\n",
       "      <td>...</td>\n",
       "      <td>0</td>\n",
       "      <td>0</td>\n",
       "      <td>0</td>\n",
       "      <td>0</td>\n",
       "      <td>0</td>\n",
       "      <td>0</td>\n",
       "      <td>0</td>\n",
       "      <td>0</td>\n",
       "      <td>0</td>\n",
       "      <td>0</td>\n",
       "    </tr>\n",
       "    <tr>\n",
       "      <th>3</th>\n",
       "      <td>14.395</td>\n",
       "      <td>75</td>\n",
       "      <td>14.554917</td>\n",
       "      <td>13</td>\n",
       "      <td>1</td>\n",
       "      <td>0</td>\n",
       "      <td>0</td>\n",
       "      <td>0</td>\n",
       "      <td>1</td>\n",
       "      <td>0</td>\n",
       "      <td>...</td>\n",
       "      <td>0</td>\n",
       "      <td>0</td>\n",
       "      <td>0</td>\n",
       "      <td>0</td>\n",
       "      <td>0</td>\n",
       "      <td>0</td>\n",
       "      <td>0</td>\n",
       "      <td>0</td>\n",
       "      <td>0</td>\n",
       "      <td>0</td>\n",
       "    </tr>\n",
       "    <tr>\n",
       "      <th>4</th>\n",
       "      <td>14.395</td>\n",
       "      <td>75</td>\n",
       "      <td>14.554917</td>\n",
       "      <td>1</td>\n",
       "      <td>1</td>\n",
       "      <td>0</td>\n",
       "      <td>0</td>\n",
       "      <td>0</td>\n",
       "      <td>1</td>\n",
       "      <td>0</td>\n",
       "      <td>...</td>\n",
       "      <td>0</td>\n",
       "      <td>0</td>\n",
       "      <td>0</td>\n",
       "      <td>0</td>\n",
       "      <td>0</td>\n",
       "      <td>0</td>\n",
       "      <td>0</td>\n",
       "      <td>0</td>\n",
       "      <td>0</td>\n",
       "      <td>0</td>\n",
       "    </tr>\n",
       "    <tr>\n",
       "      <th>5</th>\n",
       "      <td>12.880</td>\n",
       "      <td>75</td>\n",
       "      <td>6.003200</td>\n",
       "      <td>1</td>\n",
       "      <td>1</td>\n",
       "      <td>0</td>\n",
       "      <td>0</td>\n",
       "      <td>0</td>\n",
       "      <td>1</td>\n",
       "      <td>0</td>\n",
       "      <td>...</td>\n",
       "      <td>0</td>\n",
       "      <td>0</td>\n",
       "      <td>0</td>\n",
       "      <td>0</td>\n",
       "      <td>0</td>\n",
       "      <td>0</td>\n",
       "      <td>0</td>\n",
       "      <td>0</td>\n",
       "      <td>0</td>\n",
       "      <td>0</td>\n",
       "    </tr>\n",
       "    <tr>\n",
       "      <th>6</th>\n",
       "      <td>13.635</td>\n",
       "      <td>80</td>\n",
       "      <td>14.554917</td>\n",
       "      <td>2</td>\n",
       "      <td>1</td>\n",
       "      <td>0</td>\n",
       "      <td>0</td>\n",
       "      <td>0</td>\n",
       "      <td>1</td>\n",
       "      <td>0</td>\n",
       "      <td>...</td>\n",
       "      <td>0</td>\n",
       "      <td>0</td>\n",
       "      <td>0</td>\n",
       "      <td>0</td>\n",
       "      <td>0</td>\n",
       "      <td>0</td>\n",
       "      <td>0</td>\n",
       "      <td>0</td>\n",
       "      <td>0</td>\n",
       "      <td>0</td>\n",
       "    </tr>\n",
       "    <tr>\n",
       "      <th>7</th>\n",
       "      <td>12.880</td>\n",
       "      <td>86</td>\n",
       "      <td>14.554917</td>\n",
       "      <td>3</td>\n",
       "      <td>1</td>\n",
       "      <td>0</td>\n",
       "      <td>0</td>\n",
       "      <td>0</td>\n",
       "      <td>1</td>\n",
       "      <td>0</td>\n",
       "      <td>...</td>\n",
       "      <td>0</td>\n",
       "      <td>0</td>\n",
       "      <td>0</td>\n",
       "      <td>0</td>\n",
       "      <td>0</td>\n",
       "      <td>0</td>\n",
       "      <td>0</td>\n",
       "      <td>0</td>\n",
       "      <td>0</td>\n",
       "      <td>0</td>\n",
       "    </tr>\n",
       "    <tr>\n",
       "      <th>8</th>\n",
       "      <td>14.395</td>\n",
       "      <td>75</td>\n",
       "      <td>14.554917</td>\n",
       "      <td>8</td>\n",
       "      <td>1</td>\n",
       "      <td>0</td>\n",
       "      <td>0</td>\n",
       "      <td>0</td>\n",
       "      <td>1</td>\n",
       "      <td>0</td>\n",
       "      <td>...</td>\n",
       "      <td>0</td>\n",
       "      <td>0</td>\n",
       "      <td>0</td>\n",
       "      <td>0</td>\n",
       "      <td>0</td>\n",
       "      <td>0</td>\n",
       "      <td>0</td>\n",
       "      <td>0</td>\n",
       "      <td>0</td>\n",
       "      <td>0</td>\n",
       "    </tr>\n",
       "    <tr>\n",
       "      <th>9</th>\n",
       "      <td>17.425</td>\n",
       "      <td>76</td>\n",
       "      <td>14.554917</td>\n",
       "      <td>14</td>\n",
       "      <td>1</td>\n",
       "      <td>0</td>\n",
       "      <td>0</td>\n",
       "      <td>0</td>\n",
       "      <td>1</td>\n",
       "      <td>0</td>\n",
       "      <td>...</td>\n",
       "      <td>0</td>\n",
       "      <td>0</td>\n",
       "      <td>0</td>\n",
       "      <td>0</td>\n",
       "      <td>0</td>\n",
       "      <td>0</td>\n",
       "      <td>0</td>\n",
       "      <td>0</td>\n",
       "      <td>0</td>\n",
       "      <td>0</td>\n",
       "    </tr>\n",
       "  </tbody>\n",
       "</table>\n",
       "<p>10 rows × 54 columns</p>\n",
       "</div>"
      ],
      "text/plain": [
       "    atemp  humidity  windspeed  count  season_1  season_2  season_3  season_4  \\\n",
       "0  14.395        81  14.554917     16         1         0         0         0   \n",
       "1  13.635        80  14.554917     40         1         0         0         0   \n",
       "2  13.635        80  14.554917     32         1         0         0         0   \n",
       "3  14.395        75  14.554917     13         1         0         0         0   \n",
       "4  14.395        75  14.554917      1         1         0         0         0   \n",
       "5  12.880        75   6.003200      1         1         0         0         0   \n",
       "6  13.635        80  14.554917      2         1         0         0         0   \n",
       "7  12.880        86  14.554917      3         1         0         0         0   \n",
       "8  14.395        75  14.554917      8         1         0         0         0   \n",
       "9  17.425        76  14.554917     14         1         0         0         0   \n",
       "\n",
       "   holiday_0  holiday_1   ...     hour_14  hour_15  hour_16  hour_17  hour_18  \\\n",
       "0          1          0   ...           0        0        0        0        0   \n",
       "1          1          0   ...           0        0        0        0        0   \n",
       "2          1          0   ...           0        0        0        0        0   \n",
       "3          1          0   ...           0        0        0        0        0   \n",
       "4          1          0   ...           0        0        0        0        0   \n",
       "5          1          0   ...           0        0        0        0        0   \n",
       "6          1          0   ...           0        0        0        0        0   \n",
       "7          1          0   ...           0        0        0        0        0   \n",
       "8          1          0   ...           0        0        0        0        0   \n",
       "9          1          0   ...           0        0        0        0        0   \n",
       "\n",
       "   hour_19  hour_20  hour_21  hour_22  hour_23  \n",
       "0        0        0        0        0        0  \n",
       "1        0        0        0        0        0  \n",
       "2        0        0        0        0        0  \n",
       "3        0        0        0        0        0  \n",
       "4        0        0        0        0        0  \n",
       "5        0        0        0        0        0  \n",
       "6        0        0        0        0        0  \n",
       "7        0        0        0        0        0  \n",
       "8        0        0        0        0        0  \n",
       "9        0        0        0        0        0  \n",
       "\n",
       "[10 rows x 54 columns]"
      ]
     },
     "execution_count": 50,
     "metadata": {},
     "output_type": "execute_result"
    }
   ],
   "source": [
    "encoded_train.head(10)"
   ]
  },
  {
   "cell_type": "code",
   "execution_count": 51,
   "metadata": {},
   "outputs": [
    {
     "data": {
      "text/plain": [
       "Index(['atemp', 'humidity', 'windspeed', 'count', 'season_1', 'season_2',\n",
       "       'season_3', 'season_4', 'holiday_0', 'holiday_1', 'workingday_0',\n",
       "       'workingday_1', 'weather_1', 'weather_2', 'weather_3', 'weather_4',\n",
       "       'year_2011', 'year_2012', 'month_1', 'month_2', 'month_3', 'month_4',\n",
       "       'month_5', 'month_6', 'month_7', 'month_8', 'month_9', 'month_10',\n",
       "       'month_11', 'month_12', 'hour_0', 'hour_1', 'hour_2', 'hour_3',\n",
       "       'hour_4', 'hour_5', 'hour_6', 'hour_7', 'hour_8', 'hour_9', 'hour_10',\n",
       "       'hour_11', 'hour_12', 'hour_13', 'hour_14', 'hour_15', 'hour_16',\n",
       "       'hour_17', 'hour_18', 'hour_19', 'hour_20', 'hour_21', 'hour_22',\n",
       "       'hour_23'],\n",
       "      dtype='object')"
      ]
     },
     "execution_count": 51,
     "metadata": {},
     "output_type": "execute_result"
    }
   ],
   "source": [
    "encoded_train.columns"
   ]
  },
  {
   "cell_type": "markdown",
   "metadata": {},
   "source": [
    "## Време е за модели!"
   ]
  },
  {
   "cell_type": "code",
   "execution_count": 62,
   "metadata": {},
   "outputs": [
    {
     "name": "stdout",
     "output_type": "stream",
     "text": [
      "[ 0.93705541  0.94404146  0.94352684  0.94401096]\n",
      "Mean: 0.9421586693450518\n",
      "Std:  0.002953429865807454\n",
      "[  6.69134569e-01   6.97172042e-01   6.92422664e-01  -1.25129492e+14]\n",
      "Mean: -31282372876284.387\n",
      "Std:  54182659203040.305\n"
     ]
    }
   ],
   "source": [
    "from sklearn.model_selection import KFold\n",
    "from sklearn.model_selection import cross_val_score\n",
    "\n",
    "encoded_train_no_count = encoded_train.drop('count', axis=1)\n",
    "encoded_train_count = encoded_train['count']\n",
    "\n",
    "train_no_count = transformed_train.drop('count', axis=1)\n",
    "train_count = transformed_train['count']\n",
    "\n",
    "rfrgr = RandomForestRegressor(n_jobs=2, n_estimators=100)\n",
    "scores = cross_val_score(rfrgr, \n",
    "                         train_no_count, \n",
    "                         train_count, \n",
    "                         cv = KFold(n_splits = 4, shuffle = True, random_state=1000), \n",
    "                         n_jobs=2)\n",
    "print(scores)\n",
    "print(\"Mean: {}\".format(scores.mean()))\n",
    "print(\"Std:  {}\".format(scores.std()))\n",
    "\n",
    "\n",
    "lrgr = LinearRegression()\n",
    "scores = cross_val_score(lrgr, \n",
    "                         encoded_train_no_count, \n",
    "                         encoded_train_count, \n",
    "                         cv = KFold(n_splits = 4, shuffle = True, random_state=1000), \n",
    "                         n_jobs=2, \n",
    "                         scoring='r2')\n",
    "print(scores)\n",
    "print(\"Mean: {}\".format(scores.mean()))\n",
    "print(\"Std:  {}\".format(scores.std()))\n"
   ]
  },
  {
   "cell_type": "markdown",
   "metadata": {},
   "source": [
    "Доста подобрихме линейната регресия(0.69 score, не знам защо излиза в такъв формат, а този последният резултат е много странен и не успях да си го обясня). Нека да пробваме с регуляризация."
   ]
  },
  {
   "cell_type": "code",
   "execution_count": 63,
   "metadata": {},
   "outputs": [
    {
     "name": "stdout",
     "output_type": "stream",
     "text": [
      "alpha: 1e-05\n",
      "0.700375559109 0.675116196154\n",
      "\n",
      "alpha: 0.001\n",
      "0.700375559042 0.675116318639\n",
      "\n",
      "alpha: 0.01\n",
      "0.700375552505 0.675117429094\n",
      "\n",
      "alpha: 0.1\n",
      "0.700374972063 0.675128249484\n",
      "\n",
      "alpha: 1\n",
      "0.700349779635 0.675217879749\n",
      "\n",
      "alpha: 10\n",
      "0.699739499643 0.675437110566\n",
      "\n",
      "alpha: 100\n",
      "0.671348467119 0.651872249985\n",
      "\n"
     ]
    }
   ],
   "source": [
    "from sklearn.linear_model import Ridge\n",
    "from sklearn.model_selection import train_test_split\n",
    "\n",
    "X_train, X_test, y_train, y_test = train_test_split(encoded_train_no_count, encoded_train_count, test_size=0.3, random_state=1234)\n",
    "\n",
    "alpha = [0.00001, 0.001, 0.01, 0.1, 1, 10, 100]\n",
    "\n",
    "for a in alpha:\n",
    "    ridge = Ridge(alpha = a).fit(X_train, y_train)\n",
    "    print('alpha:', a)\n",
    "    print(ridge.score(X_train, y_train), ridge.score(X_test, y_test))\n",
    "    print()"
   ]
  },
  {
   "cell_type": "code",
   "execution_count": 64,
   "metadata": {},
   "outputs": [
    {
     "name": "stdout",
     "output_type": "stream",
     "text": [
      "alpha: 0.01\n",
      "0.700349024849 0.675154035545\n",
      "\n",
      "alpha: 0.1\n",
      "0.69994737011 0.67506360469\n",
      "\n",
      "alpha: 1\n",
      "0.676850832204 0.65501669857\n",
      "\n",
      "alpha: 10\n",
      "0.288917288869 0.280195636648\n",
      "\n",
      "alpha: 100\n",
      "0.239857409529 0.233919163332\n",
      "\n"
     ]
    }
   ],
   "source": [
    "from sklearn.linear_model import Lasso\n",
    "\n",
    "alpha = [0.01, 0.1, 1, 10, 100]\n",
    "\n",
    "for a in alpha:\n",
    "    lasso = Lasso(alpha = a).fit(X_train, y_train)\n",
    "    print('alpha:', a)\n",
    "    print(lasso.score(X_train, y_train), lasso.score(X_test, y_test))\n",
    "    print()"
   ]
  },
  {
   "cell_type": "markdown",
   "metadata": {},
   "source": [
    "Без особен успех .. "
   ]
  },
  {
   "cell_type": "markdown",
   "metadata": {},
   "source": [
    "Изглежда Random Forest е нашият модел. Нека да го GridSearch крос валидираме. Ще ползваме данните, които не са encode-нати, защото така е по-добре за RF(според хората в интернет)."
   ]
  },
  {
   "cell_type": "code",
   "execution_count": 66,
   "metadata": {},
   "outputs": [
    {
     "data": {
      "text/html": [
       "<div>\n",
       "<style>\n",
       "    .dataframe thead tr:only-child th {\n",
       "        text-align: right;\n",
       "    }\n",
       "\n",
       "    .dataframe thead th {\n",
       "        text-align: left;\n",
       "    }\n",
       "\n",
       "    .dataframe tbody tr th {\n",
       "        vertical-align: top;\n",
       "    }\n",
       "</style>\n",
       "<table border=\"1\" class=\"dataframe\">\n",
       "  <thead>\n",
       "    <tr style=\"text-align: right;\">\n",
       "      <th></th>\n",
       "      <th>rank_test_score</th>\n",
       "      <th>mean_test_score</th>\n",
       "      <th>params</th>\n",
       "    </tr>\n",
       "  </thead>\n",
       "  <tbody>\n",
       "    <tr>\n",
       "      <th>30</th>\n",
       "      <td>1</td>\n",
       "      <td>0.941996</td>\n",
       "      <td>{'max_depth': 20, 'min_samples_leaf': 1}</td>\n",
       "    </tr>\n",
       "    <tr>\n",
       "      <th>36</th>\n",
       "      <td>2</td>\n",
       "      <td>0.941741</td>\n",
       "      <td>{'max_depth': 25, 'min_samples_leaf': 1}</td>\n",
       "    </tr>\n",
       "    <tr>\n",
       "      <th>31</th>\n",
       "      <td>3</td>\n",
       "      <td>0.941651</td>\n",
       "      <td>{'max_depth': 20, 'min_samples_leaf': 2}</td>\n",
       "    </tr>\n",
       "    <tr>\n",
       "      <th>24</th>\n",
       "      <td>4</td>\n",
       "      <td>0.941643</td>\n",
       "      <td>{'max_depth': 15, 'min_samples_leaf': 1}</td>\n",
       "    </tr>\n",
       "    <tr>\n",
       "      <th>25</th>\n",
       "      <td>5</td>\n",
       "      <td>0.941353</td>\n",
       "      <td>{'max_depth': 15, 'min_samples_leaf': 2}</td>\n",
       "    </tr>\n",
       "    <tr>\n",
       "      <th>37</th>\n",
       "      <td>6</td>\n",
       "      <td>0.941157</td>\n",
       "      <td>{'max_depth': 25, 'min_samples_leaf': 2}</td>\n",
       "    </tr>\n",
       "    <tr>\n",
       "      <th>18</th>\n",
       "      <td>7</td>\n",
       "      <td>0.939039</td>\n",
       "      <td>{'max_depth': 12, 'min_samples_leaf': 1}</td>\n",
       "    </tr>\n",
       "    <tr>\n",
       "      <th>19</th>\n",
       "      <td>8</td>\n",
       "      <td>0.938269</td>\n",
       "      <td>{'max_depth': 12, 'min_samples_leaf': 2}</td>\n",
       "    </tr>\n",
       "    <tr>\n",
       "      <th>38</th>\n",
       "      <td>9</td>\n",
       "      <td>0.930321</td>\n",
       "      <td>{'max_depth': 25, 'min_samples_leaf': 8}</td>\n",
       "    </tr>\n",
       "    <tr>\n",
       "      <th>32</th>\n",
       "      <td>10</td>\n",
       "      <td>0.929968</td>\n",
       "      <td>{'max_depth': 20, 'min_samples_leaf': 8}</td>\n",
       "    </tr>\n",
       "  </tbody>\n",
       "</table>\n",
       "</div>"
      ],
      "text/plain": [
       "    rank_test_score  mean_test_score                                    params\n",
       "30                1         0.941996  {'max_depth': 20, 'min_samples_leaf': 1}\n",
       "36                2         0.941741  {'max_depth': 25, 'min_samples_leaf': 1}\n",
       "31                3         0.941651  {'max_depth': 20, 'min_samples_leaf': 2}\n",
       "24                4         0.941643  {'max_depth': 15, 'min_samples_leaf': 1}\n",
       "25                5         0.941353  {'max_depth': 15, 'min_samples_leaf': 2}\n",
       "37                6         0.941157  {'max_depth': 25, 'min_samples_leaf': 2}\n",
       "18                7         0.939039  {'max_depth': 12, 'min_samples_leaf': 1}\n",
       "19                8         0.938269  {'max_depth': 12, 'min_samples_leaf': 2}\n",
       "38                9         0.930321  {'max_depth': 25, 'min_samples_leaf': 8}\n",
       "32               10         0.929968  {'max_depth': 20, 'min_samples_leaf': 8}"
      ]
     },
     "execution_count": 66,
     "metadata": {},
     "output_type": "execute_result"
    }
   ],
   "source": [
    "search = GridSearchCV(rfrgr, {'min_samples_leaf': [1, 2, 8, 12, 15, 25],\n",
    "                              'max_depth': [6, 8, 10, 12, 15, 20, 25]\n",
    "                             }, cv=KFold(n_splits = 4, shuffle = True, random_state=1000))\n",
    "search.fit(train_no_count, train_count)\n",
    "\n",
    "pd.DataFrame(search.cv_results_)[['rank_test_score', 'mean_test_score', 'params']].sort_values(by='rank_test_score').head(10)"
   ]
  },
  {
   "cell_type": "markdown",
   "metadata": {},
   "source": [
    "Остава само да натренираме модела върху цялото train множество и да submit-нем решение в kaggle."
   ]
  },
  {
   "cell_type": "markdown",
   "metadata": {},
   "source": [
    "Трансформираме тест сет-а по същия начин."
   ]
  },
  {
   "cell_type": "code",
   "execution_count": 67,
   "metadata": {},
   "outputs": [],
   "source": [
    "test = pd.read_csv(\"data\\\\test.csv\", index_col = False)\n",
    "datetimecol = test.datetime\n",
    "test['datetime'] = test['datetime'].apply(lambda x:datetime.datetime.strptime(x, '%Y-%m-%d %H:%M:%S'))\n",
    "test['year'] = test['datetime'].apply(lambda x:x.year)\n",
    "test['month'] = test['datetime'].apply(lambda x:x.month)\n",
    "test['day'] = test['datetime'].apply(lambda x:x.day)\n",
    "test['hour'] = test['datetime'].apply(lambda x:x.hour)\n",
    "test = test.drop(['datetime', 'day'], axis=1)\n",
    "test = test.drop(['temp'], axis=1)\n",
    "non_zero_windspeed = test.windspeed.loc[(test.windspeed != 0)]\n",
    "test['windspeed'] = test['windspeed'].replace(to_replace=0,value=non_zero_windspeed.mean())\n",
    "categorical_features = ['season', 'year', 'month', 'hour', 'holiday', 'workingday', 'weather']\n",
    "# for category in categorical_features:\n",
    "#     test[category] = test[category].astype(\"category\")\n",
    "# test = pd.get_dummies(test)"
   ]
  },
  {
   "cell_type": "code",
   "execution_count": 68,
   "metadata": {},
   "outputs": [
    {
     "data": {
      "text/html": [
       "<div>\n",
       "<style>\n",
       "    .dataframe thead tr:only-child th {\n",
       "        text-align: right;\n",
       "    }\n",
       "\n",
       "    .dataframe thead th {\n",
       "        text-align: left;\n",
       "    }\n",
       "\n",
       "    .dataframe tbody tr th {\n",
       "        vertical-align: top;\n",
       "    }\n",
       "</style>\n",
       "<table border=\"1\" class=\"dataframe\">\n",
       "  <thead>\n",
       "    <tr style=\"text-align: right;\">\n",
       "      <th></th>\n",
       "      <th>season</th>\n",
       "      <th>holiday</th>\n",
       "      <th>workingday</th>\n",
       "      <th>weather</th>\n",
       "      <th>atemp</th>\n",
       "      <th>humidity</th>\n",
       "      <th>windspeed</th>\n",
       "      <th>year</th>\n",
       "      <th>month</th>\n",
       "      <th>hour</th>\n",
       "    </tr>\n",
       "  </thead>\n",
       "  <tbody>\n",
       "    <tr>\n",
       "      <th>0</th>\n",
       "      <td>1</td>\n",
       "      <td>0</td>\n",
       "      <td>1</td>\n",
       "      <td>1</td>\n",
       "      <td>11.365</td>\n",
       "      <td>56</td>\n",
       "      <td>26.002700</td>\n",
       "      <td>2011</td>\n",
       "      <td>1</td>\n",
       "      <td>0</td>\n",
       "    </tr>\n",
       "    <tr>\n",
       "      <th>1</th>\n",
       "      <td>1</td>\n",
       "      <td>0</td>\n",
       "      <td>1</td>\n",
       "      <td>1</td>\n",
       "      <td>13.635</td>\n",
       "      <td>56</td>\n",
       "      <td>14.577694</td>\n",
       "      <td>2011</td>\n",
       "      <td>1</td>\n",
       "      <td>1</td>\n",
       "    </tr>\n",
       "    <tr>\n",
       "      <th>2</th>\n",
       "      <td>1</td>\n",
       "      <td>0</td>\n",
       "      <td>1</td>\n",
       "      <td>1</td>\n",
       "      <td>13.635</td>\n",
       "      <td>56</td>\n",
       "      <td>14.577694</td>\n",
       "      <td>2011</td>\n",
       "      <td>1</td>\n",
       "      <td>2</td>\n",
       "    </tr>\n",
       "    <tr>\n",
       "      <th>3</th>\n",
       "      <td>1</td>\n",
       "      <td>0</td>\n",
       "      <td>1</td>\n",
       "      <td>1</td>\n",
       "      <td>12.880</td>\n",
       "      <td>56</td>\n",
       "      <td>11.001400</td>\n",
       "      <td>2011</td>\n",
       "      <td>1</td>\n",
       "      <td>3</td>\n",
       "    </tr>\n",
       "    <tr>\n",
       "      <th>4</th>\n",
       "      <td>1</td>\n",
       "      <td>0</td>\n",
       "      <td>1</td>\n",
       "      <td>1</td>\n",
       "      <td>12.880</td>\n",
       "      <td>56</td>\n",
       "      <td>11.001400</td>\n",
       "      <td>2011</td>\n",
       "      <td>1</td>\n",
       "      <td>4</td>\n",
       "    </tr>\n",
       "    <tr>\n",
       "      <th>5</th>\n",
       "      <td>1</td>\n",
       "      <td>0</td>\n",
       "      <td>1</td>\n",
       "      <td>1</td>\n",
       "      <td>11.365</td>\n",
       "      <td>60</td>\n",
       "      <td>15.001300</td>\n",
       "      <td>2011</td>\n",
       "      <td>1</td>\n",
       "      <td>5</td>\n",
       "    </tr>\n",
       "    <tr>\n",
       "      <th>6</th>\n",
       "      <td>1</td>\n",
       "      <td>0</td>\n",
       "      <td>1</td>\n",
       "      <td>1</td>\n",
       "      <td>10.605</td>\n",
       "      <td>60</td>\n",
       "      <td>15.001300</td>\n",
       "      <td>2011</td>\n",
       "      <td>1</td>\n",
       "      <td>6</td>\n",
       "    </tr>\n",
       "    <tr>\n",
       "      <th>7</th>\n",
       "      <td>1</td>\n",
       "      <td>0</td>\n",
       "      <td>1</td>\n",
       "      <td>1</td>\n",
       "      <td>10.605</td>\n",
       "      <td>55</td>\n",
       "      <td>15.001300</td>\n",
       "      <td>2011</td>\n",
       "      <td>1</td>\n",
       "      <td>7</td>\n",
       "    </tr>\n",
       "    <tr>\n",
       "      <th>8</th>\n",
       "      <td>1</td>\n",
       "      <td>0</td>\n",
       "      <td>1</td>\n",
       "      <td>1</td>\n",
       "      <td>10.605</td>\n",
       "      <td>55</td>\n",
       "      <td>19.001200</td>\n",
       "      <td>2011</td>\n",
       "      <td>1</td>\n",
       "      <td>8</td>\n",
       "    </tr>\n",
       "    <tr>\n",
       "      <th>9</th>\n",
       "      <td>1</td>\n",
       "      <td>0</td>\n",
       "      <td>1</td>\n",
       "      <td>2</td>\n",
       "      <td>11.365</td>\n",
       "      <td>52</td>\n",
       "      <td>15.001300</td>\n",
       "      <td>2011</td>\n",
       "      <td>1</td>\n",
       "      <td>9</td>\n",
       "    </tr>\n",
       "  </tbody>\n",
       "</table>\n",
       "</div>"
      ],
      "text/plain": [
       "   season  holiday  workingday  weather   atemp  humidity  windspeed  year  \\\n",
       "0       1        0           1        1  11.365        56  26.002700  2011   \n",
       "1       1        0           1        1  13.635        56  14.577694  2011   \n",
       "2       1        0           1        1  13.635        56  14.577694  2011   \n",
       "3       1        0           1        1  12.880        56  11.001400  2011   \n",
       "4       1        0           1        1  12.880        56  11.001400  2011   \n",
       "5       1        0           1        1  11.365        60  15.001300  2011   \n",
       "6       1        0           1        1  10.605        60  15.001300  2011   \n",
       "7       1        0           1        1  10.605        55  15.001300  2011   \n",
       "8       1        0           1        1  10.605        55  19.001200  2011   \n",
       "9       1        0           1        2  11.365        52  15.001300  2011   \n",
       "\n",
       "   month  hour  \n",
       "0      1     0  \n",
       "1      1     1  \n",
       "2      1     2  \n",
       "3      1     3  \n",
       "4      1     4  \n",
       "5      1     5  \n",
       "6      1     6  \n",
       "7      1     7  \n",
       "8      1     8  \n",
       "9      1     9  "
      ]
     },
     "execution_count": 68,
     "metadata": {},
     "output_type": "execute_result"
    }
   ],
   "source": [
    "test.head(10)"
   ]
  },
  {
   "cell_type": "code",
   "execution_count": 69,
   "metadata": {},
   "outputs": [
    {
     "data": {
      "text/plain": [
       "RandomForestRegressor(bootstrap=True, criterion='mse', max_depth=20,\n",
       "           max_features='auto', max_leaf_nodes=None,\n",
       "           min_impurity_decrease=0.0, min_impurity_split=None,\n",
       "           min_samples_leaf=1, min_samples_split=2,\n",
       "           min_weight_fraction_leaf=0.0, n_estimators=100, n_jobs=2,\n",
       "           oob_score=False, random_state=None, verbose=0, warm_start=False)"
      ]
     },
     "execution_count": 69,
     "metadata": {},
     "output_type": "execute_result"
    }
   ],
   "source": [
    "rfrgr = RandomForestRegressor(n_jobs=2, n_estimators=100, max_depth=20, min_samples_leaf=1)\n",
    "rfrgr.fit(train_no_count, train_count)"
   ]
  },
  {
   "cell_type": "code",
   "execution_count": 70,
   "metadata": {},
   "outputs": [],
   "source": [
    "submission = pd.DataFrame({\n",
    "        \"datetime\": datetimecol,\n",
    "        \"count\": rfrgr.predict(test)\n",
    "    })\n",
    "submission.to_csv('data\\\\bike-sharing-submission.csv', index=False)"
   ]
  },
  {
   "cell_type": "markdown",
   "metadata": {},
   "source": [
    "### Класиране: 1200 от 3200"
   ]
  },
  {
   "cell_type": "markdown",
   "metadata": {},
   "source": [
    "# Заключение\n",
    "\n",
    "Data set-a не беше особено предизвикателен(все пак го избрах след като google-нах нещо от сорта на: \"data sets for begginers\"), но беше добър като за начало. Може би логично RF се справи драстично по-добре, защото научи зависимости, които всеки можеше да очаква(пример: сутрин в 8 и вечер в 6 в работните дни има най-много потребление на колелета; в студените месеци се ползват по-малко колелета и т.н.). Нямаше място за много feature engineering, но си струваше да визуализирам данните, защото това беше полезно упражнение. "
   ]
  }
 ],
 "metadata": {
  "kernelspec": {
   "display_name": "Python 3",
   "language": "python",
   "name": "python3"
  },
  "language_info": {
   "codemirror_mode": {
    "name": "ipython",
    "version": 3
   },
   "file_extension": ".py",
   "mimetype": "text/x-python",
   "name": "python",
   "nbconvert_exporter": "python",
   "pygments_lexer": "ipython3",
   "version": "3.6.3"
  }
 },
 "nbformat": 4,
 "nbformat_minor": 2
}
